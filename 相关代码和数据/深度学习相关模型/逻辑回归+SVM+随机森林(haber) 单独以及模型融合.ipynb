{
 "cells": [
  {
   "cell_type": "code",
   "execution_count": 1,
   "metadata": {},
   "outputs": [],
   "source": [
    "from sklearn.linear_model import LogisticRegression\n",
    "from sklearn.metrics import classification_report as report\n",
    "from sklearn.svm import SVC\n",
    "from sklearn.ensemble import VotingClassifier,RandomForestClassifier\n",
    "import matplotlib.pyplot as plt"
   ]
  },
  {
   "cell_type": "code",
   "execution_count": 2,
   "metadata": {},
   "outputs": [],
   "source": [
    "import numpy as np\n",
    "import pandas as pd\n",
    "df = pd.read_csv('data/hiber_train.csv', header = None)\n",
    "data=df.values[1:]\n",
    "data=data.astype(float)\n",
    "X_train=data[:,0:3]\n",
    "y_train=data[:,3]\n",
    "y_train=y_train.astype(int)\n",
    "\n",
    "df = pd.read_csv('data/hiber_test.csv', header = None)\n",
    "data=df.values[1:]\n",
    "data=data.astype(float)\n",
    "X_test=data[:,0:3]\n",
    "y_test=data[:,3]\n",
    "y_test=y_test.astype(int)\n",
    "\n",
    "\n",
    "# y_train = tf.one_hot(y_train,10)\n",
    "# y_test = tf.one_hot(y_test,10)\n",
    "# sess1=tf.Session()\n",
    "# y_train, y_test = sess1.run([y_train,y_test])"
   ]
  },
  {
   "cell_type": "code",
   "execution_count": 3,
   "metadata": {},
   "outputs": [],
   "source": [
    "lr_clf=LogisticRegression(max_iter=3000)\n",
    "svm_clf=SVC()\n",
    "rf_clf=RandomForestClassifier(\n",
    "    n_estimators=21,\n",
    "    criterion=\"gini\",\n",
    "    max_depth=4,\n",
    "    random_state=0)"
   ]
  },
  {
   "cell_type": "code",
   "execution_count": 4,
   "metadata": {},
   "outputs": [
    {
     "name": "stderr",
     "output_type": "stream",
     "text": [
      "E:\\Anaconda3\\lib\\site-packages\\sklearn\\linear_model\\logistic.py:432: FutureWarning: Default solver will be changed to 'lbfgs' in 0.22. Specify a solver to silence this warning.\n",
      "  FutureWarning)\n",
      "E:\\Anaconda3\\lib\\site-packages\\sklearn\\svm\\base.py:193: FutureWarning: The default value of gamma will change from 'auto' to 'scale' in version 0.22 to account better for unscaled features. Set gamma explicitly to 'auto' or 'scale' to avoid this warning.\n",
      "  \"avoid this warning.\", FutureWarning)\n"
     ]
    },
    {
     "data": {
      "text/plain": [
       "RandomForestClassifier(bootstrap=True, class_weight=None, criterion='gini',\n",
       "                       max_depth=4, max_features='auto', max_leaf_nodes=None,\n",
       "                       min_impurity_decrease=0.0, min_impurity_split=None,\n",
       "                       min_samples_leaf=1, min_samples_split=2,\n",
       "                       min_weight_fraction_leaf=0.0, n_estimators=21,\n",
       "                       n_jobs=None, oob_score=False, random_state=0, verbose=0,\n",
       "                       warm_start=False)"
      ]
     },
     "execution_count": 4,
     "metadata": {},
     "output_type": "execute_result"
    }
   ],
   "source": [
    "lr_clf.fit(X_train,y_train)\n",
    "svm_clf.fit(X_train,y_train)\n",
    "rf_clf.fit(X_train,y_train)"
   ]
  },
  {
   "cell_type": "code",
   "execution_count": 5,
   "metadata": {},
   "outputs": [],
   "source": [
    "lr_pred=lr_clf.predict(X_test)\n",
    "svm_pred=svm_clf.predict(X_test)\n",
    "rf_pred=rf_clf.predict(X_test)"
   ]
  },
  {
   "cell_type": "code",
   "execution_count": 6,
   "metadata": {},
   "outputs": [
    {
     "name": "stdout",
     "output_type": "stream",
     "text": [
      "lr:\n",
      "               precision    recall  f1-score   support\n",
      "\n",
      "           1       0.77      0.98      0.86        45\n",
      "           2       0.75      0.19      0.30        16\n",
      "\n",
      "    accuracy                           0.77        61\n",
      "   macro avg       0.76      0.58      0.58        61\n",
      "weighted avg       0.77      0.77      0.72        61\n",
      "\n",
      "svm:\n",
      "               precision    recall  f1-score   support\n",
      "\n",
      "           1       0.74      1.00      0.85        45\n",
      "           2       0.00      0.00      0.00        16\n",
      "\n",
      "    accuracy                           0.74        61\n",
      "   macro avg       0.37      0.50      0.42        61\n",
      "weighted avg       0.54      0.74      0.63        61\n",
      "\n",
      "rf:\n",
      "               precision    recall  f1-score   support\n",
      "\n",
      "           1       0.77      0.98      0.86        45\n",
      "           2       0.75      0.19      0.30        16\n",
      "\n",
      "    accuracy                           0.77        61\n",
      "   macro avg       0.76      0.58      0.58        61\n",
      "weighted avg       0.77      0.77      0.72        61\n",
      "\n"
     ]
    },
    {
     "name": "stderr",
     "output_type": "stream",
     "text": [
      "E:\\Anaconda3\\lib\\site-packages\\sklearn\\metrics\\classification.py:1437: UndefinedMetricWarning: Precision and F-score are ill-defined and being set to 0.0 in labels with no predicted samples.\n",
      "  'precision', 'predicted', average, warn_for)\n"
     ]
    }
   ],
   "source": [
    "print('lr:\\n',report(y_test,lr_pred))\n",
    "print('svm:\\n',report(y_test,svm_pred))\n",
    "print('rf:\\n',report(y_test, rf_pred))"
   ]
  },
  {
   "cell_type": "code",
   "execution_count": 7,
   "metadata": {},
   "outputs": [],
   "source": [
    "esb_clf=VotingClassifier(estimators=[\n",
    "    ('rf_clf',rf_clf),\n",
    "    ('svm_clf',SVC(probability=True)),\n",
    "    ('lr_clf',lr_clf)],\n",
    "    weights=[1,1,0.8],\n",
    "    voting='soft')\n",
    "esb_clf2=VotingClassifier(estimators=[\n",
    "    ('rf_clf',rf_clf),\n",
    "    ('svm_clf',SVC(probability=True)),\n",
    "    ('lr_clf',lr_clf)],\n",
    "    weights=[1,1,0.8],\n",
    "    voting='hard')"
   ]
  },
  {
   "cell_type": "code",
   "execution_count": 8,
   "metadata": {},
   "outputs": [
    {
     "name": "stderr",
     "output_type": "stream",
     "text": [
      "E:\\Anaconda3\\lib\\site-packages\\sklearn\\svm\\base.py:193: FutureWarning: The default value of gamma will change from 'auto' to 'scale' in version 0.22 to account better for unscaled features. Set gamma explicitly to 'auto' or 'scale' to avoid this warning.\n",
      "  \"avoid this warning.\", FutureWarning)\n",
      "E:\\Anaconda3\\lib\\site-packages\\sklearn\\linear_model\\logistic.py:432: FutureWarning: Default solver will be changed to 'lbfgs' in 0.22. Specify a solver to silence this warning.\n",
      "  FutureWarning)\n",
      "E:\\Anaconda3\\lib\\site-packages\\sklearn\\svm\\base.py:193: FutureWarning: The default value of gamma will change from 'auto' to 'scale' in version 0.22 to account better for unscaled features. Set gamma explicitly to 'auto' or 'scale' to avoid this warning.\n",
      "  \"avoid this warning.\", FutureWarning)\n",
      "E:\\Anaconda3\\lib\\site-packages\\sklearn\\linear_model\\logistic.py:432: FutureWarning: Default solver will be changed to 'lbfgs' in 0.22. Specify a solver to silence this warning.\n",
      "  FutureWarning)\n"
     ]
    }
   ],
   "source": [
    "esb_clf.fit(X_train,y_train)\n",
    "esb_pred=esb_clf.predict(X_test)\n",
    "esb_clf2.fit(X_train,y_train)\n",
    "esb_pred2=esb_clf2.predict(X_test)"
   ]
  },
  {
   "cell_type": "code",
   "execution_count": 9,
   "metadata": {},
   "outputs": [
    {
     "name": "stdout",
     "output_type": "stream",
     "text": [
      "ensemble-soft:\n",
      "               precision    recall  f1-score   support\n",
      "\n",
      "           1       0.74      1.00      0.85        45\n",
      "           2       0.00      0.00      0.00        16\n",
      "\n",
      "    accuracy                           0.74        61\n",
      "   macro avg       0.37      0.50      0.42        61\n",
      "weighted avg       0.54      0.74      0.63        61\n",
      "\n",
      "ensemble-hard:\n",
      "               precision    recall  f1-score   support\n",
      "\n",
      "           1       0.76      1.00      0.87        45\n",
      "           2       1.00      0.12      0.22        16\n",
      "\n",
      "    accuracy                           0.77        61\n",
      "   macro avg       0.88      0.56      0.54        61\n",
      "weighted avg       0.82      0.77      0.70        61\n",
      "\n"
     ]
    },
    {
     "name": "stderr",
     "output_type": "stream",
     "text": [
      "E:\\Anaconda3\\lib\\site-packages\\sklearn\\metrics\\classification.py:1437: UndefinedMetricWarning: Precision and F-score are ill-defined and being set to 0.0 in labels with no predicted samples.\n",
      "  'precision', 'predicted', average, warn_for)\n"
     ]
    }
   ],
   "source": [
    "print('ensemble-soft:\\n',report(y_test,esb_pred))\n",
    "print('ensemble-hard:\\n',report(y_test,esb_pred2))"
   ]
  },
  {
   "cell_type": "code",
   "execution_count": null,
   "metadata": {},
   "outputs": [],
   "source": []
  }
 ],
 "metadata": {
  "kernelspec": {
   "display_name": "Python 3",
   "language": "python",
   "name": "python3"
  },
  "language_info": {
   "codemirror_mode": {
    "name": "ipython",
    "version": 3
   },
   "file_extension": ".py",
   "mimetype": "text/x-python",
   "name": "python",
   "nbconvert_exporter": "python",
   "pygments_lexer": "ipython3",
   "version": "3.7.4"
  }
 },
 "nbformat": 4,
 "nbformat_minor": 2
}
