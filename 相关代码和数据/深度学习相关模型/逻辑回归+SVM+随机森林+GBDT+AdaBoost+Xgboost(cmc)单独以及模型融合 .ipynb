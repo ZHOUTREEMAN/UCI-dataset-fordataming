{
 "cells": [
  {
   "cell_type": "code",
   "execution_count": 4,
   "metadata": {},
   "outputs": [],
   "source": [
    "from sklearn.linear_model import LogisticRegression\n",
    "from sklearn.metrics import classification_report as report\n",
    "from sklearn.svm import SVC\n",
    "from sklearn.ensemble import VotingClassifier,RandomForestClassifier\n",
    "from sklearn.ensemble import GradientBoostingClassifier\n",
    "from sklearn.ensemble import AdaBoostClassifier\n",
    "from sklearn.tree import DecisionTreeClassifier\n",
    "from xgboost import XGBClassifier\n",
    "from xgboost import plot_importance\n",
    "import matplotlib.pyplot as plt"
   ]
  },
  {
   "cell_type": "code",
   "execution_count": 5,
   "metadata": {},
   "outputs": [],
   "source": [
    "import numpy as np\n",
    "import pandas as pd\n",
    "df = pd.read_csv('data/cmc_train.csv', header = None)\n",
    "data=df.values[1:]\n",
    "data=data.astype(float)\n",
    "X_train=data[:,0:9]\n",
    "y_train=data[:,9]\n",
    "y_train=y_train.astype(int)\n",
    "\n",
    "df = pd.read_csv('data/cmc_test.csv', header = None)\n",
    "data=df.values[1:]\n",
    "data=data.astype(float)\n",
    "X_test=data[:,0:9]\n",
    "y_test=data[:,9]\n",
    "y_test=y_test.astype(int)\n",
    "\n",
    "\n",
    "# y_train = tf.one_hot(y_train,10)\n",
    "# y_test = tf.one_hot(y_test,10)\n",
    "# sess1=tf.Session()\n",
    "# y_train, y_test = sess1.run([y_train,y_test])"
   ]
  },
  {
   "cell_type": "code",
   "execution_count": 30,
   "metadata": {},
   "outputs": [],
   "source": [
    "lr_clf=LogisticRegression(max_iter=3000)\n",
    "svm_clf=SVC()\n",
    "rf_clf=RandomForestClassifier(\n",
    "    n_estimators=21,\n",
    "    criterion=\"gini\",\n",
    "    max_depth=4,\n",
    "    random_state=0)\n",
    "\n",
    "gbr = GradientBoostingClassifier(n_estimators=30000, max_depth=2, min_samples_split=2, learning_rate=0.01)\n",
    "bdt = AdaBoostClassifier(DecisionTreeClassifier(max_depth=None, min_samples_split=20, min_samples_leaf=21),\n",
    "                         algorithm=\"SAMME\",\n",
    "                         n_estimators=200, learning_rate=0.8)\n",
    "xgb = XGBClassifier(learning_rate=0.01,max_depth=10)"
   ]
  },
  {
   "cell_type": "code",
   "execution_count": null,
   "metadata": {},
   "outputs": [],
   "source": [
    "lr_clf.fit(X_train,y_train)\n",
    "svm_clf.fit(X_train,y_train)\n",
    "rf_clf.fit(X_train,y_train)\n",
    "gbr.fit(X_train, y_train.ravel())\n",
    "bdt.fit(X_train,y_train)\n",
    "eval_set = [(X_test, y_test)]\n",
    "xgb.fit(X_train, y_train, early_stopping_rounds=10, eval_metric=\"mlogloss\", eval_set=eval_set, verbose=False)"
   ]
  },
  {
   "cell_type": "code",
   "execution_count": 32,
   "metadata": {},
   "outputs": [],
   "source": [
    "lr_pred=lr_clf.predict(X_test)\n",
    "svm_pred=svm_clf.predict(X_test)\n",
    "rf_pred=rf_clf.predict(X_test)\n",
    "gbr_pred = gbr.predict(X_test)\n",
    "bdt_pred = bdt.predict(X_test)\n",
    "xgb_pred = xgb.predict(X_test)"
   ]
  },
  {
   "cell_type": "code",
   "execution_count": 33,
   "metadata": {},
   "outputs": [
    {
     "name": "stdout",
     "output_type": "stream",
     "text": [
      "lr:\n",
      "               precision    recall  f1-score   support\n",
      "\n",
      "           1       0.57      0.55      0.56        84\n",
      "           2       0.42      0.38      0.40        55\n",
      "           3       0.44      0.49      0.46        82\n",
      "\n",
      "    accuracy                           0.48       221\n",
      "   macro avg       0.48      0.47      0.47       221\n",
      "weighted avg       0.49      0.48      0.48       221\n",
      "\n",
      "svm:\n",
      "               precision    recall  f1-score   support\n",
      "\n",
      "           1       0.47      0.38      0.42        84\n",
      "           2       0.39      0.47      0.43        55\n",
      "           3       0.45      0.48      0.46        82\n",
      "\n",
      "    accuracy                           0.44       221\n",
      "   macro avg       0.44      0.44      0.44       221\n",
      "weighted avg       0.44      0.44      0.44       221\n",
      "\n",
      "rf:\n",
      "               precision    recall  f1-score   support\n",
      "\n",
      "           1       0.66      0.45      0.54        84\n",
      "           2       0.49      0.45      0.47        55\n",
      "           3       0.46      0.63      0.54        82\n",
      "\n",
      "    accuracy                           0.52       221\n",
      "   macro avg       0.54      0.51      0.51       221\n",
      "weighted avg       0.54      0.52      0.52       221\n",
      "\n",
      "GBDT:\n",
      "               precision    recall  f1-score   support\n",
      "\n",
      "           1       0.56      0.54      0.55        84\n",
      "           2       0.38      0.45      0.41        55\n",
      "           3       0.47      0.43      0.45        82\n",
      "\n",
      "    accuracy                           0.48       221\n",
      "   macro avg       0.47      0.47      0.47       221\n",
      "weighted avg       0.48      0.48      0.48       221\n",
      "\n",
      "AdaBoost:\n",
      "               precision    recall  f1-score   support\n",
      "\n",
      "           1       0.58      0.58      0.58        84\n",
      "           2       0.45      0.49      0.47        55\n",
      "           3       0.49      0.46      0.48        82\n",
      "\n",
      "    accuracy                           0.52       221\n",
      "   macro avg       0.51      0.51      0.51       221\n",
      "weighted avg       0.52      0.52      0.52       221\n",
      "\n",
      "XgBoost:\n",
      "               precision    recall  f1-score   support\n",
      "\n",
      "           1       0.56      0.55      0.55        84\n",
      "           2       0.46      0.47      0.47        55\n",
      "           3       0.47      0.48      0.47        82\n",
      "\n",
      "    accuracy                           0.50       221\n",
      "   macro avg       0.50      0.50      0.50       221\n",
      "weighted avg       0.50      0.50      0.50       221\n",
      "\n"
     ]
    }
   ],
   "source": [
    "print('lr:\\n',report(y_test,lr_pred))\n",
    "print('svm:\\n',report(y_test,svm_pred))\n",
    "print('rf:\\n',report(y_test, rf_pred))\n",
    "print('GBDT:\\n',report(y_test, gbr_pred))\n",
    "print('AdaBoost:\\n',report(y_test, bdt_pred))\n",
    "print('XgBoost:\\n',report(y_test, xgb_pred))"
   ]
  },
  {
   "cell_type": "code",
   "execution_count": 34,
   "metadata": {},
   "outputs": [],
   "source": [
    "esb_clf=VotingClassifier(estimators=[\n",
    "    ('rf_clf',rf_clf),\n",
    "    ('svm_clf',SVC(probability=True)),\n",
    "    ('lr_clf',lr_clf),\n",
    "    ('GBDT',gbr),\n",
    "    ('AdaBoost',bdt),\n",
    "    ('Xgboost',xgb)\n",
    "    ],\n",
    "    weights=[1,0.6,0.7,0.7,0.9,0.9],\n",
    "    voting='soft')\n",
    "esb_clf2=VotingClassifier(estimators=[\n",
    "    ('rf_clf',rf_clf),\n",
    "    ('svm_clf',SVC(probability=True)),\n",
    "    ('lr_clf',lr_clf),\n",
    "    ('GBDT',gbr),\n",
    "    ('AdaBoost',bdt),\n",
    "    ('Xgboost',xgb)],\n",
    "    weights=[1,0.6,0.7,0.7,0.9,0.9],\n",
    "    voting='hard')"
   ]
  },
  {
   "cell_type": "code",
   "execution_count": 35,
   "metadata": {},
   "outputs": [
    {
     "name": "stderr",
     "output_type": "stream",
     "text": [
      "E:\\Anaconda3\\lib\\site-packages\\sklearn\\svm\\base.py:193: FutureWarning: The default value of gamma will change from 'auto' to 'scale' in version 0.22 to account better for unscaled features. Set gamma explicitly to 'auto' or 'scale' to avoid this warning.\n",
      "  \"avoid this warning.\", FutureWarning)\n",
      "E:\\Anaconda3\\lib\\site-packages\\sklearn\\linear_model\\logistic.py:432: FutureWarning: Default solver will be changed to 'lbfgs' in 0.22. Specify a solver to silence this warning.\n",
      "  FutureWarning)\n",
      "E:\\Anaconda3\\lib\\site-packages\\sklearn\\linear_model\\logistic.py:469: FutureWarning: Default multi_class will be changed to 'auto' in 0.22. Specify the multi_class option to silence this warning.\n",
      "  \"this warning.\", FutureWarning)\n",
      "E:\\Anaconda3\\lib\\site-packages\\sklearn\\svm\\base.py:193: FutureWarning: The default value of gamma will change from 'auto' to 'scale' in version 0.22 to account better for unscaled features. Set gamma explicitly to 'auto' or 'scale' to avoid this warning.\n",
      "  \"avoid this warning.\", FutureWarning)\n",
      "E:\\Anaconda3\\lib\\site-packages\\sklearn\\linear_model\\logistic.py:432: FutureWarning: Default solver will be changed to 'lbfgs' in 0.22. Specify a solver to silence this warning.\n",
      "  FutureWarning)\n",
      "E:\\Anaconda3\\lib\\site-packages\\sklearn\\linear_model\\logistic.py:469: FutureWarning: Default multi_class will be changed to 'auto' in 0.22. Specify the multi_class option to silence this warning.\n",
      "  \"this warning.\", FutureWarning)\n"
     ]
    }
   ],
   "source": [
    "esb_clf.fit(X_train,y_train)\n",
    "esb_pred=esb_clf.predict(X_test)\n",
    "esb_clf2.fit(X_train,y_train)\n",
    "esb_pred2=esb_clf2.predict(X_test)"
   ]
  },
  {
   "cell_type": "code",
   "execution_count": 36,
   "metadata": {},
   "outputs": [
    {
     "name": "stdout",
     "output_type": "stream",
     "text": [
      "ensemble-soft:\n",
      "               precision    recall  f1-score   support\n",
      "\n",
      "           1       0.58      0.58      0.58        84\n",
      "           2       0.44      0.40      0.42        55\n",
      "           3       0.47      0.50      0.49        82\n",
      "\n",
      "    accuracy                           0.51       221\n",
      "   macro avg       0.50      0.49      0.50       221\n",
      "weighted avg       0.51      0.51      0.51       221\n",
      "\n",
      "ensemble-hard:\n",
      "               precision    recall  f1-score   support\n",
      "\n",
      "           1       0.64      0.55      0.59        84\n",
      "           2       0.45      0.45      0.45        55\n",
      "           3       0.48      0.55      0.51        82\n",
      "\n",
      "    accuracy                           0.52       221\n",
      "   macro avg       0.52      0.52      0.52       221\n",
      "weighted avg       0.53      0.52      0.53       221\n",
      "\n"
     ]
    }
   ],
   "source": [
    "print('ensemble-soft:\\n',report(y_test,esb_pred))\n",
    "print('ensemble-hard:\\n',report(y_test,esb_pred2))"
   ]
  },
  {
   "cell_type": "code",
   "execution_count": null,
   "metadata": {},
   "outputs": [],
   "source": []
  }
 ],
 "metadata": {
  "kernelspec": {
   "display_name": "Python 3",
   "language": "python",
   "name": "python3"
  },
  "language_info": {
   "codemirror_mode": {
    "name": "ipython",
    "version": 3
   },
   "file_extension": ".py",
   "mimetype": "text/x-python",
   "name": "python",
   "nbconvert_exporter": "python",
   "pygments_lexer": "ipython3",
   "version": "3.7.4"
  }
 },
 "nbformat": 4,
 "nbformat_minor": 2
}
