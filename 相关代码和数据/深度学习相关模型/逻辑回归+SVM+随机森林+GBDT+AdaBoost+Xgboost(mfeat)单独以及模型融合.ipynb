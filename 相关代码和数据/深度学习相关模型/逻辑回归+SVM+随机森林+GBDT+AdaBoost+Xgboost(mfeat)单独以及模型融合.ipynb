{
 "cells": [
  {
   "cell_type": "code",
   "execution_count": 1,
   "metadata": {},
   "outputs": [],
   "source": [
    "from sklearn.linear_model import LogisticRegression\n",
    "from sklearn.metrics import classification_report as report\n",
    "from sklearn.svm import SVC\n",
    "from sklearn.ensemble import VotingClassifier,RandomForestClassifier\n",
    "from sklearn.ensemble import GradientBoostingClassifier\n",
    "from sklearn.ensemble import AdaBoostClassifier\n",
    "from sklearn.tree import DecisionTreeClassifier\n",
    "from xgboost import XGBClassifier\n",
    "from xgboost import plot_importance\n",
    "import matplotlib.pyplot as plt"
   ]
  },
  {
   "cell_type": "code",
   "execution_count": 2,
   "metadata": {},
   "outputs": [],
   "source": [
    "import numpy as np\n",
    "import pandas as pd\n",
    "df = pd.read_csv('data/final_train_data.csv', header = None)\n",
    "df = pd.read_csv('cross/train0.csv', header = None)\n",
    "data=df.values[1:]\n",
    "data=data.astype(float)\n",
    "X_train=data[:,0:22]\n",
    "y_train=data[:,22]\n",
    "y_train=y_train.astype(int)\n",
    "\n",
    "df = pd.read_csv('data/final_test_data.csv', header = None)\n",
    "data=df.values[1:]\n",
    "data=data.astype(float)\n",
    "X_test=data[:,0:22]\n",
    "y_test=data[:,22]\n",
    "y_test=y_test.astype(int)\n",
    "\n",
    "\n",
    "# y_train = tf.one_hot(y_train,10)\n",
    "# y_test = tf.one_hot(y_test,10)\n",
    "# sess1=tf.Session()\n",
    "# y_train, y_test = sess1.run([y_train,y_test])"
   ]
  },
  {
   "cell_type": "code",
   "execution_count": 3,
   "metadata": {},
   "outputs": [],
   "source": [
    "lr_clf=LogisticRegression(max_iter=3000)\n",
    "svm_clf=SVC()\n",
    "rf_clf=RandomForestClassifier(\n",
    "    n_estimators=21,\n",
    "    criterion=\"gini\",\n",
    "    max_depth=4,\n",
    "    random_state=0)\n",
    "\n",
    "gbr = GradientBoostingClassifier(n_estimators=30000, max_depth=2, min_samples_split=2, learning_rate=0.01)\n",
    "bdt = AdaBoostClassifier(DecisionTreeClassifier(max_depth=None, min_samples_split=20, min_samples_leaf=21),\n",
    "                         algorithm=\"SAMME\",\n",
    "                         n_estimators=200, learning_rate=0.8)\n",
    "xgb = XGBClassifier(learning_rate=0.01,max_depth=10)"
   ]
  },
  {
   "cell_type": "code",
   "execution_count": 4,
   "metadata": {},
   "outputs": [
    {
     "name": "stderr",
     "output_type": "stream",
     "text": [
      "E:\\Anaconda3\\lib\\site-packages\\sklearn\\linear_model\\logistic.py:432: FutureWarning: Default solver will be changed to 'lbfgs' in 0.22. Specify a solver to silence this warning.\n",
      "  FutureWarning)\n",
      "E:\\Anaconda3\\lib\\site-packages\\sklearn\\linear_model\\logistic.py:469: FutureWarning: Default multi_class will be changed to 'auto' in 0.22. Specify the multi_class option to silence this warning.\n",
      "  \"this warning.\", FutureWarning)\n",
      "E:\\Anaconda3\\lib\\site-packages\\sklearn\\svm\\base.py:193: FutureWarning: The default value of gamma will change from 'auto' to 'scale' in version 0.22 to account better for unscaled features. Set gamma explicitly to 'auto' or 'scale' to avoid this warning.\n",
      "  \"avoid this warning.\", FutureWarning)\n"
     ]
    },
    {
     "data": {
      "text/plain": [
       "XGBClassifier(base_score=0.5, booster='gbtree', colsample_bylevel=1,\n",
       "              colsample_bynode=1, colsample_bytree=1, gamma=0,\n",
       "              learning_rate=0.01, max_delta_step=0, max_depth=10,\n",
       "              min_child_weight=1, missing=None, n_estimators=100, n_jobs=1,\n",
       "              nthread=None, objective='multi:softprob', random_state=0,\n",
       "              reg_alpha=0, reg_lambda=1, scale_pos_weight=1, seed=None,\n",
       "              silent=None, subsample=1, verbosity=1)"
      ]
     },
     "execution_count": 4,
     "metadata": {},
     "output_type": "execute_result"
    }
   ],
   "source": [
    "lr_clf.fit(X_train,y_train)\n",
    "svm_clf.fit(X_train,y_train)\n",
    "rf_clf.fit(X_train,y_train)\n",
    "gbr.fit(X_train, y_train.ravel())\n",
    "bdt.fit(X_train,y_train)\n",
    "eval_set = [(X_test, y_test)]\n",
    "xgb.fit(X_train, y_train, early_stopping_rounds=10, eval_metric=\"mlogloss\", eval_set=eval_set, verbose=False)"
   ]
  },
  {
   "cell_type": "code",
   "execution_count": 5,
   "metadata": {},
   "outputs": [],
   "source": [
    "lr_pred=lr_clf.predict(X_test)\n",
    "svm_pred=svm_clf.predict(X_test)\n",
    "rf_pred=rf_clf.predict(X_test)\n",
    "gbr_pred = gbr.predict(X_test)\n",
    "bdt_pred = bdt.predict(X_test)\n",
    "xgb_pred = xgb.predict(X_test)"
   ]
  },
  {
   "cell_type": "code",
   "execution_count": 6,
   "metadata": {},
   "outputs": [
    {
     "name": "stdout",
     "output_type": "stream",
     "text": [
      "lr:\n",
      "               precision    recall  f1-score   support\n",
      "\n",
      "           0       0.72      0.56      0.63        32\n",
      "           1       0.73      0.59      0.66        32\n",
      "           2       0.94      0.97      0.95        32\n",
      "           3       0.86      0.97      0.91        32\n",
      "           4       0.57      0.53      0.55        32\n",
      "           5       0.50      0.44      0.47        32\n",
      "           6       0.70      1.00      0.82        32\n",
      "           7       0.79      0.94      0.86        32\n",
      "           8       0.80      0.25      0.38        32\n",
      "           9       0.60      0.91      0.72        32\n",
      "\n",
      "    accuracy                           0.72       320\n",
      "   macro avg       0.72      0.72      0.70       320\n",
      "weighted avg       0.72      0.72      0.70       320\n",
      "\n",
      "svm:\n",
      "               precision    recall  f1-score   support\n",
      "\n",
      "           0       0.82      0.28      0.42        32\n",
      "           1       0.86      1.00      0.93        32\n",
      "           2       0.97      0.97      0.97        32\n",
      "           3       0.91      0.91      0.91        32\n",
      "           4       0.94      0.53      0.68        32\n",
      "           5       0.43      0.81      0.56        32\n",
      "           6       0.67      1.00      0.80        32\n",
      "           7       0.97      0.91      0.94        32\n",
      "           8       0.69      0.34      0.46        32\n",
      "           9       0.80      0.88      0.84        32\n",
      "\n",
      "    accuracy                           0.76       320\n",
      "   macro avg       0.80      0.76      0.75       320\n",
      "weighted avg       0.80      0.76      0.75       320\n",
      "\n",
      "rf:\n",
      "               precision    recall  f1-score   support\n",
      "\n",
      "           0       1.00      0.94      0.97        32\n",
      "           1       1.00      1.00      1.00        32\n",
      "           2       0.97      0.97      0.97        32\n",
      "           3       0.84      0.97      0.90        32\n",
      "           4       1.00      1.00      1.00        32\n",
      "           5       0.77      0.72      0.74        32\n",
      "           6       1.00      1.00      1.00        32\n",
      "           7       0.94      0.94      0.94        32\n",
      "           8       1.00      1.00      1.00        32\n",
      "           9       0.97      0.94      0.95        32\n",
      "\n",
      "    accuracy                           0.95       320\n",
      "   macro avg       0.95      0.95      0.95       320\n",
      "weighted avg       0.95      0.95      0.95       320\n",
      "\n",
      "GBDT:\n",
      "               precision    recall  f1-score   support\n",
      "\n",
      "           0       1.00      0.91      0.95        32\n",
      "           1       0.97      0.97      0.97        32\n",
      "           2       1.00      0.97      0.98        32\n",
      "           3       0.91      0.91      0.91        32\n",
      "           4       0.97      0.91      0.94        32\n",
      "           5       0.83      0.91      0.87        32\n",
      "           6       0.89      1.00      0.94        32\n",
      "           7       0.96      0.84      0.90        32\n",
      "           8       0.86      1.00      0.93        32\n",
      "           9       1.00      0.94      0.97        32\n",
      "\n",
      "    accuracy                           0.93       320\n",
      "   macro avg       0.94      0.93      0.93       320\n",
      "weighted avg       0.94      0.93      0.93       320\n",
      "\n",
      "AdaBoost:\n",
      "               precision    recall  f1-score   support\n",
      "\n",
      "           0       1.00      0.97      0.98        32\n",
      "           1       0.94      0.97      0.95        32\n",
      "           2       1.00      0.97      0.98        32\n",
      "           3       1.00      1.00      1.00        32\n",
      "           4       0.97      0.91      0.94        32\n",
      "           5       0.97      1.00      0.98        32\n",
      "           6       0.94      1.00      0.97        32\n",
      "           7       1.00      0.97      0.98        32\n",
      "           8       0.97      1.00      0.98        32\n",
      "           9       0.97      0.97      0.97        32\n",
      "\n",
      "    accuracy                           0.97       320\n",
      "   macro avg       0.98      0.97      0.97       320\n",
      "weighted avg       0.98      0.97      0.97       320\n",
      "\n",
      "XgBoost:\n",
      "               precision    recall  f1-score   support\n",
      "\n",
      "           0       1.00      0.91      0.95        32\n",
      "           1       0.94      0.91      0.92        32\n",
      "           2       0.97      0.97      0.97        32\n",
      "           3       0.71      0.84      0.77        32\n",
      "           4       0.97      0.88      0.92        32\n",
      "           5       0.72      0.56      0.63        32\n",
      "           6       0.86      1.00      0.93        32\n",
      "           7       0.80      0.88      0.84        32\n",
      "           8       0.89      0.97      0.93        32\n",
      "           9       0.97      0.88      0.92        32\n",
      "\n",
      "    accuracy                           0.88       320\n",
      "   macro avg       0.88      0.88      0.88       320\n",
      "weighted avg       0.88      0.88      0.88       320\n",
      "\n"
     ]
    }
   ],
   "source": [
    "print('lr:\\n',report(y_test,lr_pred))\n",
    "print('svm:\\n',report(y_test,svm_pred))\n",
    "print('rf:\\n',report(y_test, rf_pred))\n",
    "print('GBDT:\\n',report(y_test, gbr_pred))\n",
    "print('AdaBoost:\\n',report(y_test, bdt_pred))\n",
    "print('XgBoost:\\n',report(y_test, xgb_pred))"
   ]
  },
  {
   "cell_type": "code",
   "execution_count": 11,
   "metadata": {},
   "outputs": [],
   "source": [
    "esb_clf=VotingClassifier(estimators=[\n",
    "    ('rf_clf',rf_clf),\n",
    "    ('svm_clf',SVC(probability=True)),\n",
    "    ('lr_clf',lr_clf),\n",
    "    ('GBDT',gbr),\n",
    "    ('AdaBoost',bdt),\n",
    "    ('Xgboost',xgb)\n",
    "    ],\n",
    "    weights=[0.6,0.6,0.6,1,2,0.9],\n",
    "    voting='soft')\n",
    "esb_clf2=VotingClassifier(estimators=[\n",
    "    ('rf_clf',rf_clf),\n",
    "    ('svm_clf',SVC(probability=True)),\n",
    "    ('lr_clf',lr_clf),\n",
    "    ('GBDT',gbr),\n",
    "    ('AdaBoost',bdt),\n",
    "    ('Xgboost',xgb)],\n",
    "    weights=[0.6,0.6,0.6,1,2,0.9],\n",
    "    voting='hard')"
   ]
  },
  {
   "cell_type": "code",
   "execution_count": 12,
   "metadata": {},
   "outputs": [
    {
     "name": "stderr",
     "output_type": "stream",
     "text": [
      "E:\\Anaconda3\\lib\\site-packages\\sklearn\\svm\\base.py:193: FutureWarning: The default value of gamma will change from 'auto' to 'scale' in version 0.22 to account better for unscaled features. Set gamma explicitly to 'auto' or 'scale' to avoid this warning.\n",
      "  \"avoid this warning.\", FutureWarning)\n",
      "E:\\Anaconda3\\lib\\site-packages\\sklearn\\linear_model\\logistic.py:432: FutureWarning: Default solver will be changed to 'lbfgs' in 0.22. Specify a solver to silence this warning.\n",
      "  FutureWarning)\n",
      "E:\\Anaconda3\\lib\\site-packages\\sklearn\\linear_model\\logistic.py:469: FutureWarning: Default multi_class will be changed to 'auto' in 0.22. Specify the multi_class option to silence this warning.\n",
      "  \"this warning.\", FutureWarning)\n",
      "E:\\Anaconda3\\lib\\site-packages\\sklearn\\svm\\base.py:193: FutureWarning: The default value of gamma will change from 'auto' to 'scale' in version 0.22 to account better for unscaled features. Set gamma explicitly to 'auto' or 'scale' to avoid this warning.\n",
      "  \"avoid this warning.\", FutureWarning)\n",
      "E:\\Anaconda3\\lib\\site-packages\\sklearn\\linear_model\\logistic.py:432: FutureWarning: Default solver will be changed to 'lbfgs' in 0.22. Specify a solver to silence this warning.\n",
      "  FutureWarning)\n",
      "E:\\Anaconda3\\lib\\site-packages\\sklearn\\linear_model\\logistic.py:469: FutureWarning: Default multi_class will be changed to 'auto' in 0.22. Specify the multi_class option to silence this warning.\n",
      "  \"this warning.\", FutureWarning)\n"
     ]
    }
   ],
   "source": [
    "esb_clf.fit(X_train,y_train)\n",
    "esb_pred=esb_clf.predict(X_test)\n",
    "esb_clf2.fit(X_train,y_train)\n",
    "esb_pred2=esb_clf2.predict(X_test)"
   ]
  },
  {
   "cell_type": "code",
   "execution_count": 13,
   "metadata": {},
   "outputs": [
    {
     "name": "stdout",
     "output_type": "stream",
     "text": [
      "ensemble-soft:\n",
      "               precision    recall  f1-score   support\n",
      "\n",
      "           0       1.00      0.91      0.95        32\n",
      "           1       0.97      0.97      0.97        32\n",
      "           2       1.00      0.97      0.98        32\n",
      "           3       0.94      0.97      0.95        32\n",
      "           4       0.97      0.91      0.94        32\n",
      "           5       0.88      0.91      0.89        32\n",
      "           6       0.89      1.00      0.94        32\n",
      "           7       0.93      0.88      0.90        32\n",
      "           8       0.89      1.00      0.94        32\n",
      "           9       1.00      0.94      0.97        32\n",
      "\n",
      "    accuracy                           0.94       320\n",
      "   macro avg       0.95      0.94      0.94       320\n",
      "weighted avg       0.95      0.94      0.94       320\n",
      "\n",
      "ensemble-hard:\n",
      "               precision    recall  f1-score   support\n",
      "\n",
      "           0       1.00      0.97      0.98        32\n",
      "           1       0.97      0.97      0.97        32\n",
      "           2       1.00      1.00      1.00        32\n",
      "           3       0.97      1.00      0.98        32\n",
      "           4       0.97      0.91      0.94        32\n",
      "           5       0.97      0.97      0.97        32\n",
      "           6       0.91      1.00      0.96        32\n",
      "           7       1.00      0.97      0.98        32\n",
      "           8       1.00      1.00      1.00        32\n",
      "           9       1.00      1.00      1.00        32\n",
      "\n",
      "    accuracy                           0.98       320\n",
      "   macro avg       0.98      0.98      0.98       320\n",
      "weighted avg       0.98      0.98      0.98       320\n",
      "\n"
     ]
    }
   ],
   "source": [
    "print('ensemble-soft:\\n',report(y_test,esb_pred))\n",
    "print('ensemble-hard:\\n',report(y_test,esb_pred2))"
   ]
  },
  {
   "cell_type": "code",
   "execution_count": 14,
   "metadata": {},
   "outputs": [
    {
     "name": "stdout",
     "output_type": "stream",
     "text": [
      "n_folds = 2 f1_score= 0.371875\n",
      "n_folds = 3 f1_score= 0.203125\n",
      "n_folds = 4 f1_score= 0.175\n",
      "n_folds = 5 f1_score= 0.009375\n",
      "n_folds = 6 f1_score= 0.4625\n",
      "n_folds = 7 f1_score= 0.490625\n",
      "n_folds = 8 f1_score= 0.603125\n",
      "n_folds = 9 f1_score= 0.69375\n",
      "n_folds = 10 f1_score= 0.015625\n",
      "n_folds = 11 f1_score= 0.984375\n",
      "n_folds = 12 f1_score= 0.975\n",
      "n_folds = 13 f1_score= 0.984375\n"
     ]
    },
    {
     "ename": "KeyboardInterrupt",
     "evalue": "",
     "output_type": "error",
     "traceback": [
      "\u001b[1;31m---------------------------------------------------------------------------\u001b[0m",
      "\u001b[1;31mKeyboardInterrupt\u001b[0m                         Traceback (most recent call last)",
      "\u001b[1;32m<ipython-input-14-f01927da8c24>\u001b[0m in \u001b[0;36m<module>\u001b[1;34m\u001b[0m\n\u001b[0;32m     10\u001b[0m \u001b[1;33m\u001b[0m\u001b[0m\n\u001b[0;32m     11\u001b[0m \u001b[1;32mfor\u001b[0m \u001b[0mn_fold\u001b[0m \u001b[1;32min\u001b[0m \u001b[0mrange\u001b[0m\u001b[1;33m(\u001b[0m\u001b[1;36m2\u001b[0m\u001b[1;33m,\u001b[0m\u001b[1;36m101\u001b[0m\u001b[1;33m,\u001b[0m \u001b[1;36m1\u001b[0m\u001b[1;33m)\u001b[0m\u001b[1;33m:\u001b[0m\u001b[1;33m\u001b[0m\u001b[1;33m\u001b[0m\u001b[0m\n\u001b[1;32m---> 12\u001b[1;33m     \u001b[0mS_train\u001b[0m\u001b[1;33m,\u001b[0m \u001b[0mS_test\u001b[0m \u001b[1;33m=\u001b[0m \u001b[0mstacking\u001b[0m\u001b[1;33m(\u001b[0m\u001b[0mmodel_list\u001b[0m\u001b[1;33m,\u001b[0m \u001b[0mX_train\u001b[0m\u001b[1;33m,\u001b[0m \u001b[0my_train\u001b[0m\u001b[1;33m,\u001b[0m\u001b[0mX_test\u001b[0m\u001b[1;33m,\u001b[0m \u001b[0mregression\u001b[0m\u001b[1;33m=\u001b[0m\u001b[1;32mFalse\u001b[0m\u001b[1;33m,\u001b[0m \u001b[0mn_folds\u001b[0m\u001b[1;33m=\u001b[0m\u001b[0mn_fold\u001b[0m\u001b[1;33m)\u001b[0m\u001b[1;33m\u001b[0m\u001b[1;33m\u001b[0m\u001b[0m\n\u001b[0m\u001b[0;32m     13\u001b[0m     \u001b[1;31m# # Initialize 2-nd level model\u001b[0m\u001b[1;33m\u001b[0m\u001b[1;33m\u001b[0m\u001b[1;33m\u001b[0m\u001b[0m\n\u001b[0;32m     14\u001b[0m     \u001b[0mmodel\u001b[0m \u001b[1;33m=\u001b[0m \u001b[0mGradientBoostingClassifier\u001b[0m\u001b[1;33m(\u001b[0m\u001b[0mlearning_rate\u001b[0m \u001b[1;33m=\u001b[0m \u001b[1;36m0.1\u001b[0m\u001b[1;33m,\u001b[0m \u001b[0mn_estimators\u001b[0m \u001b[1;33m=\u001b[0m \u001b[1;36m100\u001b[0m\u001b[1;33m,\u001b[0m \u001b[0mmax_depth\u001b[0m \u001b[1;33m=\u001b[0m \u001b[1;36m1\u001b[0m\u001b[1;33m)\u001b[0m\u001b[1;33m\u001b[0m\u001b[1;33m\u001b[0m\u001b[0m\n",
      "\u001b[1;32mE:\\Anaconda3\\lib\\site-packages\\vecstack\\core.py\u001b[0m in \u001b[0;36mstacking\u001b[1;34m(models, X_train, y_train, X_test, sample_weight, regression, transform_target, transform_pred, mode, needs_proba, save_dir, metric, n_folds, stratified, shuffle, random_state, verbose)\u001b[0m\n\u001b[0;32m    574\u001b[0m                 \u001b[1;31m# Fit 1-st level model\u001b[0m\u001b[1;33m\u001b[0m\u001b[1;33m\u001b[0m\u001b[1;33m\u001b[0m\u001b[0m\n\u001b[0;32m    575\u001b[0m                 \u001b[1;32mif\u001b[0m \u001b[0mmode\u001b[0m \u001b[1;32min\u001b[0m \u001b[1;33m[\u001b[0m\u001b[1;34m'pred_bag'\u001b[0m\u001b[1;33m,\u001b[0m \u001b[1;34m'oof'\u001b[0m\u001b[1;33m,\u001b[0m \u001b[1;34m'oof_pred'\u001b[0m\u001b[1;33m,\u001b[0m \u001b[1;34m'B'\u001b[0m\u001b[1;33m,\u001b[0m \u001b[1;34m'oof_pred_bag'\u001b[0m\u001b[1;33m,\u001b[0m \u001b[1;34m'A'\u001b[0m\u001b[1;33m]\u001b[0m\u001b[1;33m:\u001b[0m\u001b[1;33m\u001b[0m\u001b[1;33m\u001b[0m\u001b[0m\n\u001b[1;32m--> 576\u001b[1;33m                     \u001b[0m_\u001b[0m \u001b[1;33m=\u001b[0m \u001b[0mmodel_action\u001b[0m\u001b[1;33m(\u001b[0m\u001b[0mmodel\u001b[0m\u001b[1;33m,\u001b[0m \u001b[0mX_tr\u001b[0m\u001b[1;33m,\u001b[0m \u001b[0my_tr\u001b[0m\u001b[1;33m,\u001b[0m \u001b[1;32mNone\u001b[0m\u001b[1;33m,\u001b[0m \u001b[0msample_weight\u001b[0m \u001b[1;33m=\u001b[0m \u001b[0msample_weight_tr\u001b[0m\u001b[1;33m,\u001b[0m \u001b[0maction\u001b[0m \u001b[1;33m=\u001b[0m \u001b[1;34m'fit'\u001b[0m\u001b[1;33m,\u001b[0m \u001b[0mtransform\u001b[0m \u001b[1;33m=\u001b[0m \u001b[0mtransform_target\u001b[0m\u001b[1;33m)\u001b[0m\u001b[1;33m\u001b[0m\u001b[1;33m\u001b[0m\u001b[0m\n\u001b[0m\u001b[0;32m    577\u001b[0m \u001b[1;33m\u001b[0m\u001b[0m\n\u001b[0;32m    578\u001b[0m                 \u001b[1;31m# Predict out-of-fold part of train set\u001b[0m\u001b[1;33m\u001b[0m\u001b[1;33m\u001b[0m\u001b[1;33m\u001b[0m\u001b[0m\n",
      "\u001b[1;32mE:\\Anaconda3\\lib\\site-packages\\vecstack\\core.py\u001b[0m in \u001b[0;36mmodel_action\u001b[1;34m(model, X_train, y_train, X_test, sample_weight, action, transform)\u001b[0m\n\u001b[0;32m     83\u001b[0m             \u001b[1;32mreturn\u001b[0m \u001b[0mmodel\u001b[0m\u001b[1;33m.\u001b[0m\u001b[0mfit\u001b[0m\u001b[1;33m(\u001b[0m\u001b[0mX_train\u001b[0m\u001b[1;33m,\u001b[0m \u001b[0mtransformer\u001b[0m\u001b[1;33m(\u001b[0m\u001b[0my_train\u001b[0m\u001b[1;33m,\u001b[0m \u001b[0mfunc\u001b[0m \u001b[1;33m=\u001b[0m \u001b[0mtransform\u001b[0m\u001b[1;33m)\u001b[0m\u001b[1;33m,\u001b[0m \u001b[0msample_weight\u001b[0m\u001b[1;33m=\u001b[0m\u001b[0msample_weight\u001b[0m\u001b[1;33m)\u001b[0m\u001b[1;33m\u001b[0m\u001b[1;33m\u001b[0m\u001b[0m\n\u001b[0;32m     84\u001b[0m         \u001b[1;32melse\u001b[0m\u001b[1;33m:\u001b[0m\u001b[1;33m\u001b[0m\u001b[1;33m\u001b[0m\u001b[0m\n\u001b[1;32m---> 85\u001b[1;33m             \u001b[1;32mreturn\u001b[0m \u001b[0mmodel\u001b[0m\u001b[1;33m.\u001b[0m\u001b[0mfit\u001b[0m\u001b[1;33m(\u001b[0m\u001b[0mX_train\u001b[0m\u001b[1;33m,\u001b[0m \u001b[0mtransformer\u001b[0m\u001b[1;33m(\u001b[0m\u001b[0my_train\u001b[0m\u001b[1;33m,\u001b[0m \u001b[0mfunc\u001b[0m \u001b[1;33m=\u001b[0m \u001b[0mtransform\u001b[0m\u001b[1;33m)\u001b[0m\u001b[1;33m)\u001b[0m\u001b[1;33m\u001b[0m\u001b[1;33m\u001b[0m\u001b[0m\n\u001b[0m\u001b[0;32m     86\u001b[0m     \u001b[1;32melif\u001b[0m \u001b[1;34m'predict'\u001b[0m \u001b[1;33m==\u001b[0m \u001b[0maction\u001b[0m\u001b[1;33m:\u001b[0m\u001b[1;33m\u001b[0m\u001b[1;33m\u001b[0m\u001b[0m\n\u001b[0;32m     87\u001b[0m         \u001b[1;32mreturn\u001b[0m \u001b[0mtransformer\u001b[0m\u001b[1;33m(\u001b[0m\u001b[0mmodel\u001b[0m\u001b[1;33m.\u001b[0m\u001b[0mpredict\u001b[0m\u001b[1;33m(\u001b[0m\u001b[0mX_test\u001b[0m\u001b[1;33m)\u001b[0m\u001b[1;33m,\u001b[0m \u001b[0mfunc\u001b[0m \u001b[1;33m=\u001b[0m \u001b[0mtransform\u001b[0m\u001b[1;33m)\u001b[0m\u001b[1;33m\u001b[0m\u001b[1;33m\u001b[0m\u001b[0m\n",
      "\u001b[1;32mE:\\Anaconda3\\lib\\site-packages\\xgboost\\sklearn.py\u001b[0m in \u001b[0;36mfit\u001b[1;34m(self, X, y, sample_weight, eval_set, eval_metric, early_stopping_rounds, verbose, xgb_model, sample_weight_eval_set, callbacks)\u001b[0m\n\u001b[0;32m    730\u001b[0m                               \u001b[0mevals_result\u001b[0m\u001b[1;33m=\u001b[0m\u001b[0mevals_result\u001b[0m\u001b[1;33m,\u001b[0m \u001b[0mobj\u001b[0m\u001b[1;33m=\u001b[0m\u001b[0mobj\u001b[0m\u001b[1;33m,\u001b[0m \u001b[0mfeval\u001b[0m\u001b[1;33m=\u001b[0m\u001b[0mfeval\u001b[0m\u001b[1;33m,\u001b[0m\u001b[1;33m\u001b[0m\u001b[1;33m\u001b[0m\u001b[0m\n\u001b[0;32m    731\u001b[0m                               \u001b[0mverbose_eval\u001b[0m\u001b[1;33m=\u001b[0m\u001b[0mverbose\u001b[0m\u001b[1;33m,\u001b[0m \u001b[0mxgb_model\u001b[0m\u001b[1;33m=\u001b[0m\u001b[0mxgb_model\u001b[0m\u001b[1;33m,\u001b[0m\u001b[1;33m\u001b[0m\u001b[1;33m\u001b[0m\u001b[0m\n\u001b[1;32m--> 732\u001b[1;33m                               callbacks=callbacks)\n\u001b[0m\u001b[0;32m    733\u001b[0m \u001b[1;33m\u001b[0m\u001b[0m\n\u001b[0;32m    734\u001b[0m         \u001b[0mself\u001b[0m\u001b[1;33m.\u001b[0m\u001b[0mobjective\u001b[0m \u001b[1;33m=\u001b[0m \u001b[0mxgb_options\u001b[0m\u001b[1;33m[\u001b[0m\u001b[1;34m\"objective\"\u001b[0m\u001b[1;33m]\u001b[0m\u001b[1;33m\u001b[0m\u001b[1;33m\u001b[0m\u001b[0m\n",
      "\u001b[1;32mE:\\Anaconda3\\lib\\site-packages\\xgboost\\training.py\u001b[0m in \u001b[0;36mtrain\u001b[1;34m(params, dtrain, num_boost_round, evals, obj, feval, maximize, early_stopping_rounds, evals_result, verbose_eval, xgb_model, callbacks, learning_rates)\u001b[0m\n\u001b[0;32m    214\u001b[0m                            \u001b[0mevals\u001b[0m\u001b[1;33m=\u001b[0m\u001b[0mevals\u001b[0m\u001b[1;33m,\u001b[0m\u001b[1;33m\u001b[0m\u001b[1;33m\u001b[0m\u001b[0m\n\u001b[0;32m    215\u001b[0m                            \u001b[0mobj\u001b[0m\u001b[1;33m=\u001b[0m\u001b[0mobj\u001b[0m\u001b[1;33m,\u001b[0m \u001b[0mfeval\u001b[0m\u001b[1;33m=\u001b[0m\u001b[0mfeval\u001b[0m\u001b[1;33m,\u001b[0m\u001b[1;33m\u001b[0m\u001b[1;33m\u001b[0m\u001b[0m\n\u001b[1;32m--> 216\u001b[1;33m                            xgb_model=xgb_model, callbacks=callbacks)\n\u001b[0m\u001b[0;32m    217\u001b[0m \u001b[1;33m\u001b[0m\u001b[0m\n\u001b[0;32m    218\u001b[0m \u001b[1;33m\u001b[0m\u001b[0m\n",
      "\u001b[1;32mE:\\Anaconda3\\lib\\site-packages\\xgboost\\training.py\u001b[0m in \u001b[0;36m_train_internal\u001b[1;34m(params, dtrain, num_boost_round, evals, obj, feval, xgb_model, callbacks)\u001b[0m\n\u001b[0;32m     72\u001b[0m         \u001b[1;31m# Skip the first update if it is a recovery step.\u001b[0m\u001b[1;33m\u001b[0m\u001b[1;33m\u001b[0m\u001b[1;33m\u001b[0m\u001b[0m\n\u001b[0;32m     73\u001b[0m         \u001b[1;32mif\u001b[0m \u001b[0mversion\u001b[0m \u001b[1;33m%\u001b[0m \u001b[1;36m2\u001b[0m \u001b[1;33m==\u001b[0m \u001b[1;36m0\u001b[0m\u001b[1;33m:\u001b[0m\u001b[1;33m\u001b[0m\u001b[1;33m\u001b[0m\u001b[0m\n\u001b[1;32m---> 74\u001b[1;33m             \u001b[0mbst\u001b[0m\u001b[1;33m.\u001b[0m\u001b[0mupdate\u001b[0m\u001b[1;33m(\u001b[0m\u001b[0mdtrain\u001b[0m\u001b[1;33m,\u001b[0m \u001b[0mi\u001b[0m\u001b[1;33m,\u001b[0m \u001b[0mobj\u001b[0m\u001b[1;33m)\u001b[0m\u001b[1;33m\u001b[0m\u001b[1;33m\u001b[0m\u001b[0m\n\u001b[0m\u001b[0;32m     75\u001b[0m             \u001b[0mbst\u001b[0m\u001b[1;33m.\u001b[0m\u001b[0msave_rabit_checkpoint\u001b[0m\u001b[1;33m(\u001b[0m\u001b[1;33m)\u001b[0m\u001b[1;33m\u001b[0m\u001b[1;33m\u001b[0m\u001b[0m\n\u001b[0;32m     76\u001b[0m             \u001b[0mversion\u001b[0m \u001b[1;33m+=\u001b[0m \u001b[1;36m1\u001b[0m\u001b[1;33m\u001b[0m\u001b[1;33m\u001b[0m\u001b[0m\n",
      "\u001b[1;32mE:\\Anaconda3\\lib\\site-packages\\xgboost\\core.py\u001b[0m in \u001b[0;36mupdate\u001b[1;34m(self, dtrain, iteration, fobj)\u001b[0m\n\u001b[0;32m   1107\u001b[0m         \u001b[1;32mif\u001b[0m \u001b[0mfobj\u001b[0m \u001b[1;32mis\u001b[0m \u001b[1;32mNone\u001b[0m\u001b[1;33m:\u001b[0m\u001b[1;33m\u001b[0m\u001b[1;33m\u001b[0m\u001b[0m\n\u001b[0;32m   1108\u001b[0m             _check_call(_LIB.XGBoosterUpdateOneIter(self.handle, ctypes.c_int(iteration),\n\u001b[1;32m-> 1109\u001b[1;33m                                                     dtrain.handle))\n\u001b[0m\u001b[0;32m   1110\u001b[0m         \u001b[1;32melse\u001b[0m\u001b[1;33m:\u001b[0m\u001b[1;33m\u001b[0m\u001b[1;33m\u001b[0m\u001b[0m\n\u001b[0;32m   1111\u001b[0m             \u001b[0mpred\u001b[0m \u001b[1;33m=\u001b[0m \u001b[0mself\u001b[0m\u001b[1;33m.\u001b[0m\u001b[0mpredict\u001b[0m\u001b[1;33m(\u001b[0m\u001b[0mdtrain\u001b[0m\u001b[1;33m)\u001b[0m\u001b[1;33m\u001b[0m\u001b[1;33m\u001b[0m\u001b[0m\n",
      "\u001b[1;31mKeyboardInterrupt\u001b[0m: "
     ]
    }
   ],
   "source": [
    "from vecstack import stacking\n",
    "from sklearn import metrics\n",
    "# 模型融合\n",
    "model_list = [rf_clf,bdt,xgb]\n",
    "rel_n_folds = 0\n",
    "rel_pre = -1\n",
    "x = []\n",
    "y = []\n",
    "rel_pred = []\n",
    "\n",
    "for n_fold in range(2,101, 1):\n",
    "    S_train, S_test = stacking(model_list, X_train, y_train,X_test, regression=False, n_folds=n_fold)\n",
    "    # # Initialize 2-nd level model\n",
    "    model = GradientBoostingClassifier(learning_rate = 0.1, n_estimators = 100, max_depth = 1)\n",
    "    # # Fit 2-nd level model\n",
    "    model_s = model.fit(S_train, y_train)\n",
    "    # # Predict\n",
    "    y_pred = model_s.predict(S_test)\n",
    "    # Final prediction score\n",
    "    f1_score = metrics.f1_score(y_pred, y_test,average='micro')\n",
    "    x.append(n_fold)\n",
    "    y.append(f1_score)\n",
    "    print('n_folds =',n_fold,'f1_score=', f1_score)\n",
    "    if f1_score >= rel_pre:\n",
    "        rel_pre = f1_score\n",
    "        rel_n_folds = n_fold\n",
    "        rel_pred = y_pred"
   ]
  },
  {
   "cell_type": "code",
   "execution_count": 15,
   "metadata": {},
   "outputs": [
    {
     "name": "stdout",
     "output_type": "stream",
     "text": [
      "rel_pre： 0.984375\n"
     ]
    }
   ],
   "source": [
    "print('rel_pre：',rel_pre)"
   ]
  },
  {
   "cell_type": "code",
   "execution_count": 17,
   "metadata": {},
   "outputs": [
    {
     "ename": "NameError",
     "evalue": "name 'test_labels' is not defined",
     "output_type": "error",
     "traceback": [
      "\u001b[1;31m---------------------------------------------------------------------------\u001b[0m",
      "\u001b[1;31mNameError\u001b[0m                                 Traceback (most recent call last)",
      "\u001b[1;32m<ipython-input-17-3910357e5bde>\u001b[0m in \u001b[0;36m<module>\u001b[1;34m\u001b[0m\n\u001b[0;32m     14\u001b[0m \u001b[1;31m# Final prediction score\u001b[0m\u001b[1;33m\u001b[0m\u001b[1;33m\u001b[0m\u001b[1;33m\u001b[0m\u001b[0m\n\u001b[0;32m     15\u001b[0m \u001b[1;31m# print('Final prediction score: [%.8f]' % metrics.accuracy_score(y_test, y_pred))\u001b[0m\u001b[1;33m\u001b[0m\u001b[1;33m\u001b[0m\u001b[1;33m\u001b[0m\u001b[0m\n\u001b[1;32m---> 16\u001b[1;33m \u001b[0macc_score_test\u001b[0m \u001b[1;33m=\u001b[0m \u001b[0mmetrics\u001b[0m\u001b[1;33m.\u001b[0m\u001b[0maccuracy_score\u001b[0m\u001b[1;33m(\u001b[0m\u001b[0my_pred\u001b[0m\u001b[1;33m,\u001b[0m \u001b[0mtest_labels\u001b[0m\u001b[1;33m,\u001b[0m\u001b[0maverage\u001b[0m\u001b[1;33m=\u001b[0m\u001b[1;34m'micro'\u001b[0m\u001b[1;33m)\u001b[0m\u001b[1;33m\u001b[0m\u001b[1;33m\u001b[0m\u001b[0m\n\u001b[0m\u001b[0;32m     17\u001b[0m \u001b[0mprecision_score_test\u001b[0m \u001b[1;33m=\u001b[0m \u001b[0mmetrics\u001b[0m\u001b[1;33m.\u001b[0m\u001b[0mprecision_score\u001b[0m\u001b[1;33m(\u001b[0m\u001b[0my_pred\u001b[0m\u001b[1;33m,\u001b[0m \u001b[0mtest_labels\u001b[0m\u001b[1;33m,\u001b[0m\u001b[0maverage\u001b[0m\u001b[1;33m=\u001b[0m\u001b[1;34m'micro'\u001b[0m\u001b[1;33m)\u001b[0m\u001b[1;33m\u001b[0m\u001b[1;33m\u001b[0m\u001b[0m\n\u001b[0;32m     18\u001b[0m \u001b[0mrecall_score_test\u001b[0m \u001b[1;33m=\u001b[0m \u001b[0mmetrics\u001b[0m\u001b[1;33m.\u001b[0m\u001b[0mrecall_score\u001b[0m\u001b[1;33m(\u001b[0m\u001b[0my_pred\u001b[0m\u001b[1;33m,\u001b[0m \u001b[0mtest_labels\u001b[0m\u001b[1;33m,\u001b[0m\u001b[0maverage\u001b[0m\u001b[1;33m=\u001b[0m\u001b[1;34m'micro'\u001b[0m\u001b[1;33m)\u001b[0m\u001b[1;33m\u001b[0m\u001b[1;33m\u001b[0m\u001b[0m\n",
      "\u001b[1;31mNameError\u001b[0m: name 'test_labels' is not defined"
     ]
    }
   ],
   "source": [
    "# 模型融合\n",
    "model_list = [rf_clf,bdt,xgb]\n",
    "S_train, S_test = stacking(model_list, X_train, y_train,X_test, regression=False, n_folds=11)\n",
    "\n",
    "# # Initialize 2-nd level model\n",
    "model = GradientBoostingClassifier(learning_rate = 0.1, n_estimators = 100, max_depth = 3)\n",
    "\n",
    "# # Fit 2-nd level model\n",
    "model_s = model.fit(S_train, y_train)\n",
    "\n",
    "# # Predict\n",
    "y_pred = model_s.predict(S_test)\n"
   ]
  },
  {
   "cell_type": "code",
   "execution_count": 21,
   "metadata": {},
   "outputs": [
    {
     "name": "stdout",
     "output_type": "stream",
     "text": [
      "Final 测试集准确率：0.96875\n",
      "\n",
      "Final 测试集精确率：0.96875\n",
      "\n",
      "Final 测试集召回率：0.96875\n",
      "\n",
      "Final 测试集f1评分：0.96875\n",
      "\n"
     ]
    }
   ],
   "source": [
    "# Final prediction score\n",
    "# print('Final prediction score: [%.8f]' % metrics.accuracy_score(y_test, y_pred))\n",
    "acc_score_test = metrics.accuracy_score(y_pred, y_test)\n",
    "precision_score_test = metrics.precision_score(y_pred, y_test,average='micro')\n",
    "recall_score_test = metrics.recall_score(y_pred, y_test,average='micro')\n",
    "f1_score_test = metrics.f1_score(y_pred, y_test,average='micro')\n",
    "\n",
    "\n",
    "print('Final 测试集准确率：{}\\n'.format(acc_score_test))\n",
    "print('Final 测试集精确率：{}\\n'.format(precision_score_test))\n",
    "print('Final 测试集召回率：{}\\n'.format(recall_score_test))\n",
    "print('Final 测试集f1评分：{}\\n'.format(f1_score_test))"
   ]
  },
  {
   "cell_type": "code",
   "execution_count": null,
   "metadata": {},
   "outputs": [],
   "source": []
  }
 ],
 "metadata": {
  "kernelspec": {
   "display_name": "Python 3",
   "language": "python",
   "name": "python3"
  },
  "language_info": {
   "codemirror_mode": {
    "name": "ipython",
    "version": 3
   },
   "file_extension": ".py",
   "mimetype": "text/x-python",
   "name": "python",
   "nbconvert_exporter": "python",
   "pygments_lexer": "ipython3",
   "version": "3.7.4"
  }
 },
 "nbformat": 4,
 "nbformat_minor": 2
}
