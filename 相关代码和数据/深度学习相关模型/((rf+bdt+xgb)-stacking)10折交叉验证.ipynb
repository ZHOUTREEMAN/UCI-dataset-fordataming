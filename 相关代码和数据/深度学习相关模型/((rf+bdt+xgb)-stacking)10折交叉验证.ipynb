{
 "cells": [
  {
   "cell_type": "code",
   "execution_count": 1,
   "metadata": {},
   "outputs": [],
   "source": [
    "from sklearn.linear_model import LogisticRegression\n",
    "from sklearn.metrics import classification_report as report\n",
    "from sklearn.svm import SVC\n",
    "from sklearn.ensemble import VotingClassifier,RandomForestClassifier\n",
    "from sklearn.ensemble import GradientBoostingClassifier\n",
    "from sklearn.ensemble import AdaBoostClassifier\n",
    "from sklearn.tree import DecisionTreeClassifier\n",
    "from xgboost import XGBClassifier\n",
    "from xgboost import plot_importance\n",
    "import matplotlib.pyplot as plt"
   ]
  },
  {
   "cell_type": "code",
   "execution_count": 13,
   "metadata": {},
   "outputs": [],
   "source": [
    "import numpy as np\n",
    "import pandas as pd\n",
    "df = pd.read_csv('cross/train0.csv', header = None)\n",
    "data=df.values[1:]\n",
    "data=data.astype(float)\n",
    "X_train=data[:,0:22]\n",
    "y_train=data[:,22]\n",
    "y_train=y_train.astype(int)\n",
    "df = pd.read_csv('cross/test0.csv', header = None)\n",
    "data=df.values[1:]\n",
    "data=data.astype(float)\n",
    "X_test=data[:,0:22]\n",
    "y_test=data[:,22]\n",
    "y_test=y_test.astype(int)"
   ]
  },
  {
   "cell_type": "code",
   "execution_count": 14,
   "metadata": {},
   "outputs": [],
   "source": [
    "rf_clf=RandomForestClassifier(\n",
    "    n_estimators=21,\n",
    "    criterion=\"gini\",\n",
    "    max_depth=4,\n",
    "    random_state=0)\n",
    "bdt = AdaBoostClassifier(DecisionTreeClassifier(max_depth=None, min_samples_split=20, min_samples_leaf=21),\n",
    "                         algorithm=\"SAMME\",\n",
    "                         n_estimators=200, learning_rate=0.8)\n",
    "xgb = XGBClassifier(learning_rate=0.01,max_depth=10)"
   ]
  },
  {
   "cell_type": "code",
   "execution_count": 15,
   "metadata": {},
   "outputs": [
    {
     "data": {
      "text/plain": [
       "XGBClassifier(base_score=0.5, booster='gbtree', colsample_bylevel=1,\n",
       "              colsample_bynode=1, colsample_bytree=1, gamma=0,\n",
       "              learning_rate=0.01, max_delta_step=0, max_depth=10,\n",
       "              min_child_weight=1, missing=None, n_estimators=100, n_jobs=1,\n",
       "              nthread=None, objective='multi:softprob', random_state=0,\n",
       "              reg_alpha=0, reg_lambda=1, scale_pos_weight=1, seed=None,\n",
       "              silent=None, subsample=1, verbosity=1)"
      ]
     },
     "execution_count": 15,
     "metadata": {},
     "output_type": "execute_result"
    }
   ],
   "source": [
    "rf_clf.fit(X_train,y_train)\n",
    "bdt.fit(X_train,y_train)\n",
    "eval_set = [(X_test, y_test)]\n",
    "xgb.fit(X_train, y_train, early_stopping_rounds=10, eval_metric=\"mlogloss\", eval_set=eval_set, verbose=False)"
   ]
  },
  {
   "cell_type": "code",
   "execution_count": 16,
   "metadata": {},
   "outputs": [],
   "source": [
    "from vecstack import stacking\n",
    "from sklearn import metrics\n",
    "# 模型融合\n",
    "model_list = [rf_clf,bdt,xgb]\n",
    "S_train, S_test = stacking(model_list, X_train, y_train,X_test, regression=False, n_folds=11)\n",
    "\n",
    "# # Initialize 2-nd level model\n",
    "model = GradientBoostingClassifier(learning_rate = 0.1, n_estimators = 100, max_depth = 3)\n",
    "\n",
    "# # Fit 2-nd level model\n",
    "model_s = model.fit(S_train, y_train)\n",
    "\n",
    "# # Predict\n",
    "y_pred = model_s.predict(S_test)"
   ]
  },
  {
   "cell_type": "code",
   "execution_count": 17,
   "metadata": {},
   "outputs": [
    {
     "name": "stdout",
     "output_type": "stream",
     "text": [
      "Final 测试集准确率：0.975\n",
      "\n",
      "Final 测试集精确率：0.975\n",
      "\n",
      "Final 测试集召回率：0.975\n",
      "\n",
      "Final 测试集f1评分：0.975\n",
      "\n"
     ]
    }
   ],
   "source": [
    "# Final prediction score\n",
    "# print('Final prediction score: [%.8f]' % metrics.accuracy_score(y_test, y_pred))\n",
    "acc_score_test = metrics.accuracy_score(y_pred, y_test)\n",
    "precision_score_test = metrics.precision_score(y_pred, y_test,average='micro')\n",
    "recall_score_test = metrics.recall_score(y_pred, y_test,average='micro')\n",
    "f1_score_test = metrics.f1_score(y_pred, y_test,average='micro')\n",
    "\n",
    "\n",
    "print('Final 测试集准确率：{}\\n'.format(acc_score_test))\n",
    "print('Final 测试集精确率：{}\\n'.format(precision_score_test))\n",
    "print('Final 测试集召回率：{}\\n'.format(recall_score_test))\n",
    "print('Final 测试集f1评分：{}\\n'.format(f1_score_test))"
   ]
  },
  {
   "cell_type": "code",
   "execution_count": 18,
   "metadata": {},
   "outputs": [],
   "source": [
    "history={'accuracy':[],'f_score':[]}\n",
    "history['accuracy'].append(acc_score_test)\n",
    "history['f_score'].append(f1_score_test)"
   ]
  },
  {
   "cell_type": "code",
   "execution_count": 19,
   "metadata": {},
   "outputs": [],
   "source": [
    "df = pd.read_csv('cross/train1.csv', header = None)\n",
    "data=df.values[1:]\n",
    "data=data.astype(float)\n",
    "X_train=data[:,0:22]\n",
    "y_train=data[:,22]\n",
    "y_train=y_train.astype(int)\n",
    "df = pd.read_csv('cross/test1.csv', header = None)\n",
    "data=df.values[1:]\n",
    "data=data.astype(float)\n",
    "X_test=data[:,0:22]\n",
    "y_test=data[:,22]\n",
    "y_test=y_test.astype(int)"
   ]
  },
  {
   "cell_type": "code",
   "execution_count": 20,
   "metadata": {},
   "outputs": [
    {
     "data": {
      "text/plain": [
       "XGBClassifier(base_score=0.5, booster='gbtree', colsample_bylevel=1,\n",
       "              colsample_bynode=1, colsample_bytree=1, gamma=0,\n",
       "              learning_rate=0.01, max_delta_step=0, max_depth=10,\n",
       "              min_child_weight=1, missing=None, n_estimators=100, n_jobs=1,\n",
       "              nthread=None, objective='multi:softprob', random_state=0,\n",
       "              reg_alpha=0, reg_lambda=1, scale_pos_weight=1, seed=None,\n",
       "              silent=None, subsample=1, verbosity=1)"
      ]
     },
     "execution_count": 20,
     "metadata": {},
     "output_type": "execute_result"
    }
   ],
   "source": [
    "rf_clf.fit(X_train,y_train)\n",
    "bdt.fit(X_train,y_train)\n",
    "eval_set = [(X_test, y_test)]\n",
    "xgb.fit(X_train, y_train, early_stopping_rounds=10, eval_metric=\"mlogloss\", eval_set=eval_set, verbose=False)"
   ]
  },
  {
   "cell_type": "code",
   "execution_count": 22,
   "metadata": {},
   "outputs": [
    {
     "name": "stdout",
     "output_type": "stream",
     "text": [
      "Final 测试集准确率：0.99375\n",
      "\n",
      "Final 测试集精确率：0.99375\n",
      "\n",
      "Final 测试集召回率：0.99375\n",
      "\n",
      "Final 测试集f1评分：0.99375\n",
      "\n"
     ]
    }
   ],
   "source": [
    "# 模型融合\n",
    "model_list = [rf_clf,bdt,xgb]\n",
    "S_train, S_test = stacking(model_list, X_train, y_train,X_test, regression=False, n_folds=11)\n",
    "\n",
    "# # Initialize 2-nd level model\n",
    "model = GradientBoostingClassifier(learning_rate = 0.1, n_estimators = 100, max_depth = 3)\n",
    "\n",
    "# # Fit 2-nd level model\n",
    "model_s = model.fit(S_train, y_train)\n",
    "\n",
    "# # Predict\n",
    "y_pred = model_s.predict(S_test)\n",
    "# Final prediction score\n",
    "# print('Final prediction score: [%.8f]' % metrics.accuracy_score(y_test, y_pred))\n",
    "acc_score_test = metrics.accuracy_score(y_pred, y_test)\n",
    "precision_score_test = metrics.precision_score(y_pred, y_test,average='micro')\n",
    "recall_score_test = metrics.recall_score(y_pred, y_test,average='micro')\n",
    "f1_score_test = metrics.f1_score(y_pred, y_test,average='micro')\n",
    "\n",
    "\n",
    "print('Final 测试集准确率：{}\\n'.format(acc_score_test))\n",
    "print('Final 测试集精确率：{}\\n'.format(precision_score_test))\n",
    "print('Final 测试集召回率：{}\\n'.format(recall_score_test))\n",
    "print('Final 测试集f1评分：{}\\n'.format(f1_score_test))\n",
    "history['accuracy'].append(acc_score_test)\n",
    "history['f_score'].append(f1_score_test)"
   ]
  },
  {
   "cell_type": "code",
   "execution_count": 23,
   "metadata": {},
   "outputs": [
    {
     "name": "stdout",
     "output_type": "stream",
     "text": [
      "Final 测试集准确率：0.95625\n",
      "\n",
      "Final 测试集精确率：0.95625\n",
      "\n",
      "Final 测试集召回率：0.95625\n",
      "\n",
      "Final 测试集f1评分：0.95625\n",
      "\n"
     ]
    }
   ],
   "source": [
    "df = pd.read_csv('cross/train2.csv', header = None)\n",
    "data=df.values[1:]\n",
    "data=data.astype(float)\n",
    "X_train=data[:,0:22]\n",
    "y_train=data[:,22]\n",
    "y_train=y_train.astype(int)\n",
    "df = pd.read_csv('cross/test2.csv', header = None)\n",
    "data=df.values[1:]\n",
    "data=data.astype(float)\n",
    "X_test=data[:,0:22]\n",
    "y_test=data[:,22]\n",
    "y_test=y_test.astype(int)\n",
    "rf_clf.fit(X_train,y_train)\n",
    "bdt.fit(X_train,y_train)\n",
    "eval_set = [(X_test, y_test)]\n",
    "xgb.fit(X_train, y_train, early_stopping_rounds=10, eval_metric=\"mlogloss\", eval_set=eval_set, verbose=False)\n",
    "# 模型融合\n",
    "model_list = [rf_clf,bdt,xgb]\n",
    "S_train, S_test = stacking(model_list, X_train, y_train,X_test, regression=False, n_folds=11)\n",
    "\n",
    "# # Initialize 2-nd level model\n",
    "model = GradientBoostingClassifier(learning_rate = 0.1, n_estimators = 100, max_depth = 3)\n",
    "\n",
    "# # Fit 2-nd level model\n",
    "model_s = model.fit(S_train, y_train)\n",
    "\n",
    "# # Predict\n",
    "y_pred = model_s.predict(S_test)\n",
    "# Final prediction score\n",
    "# print('Final prediction score: [%.8f]' % metrics.accuracy_score(y_test, y_pred))\n",
    "acc_score_test = metrics.accuracy_score(y_pred, y_test)\n",
    "precision_score_test = metrics.precision_score(y_pred, y_test,average='micro')\n",
    "recall_score_test = metrics.recall_score(y_pred, y_test,average='micro')\n",
    "f1_score_test = metrics.f1_score(y_pred, y_test,average='micro')\n",
    "\n",
    "\n",
    "print('Final 测试集准确率：{}\\n'.format(acc_score_test))\n",
    "print('Final 测试集精确率：{}\\n'.format(precision_score_test))\n",
    "print('Final 测试集召回率：{}\\n'.format(recall_score_test))\n",
    "print('Final 测试集f1评分：{}\\n'.format(f1_score_test))\n",
    "history['accuracy'].append(acc_score_test)\n",
    "history['f_score'].append(f1_score_test)"
   ]
  },
  {
   "cell_type": "code",
   "execution_count": 24,
   "metadata": {},
   "outputs": [
    {
     "name": "stdout",
     "output_type": "stream",
     "text": [
      "Final 测试集准确率：0.96875\n",
      "\n",
      "Final 测试集精确率：0.96875\n",
      "\n",
      "Final 测试集召回率：0.96875\n",
      "\n",
      "Final 测试集f1评分：0.96875\n",
      "\n"
     ]
    }
   ],
   "source": [
    "df = pd.read_csv('cross/train3.csv', header = None)\n",
    "data=df.values[1:]\n",
    "data=data.astype(float)\n",
    "X_train=data[:,0:22]\n",
    "y_train=data[:,22]\n",
    "y_train=y_train.astype(int)\n",
    "df = pd.read_csv('cross/test3.csv', header = None)\n",
    "data=df.values[1:]\n",
    "data=data.astype(float)\n",
    "X_test=data[:,0:22]\n",
    "y_test=data[:,22]\n",
    "y_test=y_test.astype(int)\n",
    "rf_clf.fit(X_train,y_train)\n",
    "bdt.fit(X_train,y_train)\n",
    "eval_set = [(X_test, y_test)]\n",
    "xgb.fit(X_train, y_train, early_stopping_rounds=10, eval_metric=\"mlogloss\", eval_set=eval_set, verbose=False)\n",
    "# 模型融合\n",
    "model_list = [rf_clf,bdt,xgb]\n",
    "S_train, S_test = stacking(model_list, X_train, y_train,X_test, regression=False, n_folds=11)\n",
    "\n",
    "# # Initialize 2-nd level model\n",
    "model = GradientBoostingClassifier(learning_rate = 0.1, n_estimators = 100, max_depth = 3)\n",
    "\n",
    "# # Fit 2-nd level model\n",
    "model_s = model.fit(S_train, y_train)\n",
    "\n",
    "# # Predict\n",
    "y_pred = model_s.predict(S_test)\n",
    "# Final prediction score\n",
    "# print('Final prediction score: [%.8f]' % metrics.accuracy_score(y_test, y_pred))\n",
    "acc_score_test = metrics.accuracy_score(y_pred, y_test)\n",
    "precision_score_test = metrics.precision_score(y_pred, y_test,average='micro')\n",
    "recall_score_test = metrics.recall_score(y_pred, y_test,average='micro')\n",
    "f1_score_test = metrics.f1_score(y_pred, y_test,average='micro')\n",
    "\n",
    "\n",
    "print('Final 测试集准确率：{}\\n'.format(acc_score_test))\n",
    "print('Final 测试集精确率：{}\\n'.format(precision_score_test))\n",
    "print('Final 测试集召回率：{}\\n'.format(recall_score_test))\n",
    "print('Final 测试集f1评分：{}\\n'.format(f1_score_test))\n",
    "history['accuracy'].append(acc_score_test)\n",
    "history['f_score'].append(f1_score_test)"
   ]
  },
  {
   "cell_type": "code",
   "execution_count": 25,
   "metadata": {},
   "outputs": [
    {
     "name": "stdout",
     "output_type": "stream",
     "text": [
      "Final 测试集准确率：0.9625\n",
      "\n",
      "Final 测试集精确率：0.9625\n",
      "\n",
      "Final 测试集召回率：0.9625\n",
      "\n",
      "Final 测试集f1评分：0.9625000000000001\n",
      "\n"
     ]
    }
   ],
   "source": [
    "df = pd.read_csv('cross/train4.csv', header = None)\n",
    "data=df.values[1:]\n",
    "data=data.astype(float)\n",
    "X_train=data[:,0:22]\n",
    "y_train=data[:,22]\n",
    "y_train=y_train.astype(int)\n",
    "df = pd.read_csv('cross/test4.csv', header = None)\n",
    "data=df.values[1:]\n",
    "data=data.astype(float)\n",
    "X_test=data[:,0:22]\n",
    "y_test=data[:,22]\n",
    "y_test=y_test.astype(int)\n",
    "rf_clf.fit(X_train,y_train)\n",
    "bdt.fit(X_train,y_train)\n",
    "eval_set = [(X_test, y_test)]\n",
    "xgb.fit(X_train, y_train, early_stopping_rounds=10, eval_metric=\"mlogloss\", eval_set=eval_set, verbose=False)\n",
    "# 模型融合\n",
    "model_list = [rf_clf,bdt,xgb]\n",
    "S_train, S_test = stacking(model_list, X_train, y_train,X_test, regression=False, n_folds=11)\n",
    "\n",
    "# # Initialize 2-nd level model\n",
    "model = GradientBoostingClassifier(learning_rate = 0.1, n_estimators = 100, max_depth = 3)\n",
    "\n",
    "# # Fit 2-nd level model\n",
    "model_s = model.fit(S_train, y_train)\n",
    "\n",
    "# # Predict\n",
    "y_pred = model_s.predict(S_test)\n",
    "# Final prediction score\n",
    "# print('Final prediction score: [%.8f]' % metrics.accuracy_score(y_test, y_pred))\n",
    "acc_score_test = metrics.accuracy_score(y_pred, y_test)\n",
    "precision_score_test = metrics.precision_score(y_pred, y_test,average='micro')\n",
    "recall_score_test = metrics.recall_score(y_pred, y_test,average='micro')\n",
    "f1_score_test = metrics.f1_score(y_pred, y_test,average='micro')\n",
    "\n",
    "\n",
    "print('Final 测试集准确率：{}\\n'.format(acc_score_test))\n",
    "print('Final 测试集精确率：{}\\n'.format(precision_score_test))\n",
    "print('Final 测试集召回率：{}\\n'.format(recall_score_test))\n",
    "print('Final 测试集f1评分：{}\\n'.format(f1_score_test))\n",
    "history['accuracy'].append(acc_score_test)\n",
    "history['f_score'].append(f1_score_test)"
   ]
  },
  {
   "cell_type": "code",
   "execution_count": 26,
   "metadata": {},
   "outputs": [
    {
     "name": "stdout",
     "output_type": "stream",
     "text": [
      "Final 测试集准确率：1.0\n",
      "\n",
      "Final 测试集精确率：1.0\n",
      "\n",
      "Final 测试集召回率：1.0\n",
      "\n",
      "Final 测试集f1评分：1.0\n",
      "\n"
     ]
    }
   ],
   "source": [
    "df = pd.read_csv('cross/train5.csv', header = None)\n",
    "data=df.values[1:]\n",
    "data=data.astype(float)\n",
    "X_train=data[:,0:22]\n",
    "y_train=data[:,22]\n",
    "y_train=y_train.astype(int)\n",
    "df = pd.read_csv('cross/test5.csv', header = None)\n",
    "data=df.values[1:]\n",
    "data=data.astype(float)\n",
    "X_test=data[:,0:22]\n",
    "y_test=data[:,22]\n",
    "y_test=y_test.astype(int)\n",
    "rf_clf.fit(X_train,y_train)\n",
    "bdt.fit(X_train,y_train)\n",
    "eval_set = [(X_test, y_test)]\n",
    "xgb.fit(X_train, y_train, early_stopping_rounds=10, eval_metric=\"mlogloss\", eval_set=eval_set, verbose=False)\n",
    "# 模型融合\n",
    "model_list = [rf_clf,bdt,xgb]\n",
    "S_train, S_test = stacking(model_list, X_train, y_train,X_test, regression=False, n_folds=11)\n",
    "\n",
    "# # Initialize 2-nd level model\n",
    "model = GradientBoostingClassifier(learning_rate = 0.1, n_estimators = 100, max_depth = 3)\n",
    "\n",
    "# # Fit 2-nd level model\n",
    "model_s = model.fit(S_train, y_train)\n",
    "\n",
    "# # Predict\n",
    "y_pred = model_s.predict(S_test)\n",
    "# Final prediction score\n",
    "# print('Final prediction score: [%.8f]' % metrics.accuracy_score(y_test, y_pred))\n",
    "acc_score_test = metrics.accuracy_score(y_pred, y_test)\n",
    "precision_score_test = metrics.precision_score(y_pred, y_test,average='micro')\n",
    "recall_score_test = metrics.recall_score(y_pred, y_test,average='micro')\n",
    "f1_score_test = metrics.f1_score(y_pred, y_test,average='micro')\n",
    "\n",
    "\n",
    "print('Final 测试集准确率：{}\\n'.format(acc_score_test))\n",
    "print('Final 测试集精确率：{}\\n'.format(precision_score_test))\n",
    "print('Final 测试集召回率：{}\\n'.format(recall_score_test))\n",
    "print('Final 测试集f1评分：{}\\n'.format(f1_score_test))\n",
    "history['accuracy'].append(acc_score_test)\n",
    "history['f_score'].append(f1_score_test)"
   ]
  },
  {
   "cell_type": "code",
   "execution_count": 27,
   "metadata": {},
   "outputs": [
    {
     "name": "stdout",
     "output_type": "stream",
     "text": [
      "Final 测试集准确率：0.99375\n",
      "\n",
      "Final 测试集精确率：0.99375\n",
      "\n",
      "Final 测试集召回率：0.99375\n",
      "\n",
      "Final 测试集f1评分：0.99375\n",
      "\n"
     ]
    }
   ],
   "source": [
    "df = pd.read_csv('cross/train6.csv', header = None)\n",
    "data=df.values[1:]\n",
    "data=data.astype(float)\n",
    "X_train=data[:,0:22]\n",
    "y_train=data[:,22]\n",
    "y_train=y_train.astype(int)\n",
    "df = pd.read_csv('cross/test6.csv', header = None)\n",
    "data=df.values[1:]\n",
    "data=data.astype(float)\n",
    "X_test=data[:,0:22]\n",
    "y_test=data[:,22]\n",
    "y_test=y_test.astype(int)\n",
    "rf_clf.fit(X_train,y_train)\n",
    "bdt.fit(X_train,y_train)\n",
    "eval_set = [(X_test, y_test)]\n",
    "xgb.fit(X_train, y_train, early_stopping_rounds=10, eval_metric=\"mlogloss\", eval_set=eval_set, verbose=False)\n",
    "# 模型融合\n",
    "model_list = [rf_clf,bdt,xgb]\n",
    "S_train, S_test = stacking(model_list, X_train, y_train,X_test, regression=False, n_folds=11)\n",
    "\n",
    "# # Initialize 2-nd level model\n",
    "model = GradientBoostingClassifier(learning_rate = 0.1, n_estimators = 100, max_depth = 3)\n",
    "\n",
    "# # Fit 2-nd level model\n",
    "model_s = model.fit(S_train, y_train)\n",
    "\n",
    "# # Predict\n",
    "y_pred = model_s.predict(S_test)\n",
    "# Final prediction score\n",
    "# print('Final prediction score: [%.8f]' % metrics.accuracy_score(y_test, y_pred))\n",
    "acc_score_test = metrics.accuracy_score(y_pred, y_test)\n",
    "precision_score_test = metrics.precision_score(y_pred, y_test,average='micro')\n",
    "recall_score_test = metrics.recall_score(y_pred, y_test,average='micro')\n",
    "f1_score_test = metrics.f1_score(y_pred, y_test,average='micro')\n",
    "\n",
    "\n",
    "print('Final 测试集准确率：{}\\n'.format(acc_score_test))\n",
    "print('Final 测试集精确率：{}\\n'.format(precision_score_test))\n",
    "print('Final 测试集召回率：{}\\n'.format(recall_score_test))\n",
    "print('Final 测试集f1评分：{}\\n'.format(f1_score_test))\n",
    "history['accuracy'].append(acc_score_test)\n",
    "history['f_score'].append(f1_score_test)"
   ]
  },
  {
   "cell_type": "code",
   "execution_count": 28,
   "metadata": {},
   "outputs": [
    {
     "name": "stdout",
     "output_type": "stream",
     "text": [
      "Final 测试集准确率：0.94375\n",
      "\n",
      "Final 测试集精确率：0.94375\n",
      "\n",
      "Final 测试集召回率：0.94375\n",
      "\n",
      "Final 测试集f1评分：0.94375\n",
      "\n"
     ]
    }
   ],
   "source": [
    "df = pd.read_csv('cross/train7.csv', header = None)\n",
    "data=df.values[1:]\n",
    "data=data.astype(float)\n",
    "X_train=data[:,0:22]\n",
    "y_train=data[:,22]\n",
    "y_train=y_train.astype(int)\n",
    "df = pd.read_csv('cross/test7.csv', header = None)\n",
    "data=df.values[1:]\n",
    "data=data.astype(float)\n",
    "X_test=data[:,0:22]\n",
    "y_test=data[:,22]\n",
    "y_test=y_test.astype(int)\n",
    "rf_clf.fit(X_train,y_train)\n",
    "bdt.fit(X_train,y_train)\n",
    "eval_set = [(X_test, y_test)]\n",
    "xgb.fit(X_train, y_train, early_stopping_rounds=10, eval_metric=\"mlogloss\", eval_set=eval_set, verbose=False)\n",
    "# 模型融合\n",
    "model_list = [rf_clf,bdt,xgb]\n",
    "S_train, S_test = stacking(model_list, X_train, y_train,X_test, regression=False, n_folds=11)\n",
    "\n",
    "# # Initialize 2-nd level model\n",
    "model = GradientBoostingClassifier(learning_rate = 0.1, n_estimators = 100, max_depth = 3)\n",
    "\n",
    "# # Fit 2-nd level model\n",
    "model_s = model.fit(S_train, y_train)\n",
    "\n",
    "# # Predict\n",
    "y_pred = model_s.predict(S_test)\n",
    "# Final prediction score\n",
    "# print('Final prediction score: [%.8f]' % metrics.accuracy_score(y_test, y_pred))\n",
    "acc_score_test = metrics.accuracy_score(y_pred, y_test)\n",
    "precision_score_test = metrics.precision_score(y_pred, y_test,average='micro')\n",
    "recall_score_test = metrics.recall_score(y_pred, y_test,average='micro')\n",
    "f1_score_test = metrics.f1_score(y_pred, y_test,average='micro')\n",
    "\n",
    "\n",
    "print('Final 测试集准确率：{}\\n'.format(acc_score_test))\n",
    "print('Final 测试集精确率：{}\\n'.format(precision_score_test))\n",
    "print('Final 测试集召回率：{}\\n'.format(recall_score_test))\n",
    "print('Final 测试集f1评分：{}\\n'.format(f1_score_test))\n",
    "history['accuracy'].append(acc_score_test)\n",
    "history['f_score'].append(f1_score_test)"
   ]
  },
  {
   "cell_type": "code",
   "execution_count": 29,
   "metadata": {},
   "outputs": [
    {
     "name": "stdout",
     "output_type": "stream",
     "text": [
      "Final 测试集准确率：0.9875\n",
      "\n",
      "Final 测试集精确率：0.9875\n",
      "\n",
      "Final 测试集召回率：0.9875\n",
      "\n",
      "Final 测试集f1评分：0.9875\n",
      "\n"
     ]
    }
   ],
   "source": [
    "df = pd.read_csv('cross/train8.csv', header = None)\n",
    "data=df.values[1:]\n",
    "data=data.astype(float)\n",
    "X_train=data[:,0:22]\n",
    "y_train=data[:,22]\n",
    "y_train=y_train.astype(int)\n",
    "df = pd.read_csv('cross/test8.csv', header = None)\n",
    "data=df.values[1:]\n",
    "data=data.astype(float)\n",
    "X_test=data[:,0:22]\n",
    "y_test=data[:,22]\n",
    "y_test=y_test.astype(int)\n",
    "rf_clf.fit(X_train,y_train)\n",
    "bdt.fit(X_train,y_train)\n",
    "eval_set = [(X_test, y_test)]\n",
    "xgb.fit(X_train, y_train, early_stopping_rounds=10, eval_metric=\"mlogloss\", eval_set=eval_set, verbose=False)\n",
    "# 模型融合\n",
    "model_list = [rf_clf,bdt,xgb]\n",
    "S_train, S_test = stacking(model_list, X_train, y_train,X_test, regression=False, n_folds=11)\n",
    "\n",
    "# # Initialize 2-nd level model\n",
    "model = GradientBoostingClassifier(learning_rate = 0.1, n_estimators = 100, max_depth = 3)\n",
    "\n",
    "# # Fit 2-nd level model\n",
    "model_s = model.fit(S_train, y_train)\n",
    "\n",
    "# # Predict\n",
    "y_pred = model_s.predict(S_test)\n",
    "# Final prediction score\n",
    "# print('Final prediction score: [%.8f]' % metrics.accuracy_score(y_test, y_pred))\n",
    "acc_score_test = metrics.accuracy_score(y_pred, y_test)\n",
    "precision_score_test = metrics.precision_score(y_pred, y_test,average='micro')\n",
    "recall_score_test = metrics.recall_score(y_pred, y_test,average='micro')\n",
    "f1_score_test = metrics.f1_score(y_pred, y_test,average='micro')\n",
    "\n",
    "\n",
    "print('Final 测试集准确率：{}\\n'.format(acc_score_test))\n",
    "print('Final 测试集精确率：{}\\n'.format(precision_score_test))\n",
    "print('Final 测试集召回率：{}\\n'.format(recall_score_test))\n",
    "print('Final 测试集f1评分：{}\\n'.format(f1_score_test))\n",
    "history['accuracy'].append(acc_score_test)\n",
    "history['f_score'].append(f1_score_test)"
   ]
  },
  {
   "cell_type": "code",
   "execution_count": 30,
   "metadata": {},
   "outputs": [
    {
     "name": "stdout",
     "output_type": "stream",
     "text": [
      "Final 测试集准确率：0.95\n",
      "\n",
      "Final 测试集精确率：0.95\n",
      "\n",
      "Final 测试集召回率：0.95\n",
      "\n",
      "Final 测试集f1评分：0.9500000000000001\n",
      "\n"
     ]
    }
   ],
   "source": [
    "df = pd.read_csv('cross/train9.csv', header = None)\n",
    "data=df.values[1:]\n",
    "data=data.astype(float)\n",
    "X_train=data[:,0:22]\n",
    "y_train=data[:,22]\n",
    "y_train=y_train.astype(int)\n",
    "df = pd.read_csv('cross/test9.csv', header = None)\n",
    "data=df.values[1:]\n",
    "data=data.astype(float)\n",
    "X_test=data[:,0:22]\n",
    "y_test=data[:,22]\n",
    "y_test=y_test.astype(int)\n",
    "rf_clf.fit(X_train,y_train)\n",
    "bdt.fit(X_train,y_train)\n",
    "eval_set = [(X_test, y_test)]\n",
    "xgb.fit(X_train, y_train, early_stopping_rounds=10, eval_metric=\"mlogloss\", eval_set=eval_set, verbose=False)\n",
    "# 模型融合\n",
    "model_list = [rf_clf,bdt,xgb]\n",
    "S_train, S_test = stacking(model_list, X_train, y_train,X_test, regression=False, n_folds=11)\n",
    "\n",
    "# # Initialize 2-nd level model\n",
    "model = GradientBoostingClassifier(learning_rate = 0.1, n_estimators = 100, max_depth = 3)\n",
    "\n",
    "# # Fit 2-nd level model\n",
    "model_s = model.fit(S_train, y_train)\n",
    "\n",
    "# # Predict\n",
    "y_pred = model_s.predict(S_test)\n",
    "# Final prediction score\n",
    "# print('Final prediction score: [%.8f]' % metrics.accuracy_score(y_test, y_pred))\n",
    "acc_score_test = metrics.accuracy_score(y_pred, y_test)\n",
    "precision_score_test = metrics.precision_score(y_pred, y_test,average='micro')\n",
    "recall_score_test = metrics.recall_score(y_pred, y_test,average='micro')\n",
    "f1_score_test = metrics.f1_score(y_pred, y_test,average='micro')\n",
    "\n",
    "\n",
    "print('Final 测试集准确率：{}\\n'.format(acc_score_test))\n",
    "print('Final 测试集精确率：{}\\n'.format(precision_score_test))\n",
    "print('Final 测试集召回率：{}\\n'.format(recall_score_test))\n",
    "print('Final 测试集f1评分：{}\\n'.format(f1_score_test))\n",
    "history['accuracy'].append(acc_score_test)\n",
    "history['f_score'].append(f1_score_test)"
   ]
  },
  {
   "cell_type": "code",
   "execution_count": 38,
   "metadata": {},
   "outputs": [],
   "source": [
    "# 构造绘图函数\n",
    "from matplotlib import pyplot as plt\n",
    "plt.rcParams['font.sans-serif']=['SimHei']\n",
    "plt.rcParams['axes.unicode_minus'] = False\n",
    "def drow(history):\n",
    "    plt.figure()\n",
    "    epochs = range(1, len(history['accuracy']) + 1)\n",
    "    plt.plot(epochs, history['accuracy'], 'rx', label='accuracy')\n",
    "    plt.title('rf+bdt+xgb模型融合十则验证正确率变化图')\n",
    "    plt.xlabel('验证集序号')\n",
    "    plt.ylabel('acc')\n",
    "    plt.legend()\n",
    "    plt.show()"
   ]
  },
  {
   "cell_type": "code",
   "execution_count": 57,
   "metadata": {},
   "outputs": [
    {
     "data": {
      "image/png": "[encoded data removed]",
      "text/plain": [
       "<Figure size 1008x288 with 1 Axes>"
      ]
     },
     "metadata": {
      "needs_background": "light"
     },
     "output_type": "display_data"
    }
   ],
   "source": [
    "from pylab import *\n",
    "mpl.rcParams['font.sans-serif'] = ['SimHei']  # 添加这条可以让图形显示中文\n",
    "\n",
    "x_axis_data = [0,1, 2, 3, 4, 5,6,7,8,9]\n",
    "y_axis_data = history['accuracy']\n",
    "\n",
    "plt.figure(figsize=(14, 4))\n",
    "# plot中参数的含义分别是横轴值，纵轴值，线的形状，颜色，透明度,线的宽度和标签\n",
    "plt.plot(x_axis_data, y_axis_data,  color='b', label='rf+bdt+xgb模型融合')\n",
    "plt.legend(loc=\"upper right\")\n",
    "plt.title('rf+bdt+xgb模型融合10折验证正确率变化图')\n",
    "plt.xlabel('验证集序号')\n",
    "plt.ylabel('acc')\n",
    "# 设置数字标签\n",
    "for a, b in zip(x_axis_data, y_axis_data):\n",
    "    plt.text(a, b, b, ha='center', va='bottom', fontsize=12)\n",
    "plt.show()"
   ]
  },
  {
   "cell_type": "code",
   "execution_count": 58,
   "metadata": {},
   "outputs": [
    {
     "name": "stdout",
     "output_type": "stream",
     "text": [
      "0.9731249999999999\n"
     ]
    }
   ],
   "source": [
    "avg=0\n",
    "for temp in history['accuracy']:\n",
    "    avg=avg+temp\n",
    "avg=avg/10\n",
    "print(avg)"
   ]
  },
  {
   "cell_type": "code",
   "execution_count": null,
   "metadata": {},
   "outputs": [],
   "source": []
  }
 ],
 "metadata": {
  "kernelspec": {
   "display_name": "Python 3",
   "language": "python",
   "name": "python3"
  },
  "language_info": {
   "codemirror_mode": {
    "name": "ipython",
    "version": 3
   },
   "file_extension": ".py",
   "mimetype": "text/x-python",
   "name": "python",
   "nbconvert_exporter": "python",
   "pygments_lexer": "ipython3",
   "version": "3.7.4"
  }
 },
 "nbformat": 4,
 "nbformat_minor": 2
}
