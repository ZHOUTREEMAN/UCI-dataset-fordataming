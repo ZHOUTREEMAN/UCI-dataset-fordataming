{
 "cells": [
  {
   "cell_type": "code",
   "execution_count": 1,
   "metadata": {},
   "outputs": [
    {
     "name": "stderr",
     "output_type": "stream",
     "text": [
      "E:\\Anaconda3\\lib\\site-packages\\sklearn\\externals\\joblib\\__init__.py:15: DeprecationWarning: sklearn.externals.joblib is deprecated in 0.21 and will be removed in 0.23. Please import this functionality directly from joblib, which can be installed with: pip install joblib. If this warning is raised when loading pickled models, you may need to re-serialize those models with scikit-learn 0.21+.\n",
      "  warnings.warn(msg, category=DeprecationWarning)\n"
     ]
    }
   ],
   "source": [
    "import pandas as pd\n",
    "from sklearn.model_selection import train_test_split\n",
    "from sklearn.ensemble import GradientBoostingClassifier\n",
    "from sklearn.ensemble import AdaBoostClassifier\n",
    "from sklearn.tree import DecisionTreeClassifier\n",
    "from sklearn.externals import joblib"
   ]
  },
  {
   "cell_type": "code",
   "execution_count": 2,
   "metadata": {},
   "outputs": [],
   "source": [
    "df = pd.read_csv('data/cmc_train.csv', header = None)\n",
    "data=df.values[1:]\n",
    "data=data.astype(float)\n",
    "X_train=data[:,0:9]\n",
    "y_train=data[:,9]\n",
    "y_train=y_train.astype(int)\n",
    "\n",
    "df = pd.read_csv('data/cmc_test.csv', header = None)\n",
    "data=df.values[1:]\n",
    "data=data.astype(float)\n",
    "X_test=data[:,0:9]\n",
    "y_test=data[:,9]\n",
    "y_test=y_test.astype(int)"
   ]
  },
  {
   "cell_type": "code",
   "execution_count": 3,
   "metadata": {},
   "outputs": [
    {
     "data": {
      "text/plain": [
       "['train_model_result4.m']"
      ]
     },
     "execution_count": 3,
     "metadata": {},
     "output_type": "execute_result"
    }
   ],
   "source": [
    "# 模型训练，使用GBDT算法\n",
    "gbr = GradientBoostingClassifier(n_estimators=30000, max_depth=2, min_samples_split=2, learning_rate=0.01)\n",
    "gbr.fit(X_train, y_train.ravel())\n",
    "joblib.dump(gbr, 'train_model_result4.m')   # 保存模型"
   ]
  },
  {
   "cell_type": "code",
   "execution_count": 4,
   "metadata": {},
   "outputs": [
    {
     "name": "stdout",
     "output_type": "stream",
     "text": [
      "0.7791479820627802\n",
      "0.4751131221719457\n"
     ]
    }
   ],
   "source": [
    "y_gbr = gbr.predict(X_train)\n",
    "y_gbr1 = gbr.predict(X_test)\n",
    "acc_train = gbr.score(X_train, y_train)\n",
    "acc_test = gbr.score(X_test, y_test)\n",
    "print(acc_train)\n",
    "print(acc_test)"
   ]
  },
  {
   "cell_type": "code",
   "execution_count": 5,
   "metadata": {},
   "outputs": [],
   "source": [
    "# AdaBoostClassifier\n",
    "bdt = AdaBoostClassifier(DecisionTreeClassifier(max_depth=2, min_samples_split=20, min_samples_leaf=5),\n",
    "                         algorithm=\"SAMME\",\n",
    "                         n_estimators=200, learning_rate=0.8)"
   ]
  },
  {
   "cell_type": "code",
   "execution_count": 6,
   "metadata": {},
   "outputs": [
    {
     "data": {
      "text/plain": [
       "AdaBoostClassifier(algorithm='SAMME',\n",
       "                   base_estimator=DecisionTreeClassifier(class_weight=None,\n",
       "                                                         criterion='gini',\n",
       "                                                         max_depth=2,\n",
       "                                                         max_features=None,\n",
       "                                                         max_leaf_nodes=None,\n",
       "                                                         min_impurity_decrease=0.0,\n",
       "                                                         min_impurity_split=None,\n",
       "                                                         min_samples_leaf=5,\n",
       "                                                         min_samples_split=20,\n",
       "                                                         min_weight_fraction_leaf=0.0,\n",
       "                                                         presort=False,\n",
       "                                                         random_state=None,\n",
       "                                                         splitter='best'),\n",
       "                   learning_rate=0.8, n_estimators=200, random_state=None)"
      ]
     },
     "execution_count": 6,
     "metadata": {},
     "output_type": "execute_result"
    }
   ],
   "source": [
    "bdt.fit(X_train,y_train)"
   ]
  },
  {
   "cell_type": "code",
   "execution_count": 7,
   "metadata": {},
   "outputs": [
    {
     "name": "stdout",
     "output_type": "stream",
     "text": [
      "0.554932735426009\n",
      "0.5113122171945701\n"
     ]
    }
   ],
   "source": [
    "y_bdt = bdt.predict(X_train)\n",
    "y_bdt = bdt.predict(X_test)\n",
    "acc_train = bdt.score(X_train, y_train)\n",
    "acc_test = bdt.score(X_test, y_test)\n",
    "print(acc_train)\n",
    "print(acc_test)"
   ]
  },
  {
   "cell_type": "code",
   "execution_count": 8,
   "metadata": {},
   "outputs": [
    {
     "name": "stdout",
     "output_type": "stream",
     "text": [
      "[0]\tvalidation_0-mlogloss:1.09572\n",
      "Will train until validation_0-mlogloss hasn't improved in 10 rounds.\n",
      "[1]\tvalidation_0-mlogloss:1.09295\n",
      "[2]\tvalidation_0-mlogloss:1.09022\n",
      "[3]\tvalidation_0-mlogloss:1.08751\n",
      "[4]\tvalidation_0-mlogloss:1.08495\n",
      "[5]\tvalidation_0-mlogloss:1.08237\n",
      "[6]\tvalidation_0-mlogloss:1.07981\n",
      "[7]\tvalidation_0-mlogloss:1.07738\n",
      "[8]\tvalidation_0-mlogloss:1.075\n",
      "[9]\tvalidation_0-mlogloss:1.07262\n",
      "[10]\tvalidation_0-mlogloss:1.07028\n",
      "[11]\tvalidation_0-mlogloss:1.06797\n",
      "[12]\tvalidation_0-mlogloss:1.06568\n",
      "[13]\tvalidation_0-mlogloss:1.06341\n",
      "[14]\tvalidation_0-mlogloss:1.06119\n",
      "[15]\tvalidation_0-mlogloss:1.05913\n",
      "[16]\tvalidation_0-mlogloss:1.05704\n",
      "[17]\tvalidation_0-mlogloss:1.05494\n",
      "[18]\tvalidation_0-mlogloss:1.05278\n",
      "[19]\tvalidation_0-mlogloss:1.05084\n",
      "[20]\tvalidation_0-mlogloss:1.04885\n",
      "[21]\tvalidation_0-mlogloss:1.04689\n",
      "[22]\tvalidation_0-mlogloss:1.04501\n",
      "[23]\tvalidation_0-mlogloss:1.04313\n",
      "[24]\tvalidation_0-mlogloss:1.0413\n",
      "[25]\tvalidation_0-mlogloss:1.0395\n",
      "[26]\tvalidation_0-mlogloss:1.03753\n",
      "[27]\tvalidation_0-mlogloss:1.03577\n",
      "[28]\tvalidation_0-mlogloss:1.0339\n",
      "[29]\tvalidation_0-mlogloss:1.03212\n",
      "[30]\tvalidation_0-mlogloss:1.03038\n",
      "[31]\tvalidation_0-mlogloss:1.02866\n",
      "[32]\tvalidation_0-mlogloss:1.02687\n",
      "[33]\tvalidation_0-mlogloss:1.0252\n",
      "[34]\tvalidation_0-mlogloss:1.02361\n",
      "[35]\tvalidation_0-mlogloss:1.02196\n",
      "[36]\tvalidation_0-mlogloss:1.02037\n",
      "[37]\tvalidation_0-mlogloss:1.01869\n",
      "[38]\tvalidation_0-mlogloss:1.01719\n",
      "[39]\tvalidation_0-mlogloss:1.01562\n",
      "[40]\tvalidation_0-mlogloss:1.01424\n",
      "[41]\tvalidation_0-mlogloss:1.0127\n",
      "[42]\tvalidation_0-mlogloss:1.0113\n",
      "[43]\tvalidation_0-mlogloss:1.0099\n",
      "[44]\tvalidation_0-mlogloss:1.00858\n",
      "[45]\tvalidation_0-mlogloss:1.00738\n",
      "[46]\tvalidation_0-mlogloss:1.00595\n",
      "[47]\tvalidation_0-mlogloss:1.0048\n",
      "[48]\tvalidation_0-mlogloss:1.0035\n",
      "[49]\tvalidation_0-mlogloss:1.00227\n",
      "[50]\tvalidation_0-mlogloss:1.00121\n",
      "[51]\tvalidation_0-mlogloss:1.0001\n",
      "[52]\tvalidation_0-mlogloss:0.999233\n",
      "[53]\tvalidation_0-mlogloss:0.998101\n",
      "[54]\tvalidation_0-mlogloss:0.997278\n",
      "[55]\tvalidation_0-mlogloss:0.996297\n",
      "[56]\tvalidation_0-mlogloss:0.995233\n",
      "[57]\tvalidation_0-mlogloss:0.994394\n",
      "[58]\tvalidation_0-mlogloss:0.99333\n",
      "[59]\tvalidation_0-mlogloss:0.992572\n",
      "[60]\tvalidation_0-mlogloss:0.991684\n",
      "[61]\tvalidation_0-mlogloss:0.990986\n",
      "[62]\tvalidation_0-mlogloss:0.990146\n",
      "[63]\tvalidation_0-mlogloss:0.989457\n",
      "[64]\tvalidation_0-mlogloss:0.988642\n",
      "[65]\tvalidation_0-mlogloss:0.988081\n",
      "[66]\tvalidation_0-mlogloss:0.987127\n",
      "[67]\tvalidation_0-mlogloss:0.986512\n",
      "[68]\tvalidation_0-mlogloss:0.985949\n",
      "[69]\tvalidation_0-mlogloss:0.985353\n",
      "[70]\tvalidation_0-mlogloss:0.984775\n",
      "[71]\tvalidation_0-mlogloss:0.98412\n",
      "[72]\tvalidation_0-mlogloss:0.983633\n",
      "[73]\tvalidation_0-mlogloss:0.98305\n",
      "[74]\tvalidation_0-mlogloss:0.982607\n",
      "[75]\tvalidation_0-mlogloss:0.982024\n",
      "[76]\tvalidation_0-mlogloss:0.98157\n",
      "[77]\tvalidation_0-mlogloss:0.981072\n",
      "[78]\tvalidation_0-mlogloss:0.980684\n",
      "[79]\tvalidation_0-mlogloss:0.980238\n",
      "[80]\tvalidation_0-mlogloss:0.979875\n",
      "[81]\tvalidation_0-mlogloss:0.979478\n",
      "[82]\tvalidation_0-mlogloss:0.97909\n",
      "[83]\tvalidation_0-mlogloss:0.978795\n",
      "[84]\tvalidation_0-mlogloss:0.97847\n",
      "[85]\tvalidation_0-mlogloss:0.978097\n",
      "[86]\tvalidation_0-mlogloss:0.977841\n",
      "[87]\tvalidation_0-mlogloss:0.977533\n",
      "[88]\tvalidation_0-mlogloss:0.977199\n",
      "[89]\tvalidation_0-mlogloss:0.976885\n",
      "[90]\tvalidation_0-mlogloss:0.976581\n",
      "[91]\tvalidation_0-mlogloss:0.976363\n",
      "[92]\tvalidation_0-mlogloss:0.976099\n",
      "[93]\tvalidation_0-mlogloss:0.975836\n",
      "[94]\tvalidation_0-mlogloss:0.975615\n",
      "[95]\tvalidation_0-mlogloss:0.97544\n",
      "[96]\tvalidation_0-mlogloss:0.975196\n",
      "[97]\tvalidation_0-mlogloss:0.974948\n",
      "[98]\tvalidation_0-mlogloss:0.974764\n",
      "[99]\tvalidation_0-mlogloss:0.974544\n"
     ]
    },
    {
     "data": {
      "text/plain": [
       "XGBClassifier(base_score=0.5, booster='gbtree', colsample_bylevel=1,\n",
       "              colsample_bynode=1, colsample_bytree=1, gamma=0,\n",
       "              learning_rate=0.01, max_delta_step=0, max_depth=10,\n",
       "              min_child_weight=1, missing=None, n_estimators=100, n_jobs=1,\n",
       "              nthread=None, objective='multi:softprob', random_state=0,\n",
       "              reg_alpha=0, reg_lambda=1, scale_pos_weight=1, seed=None,\n",
       "              silent=None, subsample=1, verbosity=1)"
      ]
     },
     "execution_count": 8,
     "metadata": {},
     "output_type": "execute_result"
    }
   ],
   "source": [
    "#  xgboost\n",
    "from xgboost import XGBClassifier\n",
    "from xgboost import plot_importance\n",
    "from matplotlib import pyplot\n",
    "model = XGBClassifier(learning_rate=0.01,max_depth=10)\n",
    "eval_set = [(X_test, y_test)]\n",
    "model.fit(X_train, y_train, early_stopping_rounds=10, eval_metric=\"mlogloss\", eval_set=eval_set, verbose=false)"
   ]
  },
  {
   "cell_type": "code",
   "execution_count": 9,
   "metadata": {},
   "outputs": [
    {
     "data": {
      "image/png": "[encoded data removed]",
      "text/plain": [
       "<Figure size 432x288 with 1 Axes>"
      ]
     },
     "metadata": {
      "needs_background": "light"
     },
     "output_type": "display_data"
    }
   ],
   "source": [
    "plot_importance(model)\n",
    "pyplot.show()"
   ]
  },
  {
   "cell_type": "code",
   "execution_count": 10,
   "metadata": {},
   "outputs": [],
   "source": [
    "y_pred = model.predict(X_test)\n",
    "predictions = [round(value) for value in y_pred]"
   ]
  },
  {
   "cell_type": "code",
   "execution_count": 11,
   "metadata": {},
   "outputs": [
    {
     "name": "stdout",
     "output_type": "stream",
     "text": [
      "Accuracy: 50.23%\n"
     ]
    }
   ],
   "source": [
    "from sklearn.metrics import accuracy_score\n",
    "accuracy = accuracy_score(y_test, predictions)\n",
    "print(\"Accuracy: %.2f%%\" % (accuracy * 100.0))"
   ]
  },
  {
   "cell_type": "code",
   "execution_count": 12,
   "metadata": {},
   "outputs": [],
   "source": [
    "from sklearn.ensemble import VotingClassifier,RandomForestClassifier\n",
    "esb_clf2=VotingClassifier(estimators=[\n",
    "    ('Xgboost',model),\n",
    "    ('AdaBoost',bdt),\n",
    "    ('GBDT',gbr)],\n",
    "    weights=[1,1,1],\n",
    "    voting='hard')"
   ]
  },
  {
   "cell_type": "code",
   "execution_count": 13,
   "metadata": {},
   "outputs": [],
   "source": [
    "esb_clf2.fit(X_train,y_train)\n",
    "esb_pred2=esb_clf2.predict(X_test)"
   ]
  },
  {
   "cell_type": "code",
   "execution_count": 14,
   "metadata": {},
   "outputs": [
    {
     "name": "stdout",
     "output_type": "stream",
     "text": [
      "ensemble-hard:\n",
      "               precision    recall  f1-score   support\n",
      "\n",
      "           1       0.57      0.60      0.58        84\n",
      "           2       0.46      0.45      0.46        55\n",
      "           3       0.46      0.45      0.46        82\n",
      "\n",
      "    accuracy                           0.51       221\n",
      "   macro avg       0.50      0.50      0.50       221\n",
      "weighted avg       0.51      0.51      0.51       221\n",
      "\n",
      "[1 1 1 1 1 1 1 1 1 1 1 1 1 1 1 1 1 1 1 1 1 1 1 1 1 1 1 1 1 1 1 1 1 1 1 1 1\n",
      " 1 1 1 1 1 1 1 1 1 1 1 1 1 1 1 1 1 1 1 1 1 1 1 1 1 1 1 1 1 1 1 1 1 1 1 1 1\n",
      " 1 1 1 1 1 1 1 1 1 1 2 2 2 2 2 2 2 2 2 2 2 2 2 2 2 2 2 2 2 2 2 2 2 2 2 2 2\n",
      " 2 2 2 2 2 2 2 2 2 2 2 2 2 2 2 2 2 2 2 2 2 2 2 2 2 2 2 2 3 3 3 3 3 3 3 3 3\n",
      " 3 3 3 3 3 3 3 3 3 3 3 3 3 3 3 3 3 3 3 3 3 3 3 3 3 3 3 3 3 3 3 3 3 3 3 3 3\n",
      " 3 3 3 3 3 3 3 3 3 3 3 3 3 3 3 3 3 3 3 3 3 3 3 3 3 3 3 3 3 3 3 3 3 3 3 3]\n",
      "[1 2 2 1 3 2 1 1 1 1 1 1 1 1 3 1 1 2 3 3 1 2 1 3 3 1 2 2 1 1 1 2 3 1 3 1 1\n",
      " 3 3 1 1 2 1 1 1 3 3 1 1 1 1 3 3 3 1 3 1 1 1 1 3 1 1 3 1 1 2 1 3 1 1 1 1 1\n",
      " 3 1 1 1 1 3 3 3 1 3 2 1 2 1 2 3 3 3 3 2 1 2 3 3 3 3 3 1 3 1 2 2 2 2 3 3 3\n",
      " 2 2 2 2 1 3 1 2 3 1 1 2 3 2 3 1 2 2 2 3 2 2 2 2 1 3 2 2 1 2 3 1 3 1 1 2 3\n",
      " 3 3 2 1 3 1 2 2 1 3 3 2 3 3 3 1 2 1 3 1 1 1 1 3 1 2 3 2 1 3 3 3 3 3 3 3 3\n",
      " 1 1 3 3 3 1 1 3 3 3 2 2 2 1 3 2 2 3 1 2 1 3 3 2 2 3 2 2 3 3 1 3 1 1 3 1]\n"
     ]
    }
   ],
   "source": [
    "from sklearn.metrics import classification_report as report\n",
    "print('ensemble-hard:\\n',report(y_test,esb_pred2))\n",
    "print(y_test)\n",
    "print(esb_pred2)"
   ]
  },
  {
   "cell_type": "code",
   "execution_count": 15,
   "metadata": {},
   "outputs": [],
   "source": [
    "df = pd.read_csv('data/cmc_train.csv', header = None)\n",
    "data=df.values[1:]\n",
    "X_train=data[:,[0,3,7,6]]\n",
    "y_train=data[:,9]\n",
    "y_train=y_train.astype(int)\n",
    "\n",
    "df = pd.read_csv('data/cmc_test.csv', header = None)\n",
    "data=df.values[1:]\n",
    "data=data.astype(float)\n",
    "X_test=data[:,[0,3,7,6]]\n",
    "y_test=data[:,9]\n",
    "y_test=y_test.astype(int)"
   ]
  },
  {
   "cell_type": "code",
   "execution_count": 16,
   "metadata": {},
   "outputs": [
    {
     "data": {
      "text/plain": [
       "['train_model_result4.m']"
      ]
     },
     "execution_count": 16,
     "metadata": {},
     "output_type": "execute_result"
    }
   ],
   "source": [
    "# 模型训练，使用GBDT算法\n",
    "gbr = GradientBoostingClassifier(n_estimators=30000, max_depth=2, min_samples_split=2, learning_rate=0.01)\n",
    "gbr.fit(X_train, y_train.ravel())\n",
    "joblib.dump(gbr, 'train_model_result4.m')   # 保存模型"
   ]
  },
  {
   "cell_type": "code",
   "execution_count": 17,
   "metadata": {},
   "outputs": [
    {
     "name": "stdout",
     "output_type": "stream",
     "text": [
      "0.6121076233183856\n",
      "0.38009049773755654\n",
      "[3 2 2 1 2 2 2 1 3 3 1 1 3 2 3 1 3 3 1 2 2 2 1 3 1 1 3 2 2 1 1 2 2 1 3 2 3\n",
      " 1 3 1 3 2 2 3 3 2 3 1 1 2 3 3 1 3 1 3 3 2 1 3 3 3 3 3 3 2 2 1 3 1 1 1 1 1\n",
      " 3 3 3 3 1 3 1 3 2 3 3 1 2 1 2 2 1 3 3 3 1 1 3 2 2 1 3 1 1 1 2 2 1 3 1 3 3\n",
      " 2 2 1 1 1 1 3 2 3 3 2 2 3 2 1 3 1 2 3 3 2 2 2 3 1 3 1 2 1 3 3 1 3 1 1 3 1\n",
      " 3 1 2 3 2 3 2 2 3 3 3 3 3 3 3 1 2 1 3 2 3 1 2 1 1 3 1 2 3 3 1 3 2 3 3 3 3\n",
      " 3 3 3 3 1 2 3 3 3 3 1 2 2 1 3 3 2 3 1 2 2 3 1 3 2 3 2 2 2 1 1 2 3 2 1 2]\n",
      "[1 1 1 1 1 1 1 1 1 1 1 1 1 1 1 1 1 1 1 1 1 1 1 1 1 1 1 1 1 1 1 1 1 1 1 1 1\n",
      " 1 1 1 1 1 1 1 1 1 1 1 1 1 1 1 1 1 1 1 1 1 1 1 1 1 1 1 1 1 1 1 1 1 1 1 1 1\n",
      " 1 1 1 1 1 1 1 1 1 1 2 2 2 2 2 2 2 2 2 2 2 2 2 2 2 2 2 2 2 2 2 2 2 2 2 2 2\n",
      " 2 2 2 2 2 2 2 2 2 2 2 2 2 2 2 2 2 2 2 2 2 2 2 2 2 2 2 2 3 3 3 3 3 3 3 3 3\n",
      " 3 3 3 3 3 3 3 3 3 3 3 3 3 3 3 3 3 3 3 3 3 3 3 3 3 3 3 3 3 3 3 3 3 3 3 3 3\n",
      " 3 3 3 3 3 3 3 3 3 3 3 3 3 3 3 3 3 3 3 3 3 3 3 3 3 3 3 3 3 3 3 3 3 3 3 3]\n"
     ]
    }
   ],
   "source": [
    "y_gbr = gbr.predict(X_train)\n",
    "y_gbr1 = gbr.predict(X_test)\n",
    "acc_train = gbr.score(X_train, y_train)\n",
    "acc_test = gbr.score(X_test, y_test)\n",
    "print(acc_train)\n",
    "print(acc_test)\n",
    "print(y_gbr1)\n",
    "print(y_test)"
   ]
  },
  {
   "cell_type": "code",
   "execution_count": 18,
   "metadata": {},
   "outputs": [],
   "source": [
    "# AdaBoostClassifier\n",
    "bdt = AdaBoostClassifier(DecisionTreeClassifier(max_depth=2, min_samples_split=20, min_samples_leaf=5),\n",
    "                         algorithm=\"SAMME\",\n",
    "                         n_estimators=200, learning_rate=0.1)"
   ]
  },
  {
   "cell_type": "code",
   "execution_count": 19,
   "metadata": {},
   "outputs": [
    {
     "data": {
      "text/plain": [
       "AdaBoostClassifier(algorithm='SAMME',\n",
       "                   base_estimator=DecisionTreeClassifier(class_weight=None,\n",
       "                                                         criterion='gini',\n",
       "                                                         max_depth=2,\n",
       "                                                         max_features=None,\n",
       "                                                         max_leaf_nodes=None,\n",
       "                                                         min_impurity_decrease=0.0,\n",
       "                                                         min_impurity_split=None,\n",
       "                                                         min_samples_leaf=5,\n",
       "                                                         min_samples_split=20,\n",
       "                                                         min_weight_fraction_leaf=0.0,\n",
       "                                                         presort=False,\n",
       "                                                         random_state=None,\n",
       "                                                         splitter='best'),\n",
       "                   learning_rate=0.1, n_estimators=200, random_state=None)"
      ]
     },
     "execution_count": 19,
     "metadata": {},
     "output_type": "execute_result"
    }
   ],
   "source": [
    "bdt.fit(X_train,y_train)"
   ]
  },
  {
   "cell_type": "code",
   "execution_count": 20,
   "metadata": {},
   "outputs": [
    {
     "name": "stdout",
     "output_type": "stream",
     "text": [
      "0.49887892376681614\n",
      "0.42081447963800905\n",
      "[3 2 2 1 2 2 2 1 3 3 1 1 3 2 3 1 3 3 1 2 2 2 1 3 1 1 3 2 2 1 1 2 2 1 3 2 3\n",
      " 1 3 1 3 2 2 3 3 2 3 1 1 2 3 3 1 3 1 3 3 2 1 3 3 3 3 3 3 2 2 1 3 1 1 1 1 1\n",
      " 3 3 3 3 1 3 1 3 2 3 3 1 2 1 2 2 1 3 3 3 1 1 3 2 2 1 3 1 1 1 2 2 1 3 1 3 3\n",
      " 2 2 1 1 1 1 3 2 3 3 2 2 3 2 1 3 1 2 3 3 2 2 2 3 1 3 1 2 1 3 3 1 3 1 1 3 1\n",
      " 3 1 2 3 2 3 2 2 3 3 3 3 3 3 3 1 2 1 3 2 3 1 2 1 1 3 1 2 3 3 1 3 2 3 3 3 3\n",
      " 3 3 3 3 1 2 3 3 3 3 1 2 2 1 3 3 2 3 1 2 2 3 1 3 2 3 2 2 2 1 1 2 3 2 1 2]\n",
      "[1 1 1 1 1 1 1 1 1 1 1 1 1 1 1 1 1 1 1 1 1 1 1 1 1 1 1 1 1 1 1 1 1 1 1 1 1\n",
      " 1 1 1 1 1 1 1 1 1 1 1 1 1 1 1 1 1 1 1 1 1 1 1 1 1 1 1 1 1 1 1 1 1 1 1 1 1\n",
      " 1 1 1 1 1 1 1 1 1 1 2 2 2 2 2 2 2 2 2 2 2 2 2 2 2 2 2 2 2 2 2 2 2 2 2 2 2\n",
      " 2 2 2 2 2 2 2 2 2 2 2 2 2 2 2 2 2 2 2 2 2 2 2 2 2 2 2 2 3 3 3 3 3 3 3 3 3\n",
      " 3 3 3 3 3 3 3 3 3 3 3 3 3 3 3 3 3 3 3 3 3 3 3 3 3 3 3 3 3 3 3 3 3 3 3 3 3\n",
      " 3 3 3 3 3 3 3 3 3 3 3 3 3 3 3 3 3 3 3 3 3 3 3 3 3 3 3 3 3 3 3 3 3 3 3 3]\n"
     ]
    }
   ],
   "source": [
    "y_bdt = bdt.predict(X_train)\n",
    "y_bdt = bdt.predict(X_test)\n",
    "acc_train = bdt.score(X_train, y_train)\n",
    "acc_test = bdt.score(X_test, y_test)\n",
    "print(acc_train)\n",
    "print(acc_test)\n",
    "print(y_gbr1)\n",
    "print(y_test)"
   ]
  },
  {
   "cell_type": "code",
   "execution_count": 21,
   "metadata": {},
   "outputs": [
    {
     "name": "stdout",
     "output_type": "stream",
     "text": [
      "[0]\tvalidation_0-mlogloss:1.08904\n",
      "Will train until validation_0-mlogloss hasn't improved in 10 rounds.\n",
      "[1]\tvalidation_0-mlogloss:1.08147\n",
      "[2]\tvalidation_0-mlogloss:1.07576\n",
      "[3]\tvalidation_0-mlogloss:1.07237\n",
      "[4]\tvalidation_0-mlogloss:1.0698\n",
      "[5]\tvalidation_0-mlogloss:1.06747\n",
      "[6]\tvalidation_0-mlogloss:1.06589\n",
      "[7]\tvalidation_0-mlogloss:1.0649\n",
      "[8]\tvalidation_0-mlogloss:1.06438\n",
      "[9]\tvalidation_0-mlogloss:1.06412\n",
      "[10]\tvalidation_0-mlogloss:1.06509\n",
      "[11]\tvalidation_0-mlogloss:1.066\n",
      "[12]\tvalidation_0-mlogloss:1.06807\n",
      "[13]\tvalidation_0-mlogloss:1.07079\n",
      "[14]\tvalidation_0-mlogloss:1.07368\n",
      "[15]\tvalidation_0-mlogloss:1.07747\n",
      "[16]\tvalidation_0-mlogloss:1.08085\n",
      "[17]\tvalidation_0-mlogloss:1.08421\n",
      "[18]\tvalidation_0-mlogloss:1.08782\n",
      "[19]\tvalidation_0-mlogloss:1.0917\n",
      "Stopping. Best iteration:\n",
      "[9]\tvalidation_0-mlogloss:1.06412\n",
      "\n"
     ]
    },
    {
     "data": {
      "text/plain": [
       "XGBClassifier(base_score=0.5, booster='gbtree', colsample_bylevel=1,\n",
       "              colsample_bynode=1, colsample_bytree=1, gamma=0,\n",
       "              learning_rate=0.09, max_delta_step=0, max_depth=10,\n",
       "              min_child_weight=1, missing=None, n_estimators=100, n_jobs=1,\n",
       "              nthread=None, objective='multi:softprob', random_state=0,\n",
       "              reg_alpha=0, reg_lambda=1, scale_pos_weight=1, seed=None,\n",
       "              silent=None, subsample=1, verbosity=1)"
      ]
     },
     "execution_count": 21,
     "metadata": {},
     "output_type": "execute_result"
    }
   ],
   "source": [
    "model = XGBClassifier(learning_rate=0.09,max_depth=10)\n",
    "eval_set = [(X_test, y_test)]\n",
    "model.fit(X_train, y_train, early_stopping_rounds=10, eval_metric=\"mlogloss\", eval_set=eval_set, verbose=True)"
   ]
  },
  {
   "cell_type": "code",
   "execution_count": 22,
   "metadata": {},
   "outputs": [],
   "source": [
    "y_pred = model.predict(X_test)\n",
    "predictions = [round(value) for value in y_pred]"
   ]
  },
  {
   "cell_type": "code",
   "execution_count": 23,
   "metadata": {},
   "outputs": [
    {
     "name": "stdout",
     "output_type": "stream",
     "text": [
      "Accuracy: 44.34%\n"
     ]
    }
   ],
   "source": [
    "from sklearn.metrics import accuracy_score\n",
    "accuracy = accuracy_score(y_test, predictions)\n",
    "print(\"Accuracy: %.2f%%\" % (accuracy * 100.0))"
   ]
  },
  {
   "cell_type": "code",
   "execution_count": 24,
   "metadata": {},
   "outputs": [
    {
     "data": {
      "text/plain": [
       "RandomForestClassifier(bootstrap=True, class_weight=None, criterion='gini',\n",
       "                       max_depth=4, max_features='auto', max_leaf_nodes=None,\n",
       "                       min_impurity_decrease=0.0, min_impurity_split=None,\n",
       "                       min_samples_leaf=1, min_samples_split=2,\n",
       "                       min_weight_fraction_leaf=0.0, n_estimators=21,\n",
       "                       n_jobs=None, oob_score=False, random_state=0, verbose=0,\n",
       "                       warm_start=False)"
      ]
     },
     "execution_count": 24,
     "metadata": {},
     "output_type": "execute_result"
    }
   ],
   "source": [
    "rf_clf=RandomForestClassifier(\n",
    "    n_estimators=21,\n",
    "    criterion=\"gini\",\n",
    "    max_depth=4,\n",
    "    random_state=0)\n",
    "rf_clf.fit(X_train,y_train)"
   ]
  },
  {
   "cell_type": "code",
   "execution_count": 25,
   "metadata": {},
   "outputs": [
    {
     "name": "stdout",
     "output_type": "stream",
     "text": [
      "rf:\n",
      "               precision    recall  f1-score   support\n",
      "\n",
      "           1       0.50      0.33      0.40        84\n",
      "           2       0.33      0.29      0.31        55\n",
      "           3       0.44      0.63      0.52        82\n",
      "\n",
      "    accuracy                           0.43       221\n",
      "   macro avg       0.43      0.42      0.41       221\n",
      "weighted avg       0.44      0.43      0.42       221\n",
      "\n",
      "[1 1 1 1 1 1 1 1 1 1 1 1 1 1 1 1 1 1 1 1 1 1 1 1 1 1 1 1 1 1 1 1 1 1 1 1 1\n",
      " 1 1 1 1 1 1 1 1 1 1 1 1 1 1 1 1 1 1 1 1 1 1 1 1 1 1 1 1 1 1 1 1 1 1 1 1 1\n",
      " 1 1 1 1 1 1 1 1 1 1 2 2 2 2 2 2 2 2 2 2 2 2 2 2 2 2 2 2 2 2 2 2 2 2 2 2 2\n",
      " 2 2 2 2 2 2 2 2 2 2 2 2 2 2 2 2 2 2 2 2 2 2 2 2 2 2 2 2 3 3 3 3 3 3 3 3 3\n",
      " 3 3 3 3 3 3 3 3 3 3 3 3 3 3 3 3 3 3 3 3 3 3 3 3 3 3 3 3 3 3 3 3 3 3 3 3 3\n",
      " 3 3 3 3 3 3 3 3 3 3 3 3 3 3 3 3 3 3 3 3 3 3 3 3 3 3 3 3 3 3 3 3 3 3 3 3]\n",
      "[1 1 2 3 3 2 2 1 3 1 1 1 3 2 3 3 3 3 3 3 2 2 1 3 3 3 3 2 2 1 1 2 3 1 3 3 3\n",
      " 1 3 1 1 2 3 3 3 3 3 1 1 3 3 3 1 3 1 1 3 2 2 3 1 3 3 3 2 1 3 1 3 1 1 1 2 1\n",
      " 3 3 3 3 1 3 3 1 2 1 2 1 2 3 3 2 3 1 3 3 3 1 3 3 3 1 3 1 1 1 2 2 1 3 3 3 3\n",
      " 3 3 1 1 2 1 3 2 3 3 1 2 3 2 2 3 1 2 2 3 2 1 2 3 1 3 2 2 1 3 3 1 1 1 3 3 3\n",
      " 3 1 3 3 3 2 2 2 1 3 3 3 3 3 3 1 2 1 3 2 3 3 1 3 3 3 3 2 3 3 1 3 2 3 3 3 3\n",
      " 3 3 3 3 3 2 3 3 3 3 3 2 2 1 3 3 2 3 3 2 2 3 1 3 2 3 2 2 3 3 1 3 3 3 3 2]\n"
     ]
    }
   ],
   "source": [
    "rf_pred=rf_clf.predict(X_test)\n",
    "print('rf:\\n',report(y_test, rf_pred))\n",
    "print(y_test)\n",
    "print(rf_pred)"
   ]
  },
  {
   "cell_type": "code",
   "execution_count": 26,
   "metadata": {},
   "outputs": [],
   "source": [
    "esb_clf2=VotingClassifier(estimators=[\n",
    "    ('Xgboost',model),\n",
    "    ('AdaBoost',bdt),\n",
    "    ('GBDT',gbr),\n",
    "    ('RF',rf_clf)],\n",
    "    weights=[1,0.4,1,0.4],\n",
    "    voting='hard')"
   ]
  },
  {
   "cell_type": "code",
   "execution_count": 27,
   "metadata": {},
   "outputs": [],
   "source": [
    "esb_clf2.fit(X_train,y_train)\n",
    "esb_pred2=esb_clf2.predict(X_test)"
   ]
  },
  {
   "cell_type": "code",
   "execution_count": 28,
   "metadata": {},
   "outputs": [
    {
     "name": "stdout",
     "output_type": "stream",
     "text": [
      "ensemble-hard:\n",
      "               precision    recall  f1-score   support\n",
      "\n",
      "           1       0.45      0.40      0.43        84\n",
      "           2       0.36      0.35      0.35        55\n",
      "           3       0.45      0.50      0.47        82\n",
      "\n",
      "    accuracy                           0.43       221\n",
      "   macro avg       0.42      0.42      0.42       221\n",
      "weighted avg       0.42      0.43      0.42       221\n",
      "\n",
      "[1 1 1 1 1 1 1 1 1 1 1 1 1 1 1 1 1 1 1 1 1 1 1 1 1 1 1 1 1 1 1 1 1 1 1 1 1\n",
      " 1 1 1 1 1 1 1 1 1 1 1 1 1 1 1 1 1 1 1 1 1 1 1 1 1 1 1 1 1 1 1 1 1 1 1 1 1\n",
      " 1 1 1 1 1 1 1 1 1 1 2 2 2 2 2 2 2 2 2 2 2 2 2 2 2 2 2 2 2 2 2 2 2 2 2 2 2\n",
      " 2 2 2 2 2 2 2 2 2 2 2 2 2 2 2 2 2 2 2 2 2 2 2 2 2 2 2 2 3 3 3 3 3 3 3 3 3\n",
      " 3 3 3 3 3 3 3 3 3 3 3 3 3 3 3 3 3 3 3 3 3 3 3 3 3 3 3 3 3 3 3 3 3 3 3 3 3\n",
      " 3 3 3 3 3 3 3 3 3 3 3 3 3 3 3 3 3 3 3 3 3 3 3 3 3 3 3 3 3 3 3 3 3 3 3 3]\n",
      "[3 1 2 3 2 2 2 1 3 1 1 1 3 2 3 1 3 3 1 3 1 2 1 3 3 1 3 1 2 1 1 2 2 1 3 3 3\n",
      " 1 3 1 1 1 2 3 3 3 1 1 1 3 3 3 1 3 1 1 3 2 1 3 3 3 3 3 2 1 2 1 3 1 1 1 1 1\n",
      " 3 3 3 3 1 1 3 3 2 3 2 1 2 1 2 2 1 3 3 3 3 1 3 2 2 1 1 1 1 1 1 2 1 3 1 3 3\n",
      " 2 2 1 1 2 1 3 2 3 3 2 2 1 2 1 3 1 2 2 3 2 1 2 3 1 3 1 2 1 3 3 1 3 1 1 3 3\n",
      " 3 1 3 3 2 2 2 2 3 3 3 3 1 3 3 1 2 1 3 2 3 1 1 1 1 3 1 2 3 3 1 3 2 3 3 3 3\n",
      " 3 3 3 3 3 2 3 3 3 3 1 2 2 1 3 3 2 3 1 2 2 3 1 3 2 3 2 2 2 3 1 1 3 2 1 2]\n"
     ]
    }
   ],
   "source": [
    "from sklearn.metrics import classification_report as report\n",
    "print('ensemble-hard:\\n',report(y_test,esb_pred2))\n",
    "print(y_test)\n",
    "print(esb_pred2)"
   ]
  },
  {
   "cell_type": "code",
   "execution_count": null,
   "metadata": {},
   "outputs": [],
   "source": []
  }
 ],
 "metadata": {
  "kernelspec": {
   "display_name": "Python 3",
   "language": "python",
   "name": "python3"
  },
  "language_info": {
   "codemirror_mode": {
    "name": "ipython",
    "version": 3
   },
   "file_extension": ".py",
   "mimetype": "text/x-python",
   "name": "python",
   "nbconvert_exporter": "python",
   "pygments_lexer": "ipython3",
   "version": "3.7.4"
  }
 },
 "nbformat": 4,
 "nbformat_minor": 2
}
