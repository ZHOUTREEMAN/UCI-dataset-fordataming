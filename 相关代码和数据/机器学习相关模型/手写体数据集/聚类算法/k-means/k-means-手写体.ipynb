{
 "cells": [
  {
   "cell_type": "code",
   "execution_count": 1,
   "metadata": {
    "collapsed": true
   },
   "outputs": [
    {
     "name": "stdout",
     "output_type": "stream",
     "text": [
      "[0 0 0 ... 9 9 9]\n",
      "[[0.5        0.         0.         ... 0.73425091 0.38877325 0.42131948]\n",
      " [0.5        0.         0.         ... 0.82304084 0.42833609 0.25380044]\n",
      " [0.5        0.         0.         ... 0.92634334 0.36097695 0.36151675]\n",
      " ...\n",
      " [0.5        0.16666667 0.2        ... 0.44854564 0.38457959 0.40132538]\n",
      " [0.5        0.16666667 0.2        ... 0.52898297 0.4798108  0.23840686]\n",
      " [0.5        0.16666667 0.2        ... 0.32316285 0.42696817 0.58706008]]\n",
      "train_features (1280, 22)\n",
      "train_labels (1280,)\n",
      "[0 0 0 0 0 0 0 0 0 0 0 0 0 0 0 0 0 0 0 0 0 0 0 0 0 0 0 0 0 0 0 0 1 1 1 1 1\n",
      " 1 1 1 1 1 1 1 1 1 1 1 1 1 1 1 1 1 1 1 1 1 1 1 1 1 1 1 2 2 2 2 2 2 2 2 2 2\n",
      " 2 2 2 2 2 2 2 2 2 2 2 2 2 2 2 2 2 2 2 2 2 2 3 3 3 3 3 3 3 3 3 3 3 3 3 3 3\n",
      " 3 3 3 3 3 3 3 3 3 3 3 3 3 3 3 3 3 4 4 4 4 4 4 4 4 4 4 4 4 4 4 4 4 4 4 4 4\n",
      " 4 4 4 4 4 4 4 4 4 4 4 4 5 5 5 5 5 5 5 5 5 5 5 5 5 5 5 5 5 5 5 5 5 5 5 5 5\n",
      " 5 5 5 5 5 5 5 6 6 6 6 6 6 6 6 6 6 6 6 6 6 6 6 6 6 6 6 6 6 6 6 6 6 6 6 6 6\n",
      " 6 6 7 7 7 7 7 7 7 7 7 7 7 7 7 7 7 7 7 7 7 7 7 7 7 7 7 7 7 7 7 7 7 7 8 8 8\n",
      " 8 8 8 8 8 8 8 8 8 8 8 8 8 8 8 8 8 8 8 8 8 8 8 8 8 8 8 8 8 9 9 9 9 9 9 9 9\n",
      " 9 9 9 9 9 9 9 9 9 9 9 9 9 9 9 9 9 9 9 9 9 9 9 9]\n",
      "[[0.5        0.         0.         ... 0.75335054 0.3838494  0.51892883]\n",
      " [0.5        0.         0.         ... 0.94321124 0.36724348 0.35012024]\n",
      " [0.5        0.         0.         ... 0.86073744 0.31512445 0.47410618]\n",
      " ...\n",
      " [0.         0.33333333 0.         ... 0.41501701 0.28500716 0.55477723]\n",
      " [0.5        0.16666667 0.2        ... 0.5869784  0.29962111 0.35558491]\n",
      " [0.5        0.16666667 0.2        ... 0.42080872 0.27937135 0.61595154]]\n",
      "test_features (320, 22)\n",
      "test_labels (320,)\n",
      "[[0.5        0.         0.         ... 0.73425091 0.38877325 0.42131948]\n",
      " [0.5        0.         0.         ... 0.82304084 0.42833609 0.25380044]\n",
      " [0.5        0.         0.         ... 0.92634334 0.36097695 0.36151675]\n",
      " ...\n",
      " [0.         0.33333333 0.         ... 0.41501701 0.28500716 0.55477723]\n",
      " [0.5        0.16666667 0.2        ... 0.5869784  0.29962111 0.35558491]\n",
      " [0.5        0.16666667 0.2        ... 0.42080872 0.27937135 0.61595154]]\n",
      "[0 0 0 ... 9 9 9]\n",
      "X (1600, 22)\n",
      "y (1600,)\n"
     ]
    }
   ],
   "source": [
    "import numpy as np\n",
    "import pandas as pd\n",
    "df = pd.read_csv('train2.csv')\n",
    "\n",
    "train_labels = df['label']\n",
    "train_labels = np.array(train_labels)\n",
    "print(train_labels)\n",
    "\n",
    "train_features = df.iloc[:,:22]\n",
    "train_features = np.array(train_features)\n",
    "print(train_features)\n",
    "\n",
    "print('train_features', train_features.shape)\n",
    "print('train_labels', train_labels.shape)\n",
    "\n",
    "df = pd.read_csv('test2.csv')\n",
    "\n",
    "test_labels = df['label']\n",
    "test_labels = np.array(test_labels)\n",
    "print(test_labels)\n",
    "\n",
    "test_features = df.iloc[:,:22]\n",
    "test_features = np.array(test_features)\n",
    "print(test_features)\n",
    "\n",
    "print('test_features', test_features.shape)\n",
    "print('test_labels', test_labels.shape)\n",
    "X = np.vstack((train_features, test_features))\n",
    "y = np.hstack((train_labels, test_labels))\n",
    "print(X)\n",
    "print(y)\n",
    "print('X', X.shape)\n",
    "print('y', y.shape)"
   ]
  },
  {
   "cell_type": "code",
   "execution_count": 13,
   "metadata": {},
   "outputs": [
    {
     "data": {
      "image/png": "[encoded data removed]",
      "text/plain": [
       "<Figure size 432x288 with 1 Axes>"
      ]
     },
     "metadata": {
      "needs_background": "light"
     },
     "output_type": "display_data"
    },
    {
     "name": "stdout",
     "output_type": "stream",
     "text": [
      "n_clusters=10\n",
      "adjusted_rand_score： 0.9753246155624852\n"
     ]
    }
   ],
   "source": [
    "import numpy as np\n",
    "import matplotlib.pyplot as plt\n",
    "from sklearn.cluster import KMeans\n",
    "from sklearn import metrics\n",
    "\n",
    "y_pred = KMeans(n_clusters=10, random_state=0).fit_predict(X)\n",
    "plt.scatter(X[:, 1], X[:, 2], c=y_pred)\n",
    "plt.show()\n",
    "print('n_clusters=10')\n",
    "print('adjusted_rand_score：',metrics.adjusted_rand_score(y, y_pred))"
   ]
  },
  {
   "cell_type": "code",
   "execution_count": 11,
   "metadata": {},
   "outputs": [
    {
     "name": "stdout",
     "output_type": "stream",
     "text": [
      "[0.5 0.5 0.5 ... 0.  0.5 0.5]\n",
      "[0.  0.  0.  ... 0.  0.2 0.2]\n"
     ]
    }
   ],
   "source": [
    "print(X[:, 0])\n",
    "print(X[:, 2])"
   ]
  },
  {
   "cell_type": "code",
   "execution_count": 6,
   "metadata": {},
   "outputs": [
    {
     "name": "stdout",
     "output_type": "stream",
     "text": [
      "[[0.5        0.         0.         ... 0.73425091 0.38877325 0.42131948]\n",
      " [0.5        0.         0.         ... 0.82304084 0.42833609 0.25380044]\n",
      " [0.5        0.         0.         ... 0.92634334 0.36097695 0.36151675]\n",
      " ...\n",
      " [0.         0.33333333 0.         ... 0.41501701 0.28500716 0.55477723]\n",
      " [0.5        0.16666667 0.2        ... 0.5869784  0.29962111 0.35558491]\n",
      " [0.5        0.16666667 0.2        ... 0.42080872 0.27937135 0.61595154]]\n"
     ]
    }
   ],
   "source": [
    "print(X)"
   ]
  },
  {
   "cell_type": "code",
   "execution_count": null,
   "metadata": {},
   "outputs": [],
   "source": []
  }
 ],
 "metadata": {
  "kernelspec": {
   "display_name": "Python 3",
   "language": "python",
   "name": "python3"
  },
  "language_info": {
   "codemirror_mode": {
    "name": "ipython",
    "version": 3
   },
   "file_extension": ".py",
   "mimetype": "text/x-python",
   "name": "python",
   "nbconvert_exporter": "python",
   "pygments_lexer": "ipython3",
   "version": "3.7.4"
  }
 },
 "nbformat": 4,
 "nbformat_minor": 2
}
