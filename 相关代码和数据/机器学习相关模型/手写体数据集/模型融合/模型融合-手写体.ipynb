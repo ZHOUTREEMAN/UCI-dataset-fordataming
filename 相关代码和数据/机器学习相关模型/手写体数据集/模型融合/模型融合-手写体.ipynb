{
 "cells": [
  {
   "cell_type": "code",
   "execution_count": 1,
   "metadata": {
    "collapsed": true
   },
   "outputs": [
    {
     "name": "stdout",
     "output_type": "stream",
     "text": [
      "[0 0 0 ... 9 9 9]\n",
      "[[0.5        0.         0.         ... 0.73425091 0.38877325 0.42131948]\n",
      " [0.5        0.         0.         ... 0.82304084 0.42833609 0.25380044]\n",
      " [0.5        0.         0.         ... 0.92634334 0.36097695 0.36151675]\n",
      " ...\n",
      " [0.5        0.16666667 0.2        ... 0.44854564 0.38457959 0.40132538]\n",
      " [0.5        0.16666667 0.2        ... 0.52898297 0.4798108  0.23840686]\n",
      " [0.5        0.16666667 0.2        ... 0.32316285 0.42696817 0.58706008]]\n",
      "train_features (1280, 22)\n",
      "train_labels (1280,)\n",
      "[0 0 0 0 0 0 0 0 0 0 0 0 0 0 0 0 0 0 0 0 0 0 0 0 0 0 0 0 0 0 0 0 1 1 1 1 1\n",
      " 1 1 1 1 1 1 1 1 1 1 1 1 1 1 1 1 1 1 1 1 1 1 1 1 1 1 1 2 2 2 2 2 2 2 2 2 2\n",
      " 2 2 2 2 2 2 2 2 2 2 2 2 2 2 2 2 2 2 2 2 2 2 3 3 3 3 3 3 3 3 3 3 3 3 3 3 3\n",
      " 3 3 3 3 3 3 3 3 3 3 3 3 3 3 3 3 3 4 4 4 4 4 4 4 4 4 4 4 4 4 4 4 4 4 4 4 4\n",
      " 4 4 4 4 4 4 4 4 4 4 4 4 5 5 5 5 5 5 5 5 5 5 5 5 5 5 5 5 5 5 5 5 5 5 5 5 5\n",
      " 5 5 5 5 5 5 5 6 6 6 6 6 6 6 6 6 6 6 6 6 6 6 6 6 6 6 6 6 6 6 6 6 6 6 6 6 6\n",
      " 6 6 7 7 7 7 7 7 7 7 7 7 7 7 7 7 7 7 7 7 7 7 7 7 7 7 7 7 7 7 7 7 7 7 8 8 8\n",
      " 8 8 8 8 8 8 8 8 8 8 8 8 8 8 8 8 8 8 8 8 8 8 8 8 8 8 8 8 8 9 9 9 9 9 9 9 9\n",
      " 9 9 9 9 9 9 9 9 9 9 9 9 9 9 9 9 9 9 9 9 9 9 9 9]\n",
      "[[0.5        0.         0.         ... 0.75335054 0.3838494  0.51892883]\n",
      " [0.5        0.         0.         ... 0.94321124 0.36724348 0.35012024]\n",
      " [0.5        0.         0.         ... 0.86073744 0.31512445 0.47410618]\n",
      " ...\n",
      " [0.         0.33333333 0.         ... 0.41501701 0.28500716 0.55477723]\n",
      " [0.5        0.16666667 0.2        ... 0.5869784  0.29962111 0.35558491]\n",
      " [0.5        0.16666667 0.2        ... 0.42080872 0.27937135 0.61595154]]\n",
      "test_features (320, 22)\n",
      "test_labels (320,)\n"
     ]
    }
   ],
   "source": [
    "import numpy as np\n",
    "import pandas as pd\n",
    "df = pd.read_csv('train2.csv')\n",
    "\n",
    "train_labels = df['label']\n",
    "train_labels = np.array(train_labels)\n",
    "print(train_labels)\n",
    "\n",
    "train_features = df.iloc[:,:22]\n",
    "train_features = np.array(train_features)\n",
    "print(train_features)\n",
    "\n",
    "print('train_features', train_features.shape)\n",
    "print('train_labels', train_labels.shape)\n",
    "\n",
    "df = pd.read_csv('test2.csv')\n",
    "\n",
    "test_labels = df['label']\n",
    "test_labels = np.array(test_labels)\n",
    "print(test_labels)\n",
    "\n",
    "test_features = df.iloc[:,:22]\n",
    "test_features = np.array(test_features)\n",
    "print(test_features)\n",
    "\n",
    "print('test_features', test_features.shape)\n",
    "print('test_labels', test_labels.shape)"
   ]
  },
  {
   "cell_type": "code",
   "execution_count": 2,
   "metadata": {},
   "outputs": [],
   "source": [
    "# 导入包\n",
    "import numpy as np\n",
    "import pandas as pd\n",
    "import matplotlib.pyplot as plt\n",
    "from sklearn.model_selection import train_test_split\n",
    "from sklearn.model_selection import KFold\n",
    "from vecstack import stacking\n",
    "from sklearn.model_selection import GridSearchCV,ParameterGrid\n",
    "from sklearn.svm import SVC\n",
    "from sklearn.linear_model import LogisticRegression\n",
    "from sklearn.tree import DecisionTreeClassifier\n",
    "from sklearn.ensemble import RandomForestClassifier\n",
    "from xgboost import XGBClassifier\n",
    "from sklearn.ensemble import GradientBoostingClassifier\n",
    "from sklearn import metrics\n",
    "import warnings\n",
    "\n",
    "plt.rcParams['font.sans-serif']=['SimHei']\n",
    "plt.rcParams['axes.unicode_minus']=False\n",
    "warnings.filterwarnings('ignore')\n"
   ]
  },
  {
   "cell_type": "code",
   "execution_count": 3,
   "metadata": {},
   "outputs": [
    {
     "name": "stdout",
     "output_type": "stream",
     "text": [
      "rel_knn_algorithm： brute\n",
      "rel_weight： distance\n",
      "rel_nearest_neighbor： 4\n"
     ]
    }
   ],
   "source": [
    "#获取准确率最高的rel_knn_algorithm、rel_weight和rel_nearest_neighbor\n",
    "from sklearn import neighbors,decomposition\n",
    "rel_nearest_neighbor = 0\n",
    "rel_knn_algorithm = ''\n",
    "rel_weight = ''\n",
    "knn_algorithms = ['ball_tree', 'kd_tree', 'brute']\n",
    "weights = ['uniform', 'distance']\n",
    "rel_pre = -1\n",
    "\n",
    "for knn_algorithm in knn_algorithms:\n",
    "    #nearest_neighbor参数范围为1-200\n",
    "    for nearest_neighbor in range(1,int(2000 * 0.1)):\n",
    "        for weight in weights:\n",
    "            clf = neighbors.KNeighborsClassifier(n_neighbors = nearest_neighbor, weights=weight, algorithm=knn_algorithm)\n",
    "            clf = clf.fit(train_features, train_labels)\n",
    "\n",
    "            pre = clf.predict(test_features)\n",
    "            accuracy = np.sum(pre == test_labels) / pre.shape[0]\n",
    "            #print('knn_algorithm =',knn_algorithm,',nearest_neighbors =', nearest_neighbor,',weight =',weight,  ',accuracy=', accuracy)\n",
    "            if accuracy >= rel_pre:\n",
    "                rel_pre = accuracy\n",
    "                rel_knn_algorithm =knn_algorithm\n",
    "                rel_weight = weight\n",
    "                rel_nearest_neighbor = nearest_neighbor\n",
    "\n",
    "print('rel_knn_algorithm：',rel_knn_algorithm)\n",
    "print('rel_weight：',rel_weight)\n",
    "print('rel_nearest_neighbor：',rel_nearest_neighbor)\n",
    "from sklearn import neighbors,decomposition\n",
    "knn_cv = neighbors.KNeighborsClassifier(n_neighbors = rel_nearest_neighbor, weights=rel_weight,\n",
    "                                     algorithm=rel_knn_algorithm)"
   ]
  },
  {
   "cell_type": "code",
   "execution_count": 4,
   "metadata": {},
   "outputs": [
    {
     "name": "stdout",
     "output_type": "stream",
     "text": [
      "rel_pre： 0.965625\n",
      "rel_max_depth： 16\n",
      "rel_min_samples_leaf： 1\n"
     ]
    }
   ],
   "source": [
    "from sklearn import tree\n",
    "rel_max_depth = 0\n",
    "rel_min_samples_leaf = 0\n",
    "rel_pre = -1\n",
    "\n",
    "for max_depth in range(train_features.shape[1],2, -1):\n",
    "    for min_samples_leaf in range(1,int(2000 * 0.1),2):\n",
    "        clf = tree.DecisionTreeClassifier(max_depth = max_depth,min_samples_leaf =min_samples_leaf)\n",
    "        clf = clf.fit(train_features, train_labels)\n",
    "\n",
    "        pre = clf.predict(test_features)\n",
    "        accuracy = np.sum(pre == test_labels) / pre.shape[0]\n",
    "#        print('max_depth =',max_depth,',min_samples_leaf =', min_samples_leaf,'accuracy=', accuracy)\n",
    "        if accuracy >= rel_pre:\n",
    "            rel_pre = accuracy\n",
    "            rel_max_depth =max_depth\n",
    "            rel_min_samples_leaf = min_samples_leaf\n",
    "print('rel_pre：',rel_pre)\n",
    "print('rel_max_depth：',rel_max_depth)\n",
    "print('rel_min_samples_leaf：',rel_min_samples_leaf)\n",
    "dt_cv = tree.DecisionTreeClassifier(max_depth = rel_max_depth,min_samples_leaf =rel_min_samples_leaf)"
   ]
  },
  {
   "cell_type": "code",
   "execution_count": 5,
   "metadata": {},
   "outputs": [],
   "source": [
    "from sklearn.naive_bayes import GaussianNB,MultinomialNB\n",
    "# 创建分类器对象\n",
    "clf = GaussianNB()\n",
    "#用训练数据拟合分类器模型\n",
    "nb_sv = clf.fit(train_features.astype(np.float64), train_labels)"
   ]
  },
  {
   "cell_type": "code",
   "execution_count": 6,
   "metadata": {},
   "outputs": [
    {
     "name": "stdout",
     "output_type": "stream",
     "text": [
      "Final 测试集准确率：0.9875\n",
      "\n",
      "Final 测试集精确率：0.9875\n",
      "\n",
      "Final 测试集召回率：0.9875\n",
      "\n",
      "Final 测试集f1评分：0.9875\n",
      "\n"
     ]
    }
   ],
   "source": [
    "# 模型融合\n",
    "model_list = [knn_cv,nb_sv]\n",
    "S_train, S_test = stacking(model_list, train_features, train_labels,test_features, regression=False, n_folds=100)\n",
    "\n",
    "# # Initialize 2-nd level model\n",
    "model = GradientBoostingClassifier(learning_rate = 0.1, n_estimators = 100, max_depth = 5)\n",
    "\n",
    "# # Fit 2-nd level model\n",
    "model_s = model.fit(S_train, train_labels)\n",
    "\n",
    "# # Predict\n",
    "y_pred = model_s.predict(S_test)\n",
    "\n",
    "# Final prediction score\n",
    "# print('Final prediction score: [%.8f]' % metrics.accuracy_score(test_labels, y_pred))\n",
    "acc_score_test = metrics.accuracy_score(y_pred, test_labels)\n",
    "precision_score_test = metrics.precision_score(y_pred, test_labels, average=\"micro\")\n",
    "recall_score_test = metrics.recall_score(y_pred, test_labels, average=\"micro\")\n",
    "f1_score_test = metrics.f1_score(y_pred, test_labels, average=\"micro\")\n",
    "\n",
    "# scoring='roc_auc'是用来检测定性数据结果的，比如好人坏人，是和否等，即结果为0或1的数据预测\n",
    "# roc_auc_score_test = metrics.roc_auc_score(y_pred, test_labels,average=\"micro\")\n",
    "\n",
    "print('Final 测试集准确率：{}\\n'.format(acc_score_test))\n",
    "print('Final 测试集精确率：{}\\n'.format(precision_score_test))\n",
    "print('Final 测试集召回率：{}\\n'.format(recall_score_test))\n",
    "print('Final 测试集f1评分：{}\\n'.format(f1_score_test))\n",
    "# print('Final 测试集AUC值：{}\\n'.format(roc_auc_score_test))\n",
    "        \n",
    "        \n",
    "\n",
    "# model_est(model_dict_s, x_train, x_test, y_train, y_test) \n",
    "\n"
   ]
  },
  {
   "cell_type": "code",
   "execution_count": 13,
   "metadata": {
    "scrolled": true
   },
   "outputs": [
    {
     "name": "stdout",
     "output_type": "stream",
     "text": [
      "n_folds = 2 f1_score= 0.4125\n",
      "n_folds = 3 f1_score= 0.19375\n",
      "n_folds = 4 f1_score= 0.20625\n",
      "n_folds = 5 f1_score= 0.009375\n",
      "n_folds = 6 f1_score= 0.39375\n",
      "n_folds = 7 f1_score= 0.58125\n",
      "n_folds = 8 f1_score= 0.603125\n",
      "n_folds = 9 f1_score= 0.7875\n",
      "n_folds = 10 f1_score= 0.0031250000000000006\n",
      "n_folds = 11 f1_score= 0.984375\n",
      "n_folds = 12 f1_score= 0.984375\n",
      "n_folds = 13 f1_score= 0.98125\n",
      "n_folds = 14 f1_score= 0.984375\n",
      "n_folds = 15 f1_score= 0.98125\n",
      "n_folds = 16 f1_score= 0.990625\n",
      "n_folds = 17 f1_score= 0.984375\n",
      "n_folds = 18 f1_score= 0.984375\n",
      "n_folds = 19 f1_score= 0.984375\n",
      "n_folds = 20 f1_score= 0.98125\n",
      "n_folds = 21 f1_score= 0.98125\n",
      "n_folds = 22 f1_score= 0.984375\n",
      "n_folds = 23 f1_score= 0.984375\n",
      "n_folds = 24 f1_score= 0.984375\n",
      "n_folds = 25 f1_score= 0.984375\n",
      "n_folds = 26 f1_score= 0.98125\n",
      "n_folds = 27 f1_score= 0.984375\n",
      "n_folds = 28 f1_score= 0.984375\n",
      "n_folds = 29 f1_score= 0.984375\n",
      "n_folds = 30 f1_score= 0.984375\n",
      "n_folds = 31 f1_score= 0.984375\n",
      "n_folds = 32 f1_score= 0.984375\n",
      "n_folds = 33 f1_score= 0.984375\n",
      "n_folds = 34 f1_score= 0.984375\n",
      "n_folds = 35 f1_score= 0.984375\n",
      "n_folds = 36 f1_score= 0.984375\n",
      "n_folds = 37 f1_score= 0.984375\n",
      "n_folds = 38 f1_score= 0.984375\n",
      "n_folds = 39 f1_score= 0.984375\n",
      "n_folds = 40 f1_score= 0.98125\n",
      "n_folds = 41 f1_score= 0.984375\n",
      "n_folds = 42 f1_score= 0.98125\n",
      "n_folds = 43 f1_score= 0.978125\n",
      "n_folds = 44 f1_score= 0.984375\n",
      "n_folds = 45 f1_score= 0.984375\n",
      "n_folds = 46 f1_score= 0.98125\n",
      "n_folds = 47 f1_score= 0.984375\n",
      "n_folds = 48 f1_score= 0.984375\n",
      "n_folds = 49 f1_score= 0.984375\n",
      "n_folds = 50 f1_score= 0.98125\n",
      "n_folds = 51 f1_score= 0.984375\n",
      "n_folds = 52 f1_score= 0.984375\n",
      "n_folds = 53 f1_score= 0.984375\n",
      "n_folds = 54 f1_score= 0.984375\n",
      "n_folds = 55 f1_score= 0.984375\n",
      "n_folds = 56 f1_score= 0.984375\n",
      "n_folds = 57 f1_score= 0.984375\n",
      "n_folds = 58 f1_score= 0.984375\n",
      "n_folds = 59 f1_score= 0.984375\n",
      "n_folds = 60 f1_score= 0.984375\n",
      "n_folds = 61 f1_score= 0.984375\n",
      "n_folds = 62 f1_score= 0.984375\n",
      "n_folds = 63 f1_score= 0.98125\n",
      "n_folds = 64 f1_score= 0.984375\n",
      "n_folds = 65 f1_score= 0.984375\n",
      "n_folds = 66 f1_score= 0.984375\n",
      "n_folds = 67 f1_score= 0.984375\n",
      "n_folds = 68 f1_score= 0.98125\n",
      "n_folds = 69 f1_score= 0.984375\n",
      "n_folds = 70 f1_score= 0.98125\n",
      "n_folds = 71 f1_score= 0.984375\n",
      "n_folds = 72 f1_score= 0.984375\n",
      "n_folds = 73 f1_score= 0.984375\n",
      "n_folds = 74 f1_score= 0.984375\n",
      "n_folds = 75 f1_score= 0.98125\n",
      "n_folds = 76 f1_score= 0.984375\n",
      "n_folds = 77 f1_score= 0.984375\n",
      "n_folds = 78 f1_score= 0.984375\n",
      "n_folds = 79 f1_score= 0.984375\n",
      "n_folds = 80 f1_score= 0.984375\n",
      "n_folds = 81 f1_score= 0.98125\n",
      "n_folds = 82 f1_score= 0.984375\n",
      "n_folds = 83 f1_score= 0.984375\n",
      "n_folds = 84 f1_score= 0.984375\n",
      "n_folds = 85 f1_score= 0.984375\n",
      "n_folds = 86 f1_score= 0.984375\n",
      "n_folds = 87 f1_score= 0.984375\n",
      "n_folds = 88 f1_score= 0.984375\n",
      "n_folds = 89 f1_score= 0.98125\n",
      "n_folds = 90 f1_score= 0.984375\n",
      "n_folds = 91 f1_score= 0.98125\n",
      "n_folds = 92 f1_score= 0.984375\n",
      "n_folds = 93 f1_score= 0.984375\n",
      "n_folds = 94 f1_score= 0.98125\n",
      "n_folds = 95 f1_score= 0.984375\n",
      "n_folds = 96 f1_score= 0.984375\n",
      "n_folds = 97 f1_score= 0.984375\n",
      "n_folds = 98 f1_score= 0.98125\n",
      "n_folds = 99 f1_score= 0.984375\n",
      "n_folds = 100 f1_score= 0.984375\n"
     ]
    }
   ],
   "source": [
    "# 模型融合\n",
    "model_list = [knn_cv,dt_cv,nb_sv]\n",
    "rel_n_folds = 0\n",
    "rel_pre = -1\n",
    "rel_pred = []\n",
    "x = []\n",
    "y = []\n",
    "\n",
    "for n_fold in range(2,101, 1):\n",
    "    S_train, S_test = stacking(model_list, train_features, train_labels,test_features, regression=False, n_folds=n_fold)\n",
    "    # # Initialize 2-nd level model\n",
    "    model = GradientBoostingClassifier(learning_rate = 0.1, n_estimators = 100, max_depth = 5)\n",
    "    # # Fit 2-nd level model\n",
    "    model_s = model.fit(S_train, train_labels)\n",
    "    # # Predict\n",
    "    y_pred = model_s.predict(S_test)\n",
    "    # Final prediction score\n",
    "    f1_score = metrics.f1_score(y_pred, test_labels,average=\"micro\")\n",
    "    x.append(n_fold)\n",
    "    y.append(f1_score)\n",
    "    print('n_folds =',n_fold,'f1_score=', f1_score)\n",
    "    if f1_score >= rel_pre:\n",
    "        rel_pre = f1_score\n",
    "        rel_n_folds = n_fold\n",
    "        rel_pred = y_pred\n",
    "    \n",
    "# acc_score_test = metrics.accuracy_score(y_pred, test_labels)\n",
    "# precision_score_test = metrics.precision_score(y_pred, test_labels, average=\"micro\")\n",
    "# recall_score_test = metrics.recall_score(y_pred, test_labels, average=\"micro\")\n",
    "# f1_score_test = metrics.f1_score(y_pred, test_labels, average=\"micro\")\n",
    "\n",
    "# # scoring='roc_auc'是用来检测定性数据结果的，比如好人坏人，是和否等，即结果为0或1的数据预测\n",
    "# # roc_auc_score_test = metrics.roc_auc_score(y_pred, test_labels,average=\"micro\")\n",
    "\n",
    "# print('Final 测试集准确率：{}\\n'.format(acc_score_test))\n",
    "# print('Final 测试集精确率：{}\\n'.format(precision_score_test))\n",
    "# print('Final 测试集召回率：{}\\n'.format(recall_score_test))\n",
    "# print('Final 测试集f1评分：{}\\n'.format(f1_score_test))\n",
    "# print('Final 测试集AUC值：{}\\n'.format(roc_auc_score_test))\n",
    "        \n",
    "        \n",
    "# model_est(model_dict_s, x_train, x_test, y_train, y_test) \n",
    "\n"
   ]
  },
  {
   "cell_type": "code",
   "execution_count": 11,
   "metadata": {},
   "outputs": [
    {
     "data": {
      "image/png": "[encoded data removed]",
      "text/plain": [
       "<Figure size 1080x432 with 1 Axes>"
      ]
     },
     "metadata": {
      "needs_background": "light"
     },
     "output_type": "display_data"
    }
   ],
   "source": [
    "# -*- coding: utf-8 -*-\n",
    "import numpy as np\n",
    "import matplotlib.pyplot as plt\n",
    "from pylab import *                                 #支持中文\n",
    "mpl.rcParams['font.sans-serif'] = ['SimHei']\n",
    "\n",
    "#X轴，Y轴数据\n",
    "# x = [0,1,2,3,4,5,6]\n",
    "# y = [0.3,0.4,2,5,3,4.5,4]\n",
    "plt.figure(figsize=(15,6)) #创建绘图对象\n",
    "plt.plot(x,y,\"b\",linewidth=2)   #在当前绘图对象绘图（X轴，Y轴，蓝色虚线，线宽度）\n",
    "plt.xticks(size=18)\n",
    "plt.yticks(size=18)\n",
    "plt.xlabel(\"n_folds\",size=18) #X轴标签\n",
    "plt.ylabel(\"acc\",size=18)  #Y轴标签\n",
    "plt.title(\"模型融合-mfeat-n_folds参数-准确率变化图\",size=18) #图标题\n",
    "# 设置数字标签\n",
    "# for a, b in zip(x, y):\n",
    "#     plt.text(a, b, b, ha='center', va='bottom')\n",
    "\n",
    "from matplotlib.pyplot import MultipleLocator\n",
    "x_major_locator=MultipleLocator(5)\n",
    "#把x轴的刻度间隔设置为1，并存在变量里\n",
    "ax=plt.gca()\n",
    "#ax为两条坐标轴的实例\n",
    "ax.xaxis.set_major_locator(x_major_locator)\n",
    "plt.xlim(-0.5,101)    \n",
    "\n",
    "plt.savefig(\"模型融合-mfeat-n_folds参数选择图.png\") #保存图\n",
    "plt.show()  #显示图"
   ]
  },
  {
   "cell_type": "code",
   "execution_count": 14,
   "metadata": {},
   "outputs": [
    {
     "name": "stdout",
     "output_type": "stream",
     "text": [
      "[0 0 0 0 0 0 0 0 0 0 0 0 0 0 0 0 0 0 0 0 5 0 0 0 0 0 0 0 0 0 0 0 1 1 1 1 1\n",
      " 1 1 1 1 1 1 1 1 1 1 1 1 1 1 1 1 1 1 1 1 1 1 1 1 1 1 1 2 2 2 2 2 2 2 2 2 2\n",
      " 2 2 2 2 2 2 2 2 2 2 2 2 2 2 2 2 2 2 2 2 2 2 3 3 3 3 3 3 3 3 3 3 3 3 3 4 3\n",
      " 3 3 3 3 3 3 3 3 3 3 3 3 3 3 3 3 3 4 4 4 4 4 4 4 4 4 4 4 4 4 4 4 4 4 4 4 4\n",
      " 4 4 4 4 4 4 4 4 4 4 4 4 5 5 5 5 5 5 5 5 5 5 3 5 5 5 5 5 5 5 5 5 5 5 5 5 5\n",
      " 5 5 5 5 5 5 5 6 6 6 6 6 6 6 6 6 6 6 6 6 6 6 6 6 6 6 6 6 6 6 6 6 6 6 6 6 6\n",
      " 6 6 7 7 7 7 7 7 7 7 7 7 7 7 7 7 7 7 7 7 7 7 7 7 7 7 7 7 7 7 7 7 7 7 8 8 8\n",
      " 8 8 8 8 8 8 8 8 8 8 8 8 8 8 8 8 8 8 8 8 8 8 8 8 8 8 8 8 8 9 9 9 9 9 9 9 9\n",
      " 9 9 9 9 9 9 9 9 9 9 9 9 9 9 9 9 9 9 9 9 9 9 9 9]\n"
     ]
    }
   ],
   "source": [
    "print(rel_pred)"
   ]
  },
  {
   "cell_type": "code",
   "execution_count": 15,
   "metadata": {},
   "outputs": [
    {
     "name": "stdout",
     "output_type": "stream",
     "text": [
      "[0 0 0 0 0 0 0 0 0 0 0 0 0 0 0 0 0 0 0 0 5 0 0 0 0 0 0 0 0 0 0 0 1 1 1 1 1\n",
      " 1 1 1 1 1 1 1 1 1 1 1 1 1 1 1 1 1 1 1 1 1 1 1 1 1 1 1 2 2 2 2 2 2 2 2 2 2\n",
      " 2 2 2 2 2 2 2 2 2 2 2 2 2 2 2 2 2 2 2 2 2 2 3 3 3 3 3 3 3 3 3 3 3 3 3 4 3\n",
      " 3 3 3 3 3 3 3 3 3 3 3 3 3 3 3 3 3 4 4 4 4 4 4 4 4 4 4 4 4 4 4 4 4 4 4 4 4\n",
      " 4 4 4 4 4 4 4 4 4 4 4 4 5 5 5 5 5 5 5 5 5 5 3 5 5 5 5 5 5 5 5 5 5 5 5 5 5\n",
      " 5 5 5 5 5 5 5 6 6 6 6 6 6 6 6 6 6 6 6 6 6 6 6 6 6 6 6 6 6 6 6 6 6 6 6 6 6\n",
      " 6 6 7 7 7 7 7 7 7 7 7 7 7 7 7 7 7 7 7 7 7 7 7 7 7 7 7 7 7 7 7 7 7 7 8 8 8\n",
      " 8 8 8 8 8 8 8 8 8 8 8 8 8 8 8 8 8 8 8 8 8 8 8 8 8 8 8 8 8 9 9 9 9 9 9 9 9\n",
      " 9 9 9 9 9 9 9 9 9 9 9 9 9 9 9 9 9 9 9 9 9 9 9 9]\n"
     ]
    }
   ],
   "source": [
    "print(rel_pred)"
   ]
  },
  {
   "cell_type": "code",
   "execution_count": 16,
   "metadata": {},
   "outputs": [
    {
     "name": "stdout",
     "output_type": "stream",
     "text": [
      "[0 0 0 0 0 0 0 0 0 0 0 0 0 0 0 0 0 0 0 0 0 0 0 0 0 0 0 0 0 0 0 0 1 1 1 1 1\n",
      " 1 1 1 1 1 1 1 1 1 1 1 1 1 1 1 1 1 1 1 1 1 1 1 1 1 1 1 2 2 2 2 2 2 2 2 2 2\n",
      " 2 2 2 2 2 2 2 2 2 2 2 2 2 2 2 2 2 2 2 2 2 2 3 3 3 3 3 3 3 3 3 3 3 3 3 3 3\n",
      " 3 3 3 3 3 3 3 3 3 3 3 3 3 3 3 3 3 4 4 4 4 4 4 4 4 4 4 4 4 4 4 4 4 4 4 4 4\n",
      " 4 4 4 4 4 4 4 4 4 4 4 4 5 5 5 5 5 5 5 5 5 5 5 5 5 5 5 5 5 5 5 5 5 5 5 5 5\n",
      " 5 5 5 5 5 5 5 6 6 6 6 6 6 6 6 6 6 6 6 6 6 6 6 6 6 6 6 6 6 6 6 6 6 6 6 6 6\n",
      " 6 6 7 7 7 7 7 7 7 7 7 7 7 7 7 7 7 7 7 7 7 7 7 7 7 7 7 7 7 7 7 7 7 7 8 8 8\n",
      " 8 8 8 8 8 8 8 8 8 8 8 8 8 8 8 8 8 8 8 8 8 8 8 8 8 8 8 8 8 9 9 9 9 9 9 9 9\n",
      " 9 9 9 9 9 9 9 9 9 9 9 9 9 9 9 9 9 9 9 9 9 9 9 9]\n"
     ]
    }
   ],
   "source": [
    "print(test_labels)"
   ]
  },
  {
   "cell_type": "code",
   "execution_count": 17,
   "metadata": {},
   "outputs": [
    {
     "data": {
      "text/plain": [
       "317"
      ]
     },
     "execution_count": 17,
     "metadata": {},
     "output_type": "execute_result"
    }
   ],
   "source": [
    "sum(rel_pred==test_labels)"
   ]
  },
  {
   "cell_type": "code",
   "execution_count": null,
   "metadata": {},
   "outputs": [],
   "source": []
  }
 ],
 "metadata": {
  "kernelspec": {
   "display_name": "Python 3",
   "language": "python",
   "name": "python3"
  },
  "language_info": {
   "codemirror_mode": {
    "name": "ipython",
    "version": 3
   },
   "file_extension": ".py",
   "mimetype": "text/x-python",
   "name": "python",
   "nbconvert_exporter": "python",
   "pygments_lexer": "ipython3",
   "version": "3.7.4"
  }
 },
 "nbformat": 4,
 "nbformat_minor": 2
}
