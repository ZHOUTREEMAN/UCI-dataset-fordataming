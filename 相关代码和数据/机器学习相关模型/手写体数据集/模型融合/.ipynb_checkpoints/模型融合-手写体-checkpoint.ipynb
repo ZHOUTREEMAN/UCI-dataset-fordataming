{
 "cells": [
  {
   "cell_type": "code",
   "execution_count": 3,
   "metadata": {
    "scrolled": false
   },
   "outputs": [
    {
     "name": "stdout",
     "output_type": "stream",
     "text": [
      "[0 0 0 ... 9 9 9]\n",
      "[[0 3 4 ... 0 0 0]\n",
      " [0 0 0 ... 0 0 0]\n",
      " [0 0 1 ... 4 2 1]\n",
      " ...\n",
      " [0 0 0 ... 0 0 0]\n",
      " [0 0 0 ... 0 0 0]\n",
      " [0 0 1 ... 0 0 0]]\n",
      "train_features (1600, 239)\n",
      "train_labels (1600,)\n",
      "[0 0 0 0 0 0 0 0 0 0 0 0 0 0 0 0 0 0 0 0 0 0 0 0 0 0 0 0 0 0 0 0 0 0 0 0 0\n",
      " 0 0 0 1 1 1 1 1 1 1 1 1 1 1 1 1 1 1 1 1 1 1 1 1 1 1 1 1 1 1 1 1 1 1 1 1 1\n",
      " 1 1 1 1 1 1 2 2 2 2 2 2 2 2 2 2 2 2 2 2 2 2 2 2 2 2 2 2 2 2 2 2 2 2 2 2 2\n",
      " 2 2 2 2 2 2 2 2 2 3 3 3 3 3 3 3 3 3 3 3 3 3 3 3 3 3 3 3 3 3 3 3 3 3 3 3 3\n",
      " 3 3 3 3 3 3 3 3 3 3 3 3 4 4 4 4 4 4 4 4 4 4 4 4 4 4 4 4 4 4 4 4 4 4 4 4 4\n",
      " 4 4 4 4 4 4 4 4 4 4 4 4 4 4 4 5 5 5 5 5 5 5 5 5 5 5 5 5 5 5 5 5 5 5 5 5 5\n",
      " 5 5 5 5 5 5 5 5 5 5 5 5 5 5 5 5 5 5 6 6 6 6 6 6 6 6 6 6 6 6 6 6 6 6 6 6 6\n",
      " 6 6 6 6 6 6 6 6 6 6 6 6 6 6 6 6 6 6 6 6 6 7 7 7 7 7 7 7 7 7 7 7 7 7 7 7 7\n",
      " 7 7 7 7 7 7 7 7 7 7 7 7 7 7 7 7 7 7 7 7 7 7 7 7 8 8 8 8 8 8 8 8 8 8 8 8 8\n",
      " 8 8 8 8 8 8 8 8 8 8 8 8 8 8 8 8 8 8 8 8 8 8 8 8 8 8 8 9 9 9 9 9 9 9 9 9 9\n",
      " 9 9 9 9 9 9 9 9 9 9 9 9 9 9 9 9 9 9 9 9 9 9 9 9 9 9 9 9 9 9]\n",
      "[[0 0 3 ... 0 0 0]\n",
      " [0 0 0 ... 0 0 0]\n",
      " [0 0 0 ... 0 0 0]\n",
      " ...\n",
      " [0 0 0 ... 0 0 0]\n",
      " [0 0 3 ... 0 0 0]\n",
      " [0 0 0 ... 0 0 0]]\n",
      "test_features (400, 239)\n",
      "test_labels (400,)\n"
     ]
    }
   ],
   "source": [
    "import numpy as np\n",
    "import pandas as pd\n",
    "df = pd.read_csv('pix_all.csv')\n",
    "\n",
    "train_labels = df['label']\n",
    "train_labels = np.array(train_labels)\n",
    "print(train_labels)\n",
    "\n",
    "train_features = df.iloc[:,:239]\n",
    "train_features = np.array(train_features)\n",
    "print(train_features)\n",
    "\n",
    "print('train_features', train_features.shape)\n",
    "print('train_labels', train_labels.shape)\n",
    "\n",
    "df = pd.read_csv('pix_test.csv')\n",
    "\n",
    "test_labels = df['label']\n",
    "test_labels = np.array(test_labels)\n",
    "print(test_labels)\n",
    "\n",
    "test_features = df.iloc[:,:239]\n",
    "test_features = np.array(test_features)\n",
    "print(test_features)\n",
    "\n",
    "print('test_features', test_features.shape)\n",
    "print('test_labels', test_labels.shape)"
   ]
  },
  {
   "cell_type": "code",
   "execution_count": 4,
   "metadata": {},
   "outputs": [],
   "source": [
    "# 导入包\n",
    "import numpy as np\n",
    "import pandas as pd\n",
    "import matplotlib.pyplot as plt\n",
    "from sklearn.model_selection import train_test_split\n",
    "from sklearn.model_selection import KFold\n",
    "from vecstack import stacking\n",
    "from sklearn.model_selection import GridSearchCV,ParameterGrid\n",
    "from sklearn.svm import SVC\n",
    "from sklearn.linear_model import LogisticRegression\n",
    "from sklearn.tree import DecisionTreeClassifier\n",
    "from sklearn.ensemble import RandomForestClassifier\n",
    "from xgboost import XGBClassifier\n",
    "from sklearn.ensemble import GradientBoostingClassifier\n",
    "from sklearn import metrics\n",
    "import warnings\n",
    "\n",
    "plt.rcParams['font.sans-serif']=['SimHei']\n",
    "plt.rcParams['axes.unicode_minus']=False\n",
    "warnings.filterwarnings('ignore')\n"
   ]
  },
  {
   "cell_type": "code",
   "execution_count": 5,
   "metadata": {},
   "outputs": [
    {
     "name": "stdout",
     "output_type": "stream",
     "text": [
      "rel_knn_algorithm： brute\n",
      "rel_weight： distance\n",
      "rel_nearest_neighbor： 3\n"
     ]
    }
   ],
   "source": [
    "#获取准确率最高的rel_knn_algorithm、rel_weight和rel_nearest_neighbor\n",
    "from sklearn import neighbors,decomposition\n",
    "rel_nearest_neighbor = 0\n",
    "rel_knn_algorithm = ''\n",
    "rel_weight = ''\n",
    "knn_algorithms = ['ball_tree', 'kd_tree', 'brute']\n",
    "weights = ['uniform', 'distance']\n",
    "rel_pre = -1\n",
    "\n",
    "for knn_algorithm in knn_algorithms:\n",
    "    #nearest_neighbor参数范围为1-200\n",
    "    for nearest_neighbor in range(1,int(2000 * 0.1)):\n",
    "        for weight in weights:\n",
    "            clf = neighbors.KNeighborsClassifier(n_neighbors = nearest_neighbor, weights=weight, algorithm=knn_algorithm)\n",
    "            clf = clf.fit(train_features, train_labels)\n",
    "\n",
    "            pre = clf.predict(test_features)\n",
    "            accuracy = np.sum(pre == test_labels) / pre.shape[0]\n",
    "            #print('knn_algorithm =',knn_algorithm,',nearest_neighbors =', nearest_neighbor,',weight =',weight,  ',accuracy=', accuracy)\n",
    "            if accuracy >= rel_pre:\n",
    "                rel_pre = accuracy\n",
    "                rel_knn_algorithm =knn_algorithm\n",
    "                rel_weight = weight\n",
    "                rel_nearest_neighbor = nearest_neighbor\n",
    "\n",
    "print('rel_knn_algorithm：',rel_knn_algorithm)\n",
    "print('rel_weight：',rel_weight)\n",
    "print('rel_nearest_neighbor：',rel_nearest_neighbor)\n",
    "from sklearn import neighbors,decomposition\n",
    "knn_cv = neighbors.KNeighborsClassifier(n_neighbors = rel_nearest_neighbor, weights=rel_weight,\n",
    "                                     algorithm=rel_knn_algorithm)"
   ]
  },
  {
   "cell_type": "code",
   "execution_count": 6,
   "metadata": {},
   "outputs": [
    {
     "name": "stdout",
     "output_type": "stream",
     "text": [
      "rel_pre： 0.8925\n",
      "rel_max_depth： 61\n",
      "rel_min_samples_leaf： 1\n"
     ]
    }
   ],
   "source": [
    "from sklearn import tree\n",
    "rel_max_depth = 0\n",
    "rel_min_samples_leaf = 0\n",
    "rel_pre = -1\n",
    "\n",
    "for max_depth in range(train_features.shape[1],2, -1):\n",
    "    for min_samples_leaf in range(1,int(2000 * 0.1),2):\n",
    "        clf = tree.DecisionTreeClassifier(max_depth = max_depth,min_samples_leaf =min_samples_leaf)\n",
    "        clf = clf.fit(train_features, train_labels)\n",
    "\n",
    "        pre = clf.predict(test_features)\n",
    "        accuracy = np.sum(pre == test_labels) / pre.shape[0]\n",
    "#        print('max_depth =',max_depth,',min_samples_leaf =', min_samples_leaf,'accuracy=', accuracy)\n",
    "        if accuracy >= rel_pre:\n",
    "            rel_pre = accuracy\n",
    "            rel_max_depth =max_depth\n",
    "            rel_min_samples_leaf = min_samples_leaf\n",
    "print('rel_pre：',rel_pre)\n",
    "print('rel_max_depth：',rel_max_depth)\n",
    "print('rel_min_samples_leaf：',rel_min_samples_leaf)\n",
    "dt_cv = tree.DecisionTreeClassifier(max_depth = rel_max_depth,min_samples_leaf =rel_min_samples_leaf)"
   ]
  },
  {
   "cell_type": "code",
   "execution_count": 7,
   "metadata": {},
   "outputs": [],
   "source": [
    "from sklearn.naive_bayes import GaussianNB,MultinomialNB\n",
    "# 创建分类器对象\n",
    "clf = GaussianNB()\n",
    "#用训练数据拟合分类器模型\n",
    "nb_sv = clf.fit(train_features.astype(np.float64), train_labels)"
   ]
  },
  {
   "cell_type": "code",
   "execution_count": 12,
   "metadata": {},
   "outputs": [
    {
     "name": "stdout",
     "output_type": "stream",
     "text": [
      "Final 测试集准确率：0.9825\n",
      "\n",
      "Final 测试集精确率：0.9825\n",
      "\n",
      "Final 测试集召回率：0.9825\n",
      "\n",
      "Final 测试集f1评分：0.9825\n",
      "\n"
     ]
    }
   ],
   "source": [
    "# 模型融合\n",
    "model_list = [knn_cv,nb_sv]\n",
    "S_train, S_test = stacking(model_list, train_features, train_labels,test_features, regression=False, n_folds=100)\n",
    "\n",
    "# # Initialize 2-nd level model\n",
    "model = GradientBoostingClassifier(learning_rate = 0.1, n_estimators = 100, max_depth = 5)\n",
    "\n",
    "# # Fit 2-nd level model\n",
    "model_s = model.fit(S_train, train_labels)\n",
    "\n",
    "# # Predict\n",
    "y_pred = model_s.predict(S_test)\n",
    "\n",
    "# Final prediction score\n",
    "# print('Final prediction score: [%.8f]' % metrics.accuracy_score(test_labels, y_pred))\n",
    "acc_score_test = metrics.accuracy_score(y_pred, test_labels)\n",
    "precision_score_test = metrics.precision_score(y_pred, test_labels, average=\"micro\")\n",
    "recall_score_test = metrics.recall_score(y_pred, test_labels, average=\"micro\")\n",
    "f1_score_test = metrics.f1_score(y_pred, test_labels, average=\"micro\")\n",
    "\n",
    "# scoring='roc_auc'是用来检测定性数据结果的，比如好人坏人，是和否等，即结果为0或1的数据预测\n",
    "# roc_auc_score_test = metrics.roc_auc_score(y_pred, test_labels,average=\"micro\")\n",
    "\n",
    "print('Final 测试集准确率：{}\\n'.format(acc_score_test))\n",
    "print('Final 测试集精确率：{}\\n'.format(precision_score_test))\n",
    "print('Final 测试集召回率：{}\\n'.format(recall_score_test))\n",
    "print('Final 测试集f1评分：{}\\n'.format(f1_score_test))\n",
    "# print('Final 测试集AUC值：{}\\n'.format(roc_auc_score_test))\n",
    "        \n",
    "        \n",
    "\n",
    "# model_est(model_dict_s, x_train, x_test, y_train, y_test) \n",
    "\n"
   ]
  },
  {
   "cell_type": "code",
   "execution_count": null,
   "metadata": {},
   "outputs": [],
   "source": []
  }
 ],
 "metadata": {
  "kernelspec": {
   "display_name": "Python 3",
   "language": "python",
   "name": "python3"
  },
  "language_info": {
   "codemirror_mode": {
    "name": "ipython",
    "version": 3
   },
   "file_extension": ".py",
   "mimetype": "text/x-python",
   "name": "python",
   "nbconvert_exporter": "python",
   "pygments_lexer": "ipython3",
   "version": "3.7.4"
  }
 },
 "nbformat": 4,
 "nbformat_minor": 2
}
