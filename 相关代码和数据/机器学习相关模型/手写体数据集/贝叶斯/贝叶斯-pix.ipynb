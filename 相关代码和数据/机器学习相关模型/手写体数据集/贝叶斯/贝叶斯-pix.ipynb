{
 "cells": [
  {
   "cell_type": "code",
   "execution_count": 11,
   "metadata": {
    "scrolled": true
   },
   "outputs": [
    {
     "name": "stdout",
     "output_type": "stream",
     "text": [
      "[0 0 0 ... 9 9 9]\n",
      "[[0 3 4 ... 0 0 0]\n",
      " [0 0 0 ... 0 0 0]\n",
      " [0 0 1 ... 4 2 1]\n",
      " ...\n",
      " [0 0 0 ... 0 0 0]\n",
      " [0 0 0 ... 0 0 0]\n",
      " [0 0 1 ... 0 0 0]]\n",
      "train_features (1600, 239)\n",
      "train_labels (1600,)\n",
      "[0 0 0 0 0 0 0 0 0 0 0 0 0 0 0 0 0 0 0 0 0 0 0 0 0 0 0 0 0 0 0 0 0 0 0 0 0\n",
      " 0 0 0 1 1 1 1 1 1 1 1 1 1 1 1 1 1 1 1 1 1 1 1 1 1 1 1 1 1 1 1 1 1 1 1 1 1\n",
      " 1 1 1 1 1 1 2 2 2 2 2 2 2 2 2 2 2 2 2 2 2 2 2 2 2 2 2 2 2 2 2 2 2 2 2 2 2\n",
      " 2 2 2 2 2 2 2 2 2 3 3 3 3 3 3 3 3 3 3 3 3 3 3 3 3 3 3 3 3 3 3 3 3 3 3 3 3\n",
      " 3 3 3 3 3 3 3 3 3 3 3 3 4 4 4 4 4 4 4 4 4 4 4 4 4 4 4 4 4 4 4 4 4 4 4 4 4\n",
      " 4 4 4 4 4 4 4 4 4 4 4 4 4 4 4 5 5 5 5 5 5 5 5 5 5 5 5 5 5 5 5 5 5 5 5 5 5\n",
      " 5 5 5 5 5 5 5 5 5 5 5 5 5 5 5 5 5 5 6 6 6 6 6 6 6 6 6 6 6 6 6 6 6 6 6 6 6\n",
      " 6 6 6 6 6 6 6 6 6 6 6 6 6 6 6 6 6 6 6 6 6 7 7 7 7 7 7 7 7 7 7 7 7 7 7 7 7\n",
      " 7 7 7 7 7 7 7 7 7 7 7 7 7 7 7 7 7 7 7 7 7 7 7 7 8 8 8 8 8 8 8 8 8 8 8 8 8\n",
      " 8 8 8 8 8 8 8 8 8 8 8 8 8 8 8 8 8 8 8 8 8 8 8 8 8 8 8 9 9 9 9 9 9 9 9 9 9\n",
      " 9 9 9 9 9 9 9 9 9 9 9 9 9 9 9 9 9 9 9 9 9 9 9 9 9 9 9 9 9 9]\n",
      "[[0 0 3 ... 0 0 0]\n",
      " [0 0 0 ... 0 0 0]\n",
      " [0 0 0 ... 0 0 0]\n",
      " ...\n",
      " [0 0 0 ... 0 0 0]\n",
      " [0 0 3 ... 0 0 0]\n",
      " [0 0 0 ... 0 0 0]]\n",
      "test_features (400, 239)\n",
      "test_labels (400,)\n"
     ]
    }
   ],
   "source": [
    "import numpy as np\n",
    "import pandas as pd\n",
    "df = pd.read_csv('pix_all.csv')\n",
    "\n",
    "train_labels = df['label']\n",
    "train_labels = np.array(train_labels)\n",
    "print(train_labels)\n",
    "\n",
    "train_features = df.iloc[:,:239]\n",
    "train_features = np.array(train_features)\n",
    "print(train_features)\n",
    "\n",
    "print('train_features', train_features.shape)\n",
    "print('train_labels', train_labels.shape)\n",
    "\n",
    "df = pd.read_csv('pix_test.csv')\n",
    "\n",
    "test_labels = df['label']\n",
    "test_labels = np.array(test_labels)\n",
    "print(test_labels)\n",
    "\n",
    "test_features = df.iloc[:,:239]\n",
    "test_features = np.array(test_features)\n",
    "print(test_features)\n",
    "\n",
    "print('test_features', test_features.shape)\n",
    "print('test_labels', test_labels.shape)"
   ]
  },
  {
   "cell_type": "code",
   "execution_count": 3,
   "metadata": {},
   "outputs": [],
   "source": [
    "import matplotlib.pyplot as plt\n",
    "import time\n",
    "def plotBestFit(data0,data1, data2,data3,data4,data5,data6,data7,data8,data9,save_name):\n",
    "\n",
    "    a = np.shape(data0)[0]\n",
    "    b = np.shape(data1)[0]\n",
    "    c = np.shape(data2)[0]\n",
    "    d = np.shape(data3)[0]\n",
    "    e = np.shape(data4)[0]\n",
    "    f = np.shape(data5)[0]\n",
    "    g = np.shape(data6)[0]\n",
    "    h = np.shape(data7)[0]\n",
    "    i = np.shape(data8)[0]\n",
    "    j = np.shape(data9)[0]\n",
    "    \n",
    "    axis_x0 = []\n",
    "    axis_y0 = []    \n",
    "    axis_x1 = []\n",
    "    axis_y1 = []\n",
    "    axis_x2 = []\n",
    "    axis_y2 = []\n",
    "    axis_x3 = []\n",
    "    axis_y3 = []\n",
    "    axis_x4 = []\n",
    "    axis_y4 = []\n",
    "    axis_x5 = []\n",
    "    axis_y5 = []\n",
    "    axis_x6 = []\n",
    "    axis_y6 = []\n",
    "    axis_x7 = []\n",
    "    axis_y7 = []\n",
    "    axis_x8 = []\n",
    "    axis_y8 = []\n",
    "    axis_x9 = []\n",
    "    axis_y9 = []\n",
    "    \n",
    "    for aa in range(a):\n",
    "        axis_x0.append(data0[aa,0])\n",
    "        axis_y0.append(data0[aa,1])\n",
    "    for bb in range(b):\n",
    "        axis_x1.append(data1[bb,0])\n",
    "        axis_y1.append(data1[bb,1])\n",
    "    for cc in range(c):\n",
    "        axis_x2.append(data2[cc,0])\n",
    "        axis_y2.append(data2[cc,1])\n",
    "    for dd in range(d):\n",
    "        axis_x3.append(data3[dd,0])\n",
    "        axis_y3.append(data3[dd,1])\n",
    "    for ee in range(e):\n",
    "        axis_x4.append(data4[ee,0])\n",
    "        axis_y4.append(data4[ee,1])\n",
    "    for ff in range(f):\n",
    "        axis_x5.append(data5[ff,0])\n",
    "        axis_y5.append(data5[ff,1])\n",
    "    for gg in range(g):\n",
    "        axis_x6.append(data6[gg,0])\n",
    "        axis_y6.append(data6[gg,1])\n",
    "    for hh in range(h):\n",
    "        axis_x7.append(data7[hh,0])\n",
    "        axis_y7.append(data7[hh,1])\n",
    "    for ii in range(i):\n",
    "        axis_x8.append(data8[ii,0])\n",
    "        axis_y8.append(data8[ii,1])\n",
    "    for jj in range(j):\n",
    "        axis_x9.append(data9[jj,0])\n",
    "        axis_y9.append(data9[jj,1])        \n",
    "        \n",
    "    fig = plt.figure()\n",
    "    #ax = Axes3D(fig)\n",
    "    ax = fig.add_subplot(111)\n",
    "    ax.scatter(axis_x0, axis_y0, s=50, c='green', marker='s')\n",
    "    ax.scatter(axis_x1, axis_y1, s=50, c='red', marker='s')\n",
    "    ax.scatter(axis_x2, axis_y2,s=50, c='blue')\n",
    "    ax.scatter(axis_x3, axis_y3, s=50, c=[[0.71,0.9,0.11]], marker='s')\n",
    "    ax.scatter(axis_x4, axis_y4, s=50, c='black')\n",
    "    ax.scatter(axis_x5, axis_y5, s=50, c='yellow', marker='s')\n",
    "    ax.scatter(axis_x6, axis_y6, s=50, c=[[0.76,0.76,0.76]])\n",
    "    ax.scatter(axis_x7, axis_y7, s=50, c=[[1,0.68,0.79]], marker='s')\n",
    "    ax.scatter(axis_x8, axis_y8, s=50, c='purple', marker='s')\n",
    "    ax.scatter(axis_x9, axis_y9, s=50, c='orange', marker='s')\n",
    "\n",
    "    \n",
    "    #plt.xlabel('x1'); plt.ylabel('x2');\n",
    "    # ax.set_zlabel('Z', fontdict={'size': 15, 'color': 'red'})\n",
    "    # ax.set_ylabel('Y', fontdict={'size': 15, 'color': 'red'})\n",
    "    # ax.set_xlabel('X', fontdict={'size': 15, 'color': 'red'})\n",
    "    # ax.scatter(axis_x1, axis_y1,axis_z1,  c='red', marker='s')\n",
    "    # ax.scatter(axis_x2, axis_y2, axis_z2, c='blue')\n",
    "    plt.legend(fontsize='small',labels=[ '0','1','2','3','4','5','6','7','8','9'])  \n",
    "    plt.savefig(save_name)\n",
    "    plt.show()"
   ]
  },
  {
   "cell_type": "code",
   "execution_count": 12,
   "metadata": {},
   "outputs": [
    {
     "name": "stdout",
     "output_type": "stream",
     "text": [
      "**********************GaussianNB**********************\n",
      "Training time cost 0.07280397415161133 s\n",
      "Test time cost 0.003990888595581055 s\n",
      "GaussianNB accuracy= 0.925\n"
     ]
    },
    {
     "data": {
      "image/png": "[encoded data removed]",
      "text/plain": [
       "<Figure size 432x288 with 1 Axes>"
      ]
     },
     "metadata": {
      "needs_background": "light"
     },
     "output_type": "display_data"
    }
   ],
   "source": [
    "from sklearn.naive_bayes import GaussianNB,MultinomialNB\n",
    "import time\n",
    "from sklearn import  decomposition\n",
    "#高斯贝叶斯分类器\n",
    "print('**********************GaussianNB**********************')\n",
    "time_start = time.time()\n",
    "# 创建分类器对象\n",
    "clf = GaussianNB()\n",
    "#用训练数据拟合分类器模型\n",
    "clf = clf.fit(train_features.astype(np.float64), train_labels)\n",
    "time_end = time.time()\n",
    "print('Training time cost',time_end-time_start,'s')\n",
    "\n",
    "time_start = time.time()\n",
    "#用训练好的分类器去预测test_features数据的标签类\n",
    "label_predict = clf.predict(test_features.astype(np.float64))\n",
    "time_end = time.time()\n",
    "accuracy = np.sum(label_predict == test_labels) / label_predict.shape[0]\n",
    "print('Test time cost',time_end-time_start,'s')\n",
    "print('GaussianNB accuracy=', accuracy)\n",
    "\n",
    "#提取主成分进行分析画图\n",
    "pca = decomposition.PCA(n_components=2)\n",
    "X_pca = pca.fit_transform(test_features.astype(np.float64))\n",
    "\n",
    "plotBestFit(X_pca[label_predict == 0], X_pca[label_predict == 1],X_pca[label_predict == 2],X_pca[label_predict == 3],X_pca[label_predict == 4],\n",
    "            X_pca[label_predict == 5],X_pca[label_predict == 6] ,X_pca[label_predict == 7],X_pca[label_predict == 8],X_pca[label_predict == 9],\n",
    "            \"GaussianNB-matplotlib-pix.png\")"
   ]
  },
  {
   "cell_type": "code",
   "execution_count": 13,
   "metadata": {},
   "outputs": [
    {
     "name": "stdout",
     "output_type": "stream",
     "text": [
      "**********************MultinomialNB**********************\n",
      "Training time cost 0.06581997871398926 s\n",
      "Test time cost 0.0010271072387695312 s\n",
      "MultinomialNB accuracy= 0.905\n"
     ]
    },
    {
     "data": {
      "image/png": "[encoded data removed]",
      "text/plain": [
       "<Figure size 432x288 with 1 Axes>"
      ]
     },
     "metadata": {
      "needs_background": "light"
     },
     "output_type": "display_data"
    }
   ],
   "source": [
    "#多项式贝叶斯分类器\n",
    "print('**********************MultinomialNB**********************')\n",
    "time_start = time.time()\n",
    "# 创建分类器对象\n",
    "clf = MultinomialNB()\n",
    "#用训练数据拟合分类器模型\n",
    "clf = clf.fit(train_features.astype(np.float64), train_labels)\n",
    "time_end = time.time()\n",
    "print('Training time cost',time_end-time_start,'s')\n",
    "\n",
    "time_start = time.time()\n",
    "#用训练好的分类器去预测test_features数据的标签类\n",
    "label_predict = clf.predict(test_features.astype(np.float64))\n",
    "time_end = time.time()\n",
    "accuracy = np.sum(label_predict == test_labels) / label_predict.shape[0]\n",
    "print('Test time cost',time_end-time_start,'s')\n",
    "print('MultinomialNB accuracy=', accuracy)\n",
    "\n",
    "#提取主成分进行分析画图\n",
    "pca = decomposition.PCA(n_components=2)\n",
    "X_pca = pca.fit_transform(test_features.astype(np.float64))\n",
    "\n",
    "plotBestFit(X_pca[label_predict == 0], X_pca[label_predict == 1],X_pca[label_predict == 2],X_pca[label_predict == 3],X_pca[label_predict == 4],\n",
    "            X_pca[label_predict == 5],X_pca[label_predict == 6] ,X_pca[label_predict == 7],X_pca[label_predict == 8],X_pca[label_predict == 9],\n",
    "            \"MultinomialNB-matplotlib-pix.png\")"
   ]
  },
  {
   "cell_type": "code",
   "execution_count": null,
   "metadata": {},
   "outputs": [],
   "source": []
  }
 ],
 "metadata": {
  "kernelspec": {
   "display_name": "Python 3",
   "language": "python",
   "name": "python3"
  },
  "language_info": {
   "codemirror_mode": {
    "name": "ipython",
    "version": 3
   },
   "file_extension": ".py",
   "mimetype": "text/x-python",
   "name": "python",
   "nbconvert_exporter": "python",
   "pygments_lexer": "ipython3",
   "version": "3.7.4"
  }
 },
 "nbformat": 4,
 "nbformat_minor": 2
}
