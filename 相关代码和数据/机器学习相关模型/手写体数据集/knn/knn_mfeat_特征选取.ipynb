{
 "cells": [
  {
   "cell_type": "code",
   "execution_count": 10,
   "metadata": {},
   "outputs": [
    {
     "name": "stdout",
     "output_type": "stream",
     "text": [
      "[0 0 0 ... 9 9 9]\n",
      "[[0.5        0.         0.46524367 0.62290369]\n",
      " [0.5        0.         0.39491907 0.65201385]\n",
      " [0.5        0.         0.32554509 0.52853792]\n",
      " ...\n",
      " [0.5        0.16666667 0.73803396 0.48554625]\n",
      " [0.5        0.16666667 0.63490655 0.54014768]\n",
      " [0.5        0.16666667 0.73927338 0.45616554]]\n",
      "train_features (1600, 4)\n",
      "train_labels (1600,)\n",
      "[0 0 0 0 0 0 0 0 0 0 0 0 0 0 0 0 0 0 0 0 0 0 0 0 0 0 0 0 0 0 0 0 0 0 0 0 0\n",
      " 0 0 0 1 1 1 1 1 1 1 1 1 1 1 1 1 1 1 1 1 1 1 1 1 1 1 1 1 1 1 1 1 1 1 1 1 1\n",
      " 1 1 1 1 1 1 2 2 2 2 2 2 2 2 2 2 2 2 2 2 2 2 2 2 2 2 2 2 2 2 2 2 2 2 2 2 2\n",
      " 2 2 2 2 2 2 2 2 2 3 3 3 3 3 3 3 3 3 3 3 3 3 3 3 3 3 3 3 3 3 3 3 3 3 3 3 3\n",
      " 3 3 3 3 3 3 3 3 3 3 3 3 4 4 4 4 4 4 4 4 4 4 4 4 4 4 4 4 4 4 4 4 4 4 4 4 4\n",
      " 4 4 4 4 4 4 4 4 4 4 4 4 4 4 4 5 5 5 5 5 5 5 5 5 5 5 5 5 5 5 5 5 5 5 5 5 5\n",
      " 5 5 5 5 5 5 5 5 5 5 5 5 5 5 5 5 5 5 6 6 6 6 6 6 6 6 6 6 6 6 6 6 6 6 6 6 6\n",
      " 6 6 6 6 6 6 6 6 6 6 6 6 6 6 6 6 6 6 6 6 6 7 7 7 7 7 7 7 7 7 7 7 7 7 7 7 7\n",
      " 7 7 7 7 7 7 7 7 7 7 7 7 7 7 7 7 7 7 7 7 7 7 7 7 8 8 8 8 8 8 8 8 8 8 8 8 8\n",
      " 8 8 8 8 8 8 8 8 8 8 8 8 8 8 8 8 8 8 8 8 8 8 8 8 8 8 8 9 9 9 9 9 9 9 9 9 9\n",
      " 9 9 9 9 9 9 9 9 9 9 9 9 9 9 9 9 9 9 9 9 9 9 9 9 9 9 9 9 9 9]\n",
      "[[0.5        0.         0.55895472 0.75482429]\n",
      " [0.5        0.         0.41544739 0.64837165]\n",
      " [0.5        0.         0.47395427 0.80070394]\n",
      " ...\n",
      " [0.5        0.2        0.70281242 0.39109388]\n",
      " [0.5        0.2        0.67777297 0.39430051]\n",
      " [0.5        0.2        0.63233957 0.29278742]]\n",
      "test_features (400, 4)\n",
      "test_labels (400,)\n"
     ]
    }
   ],
   "source": [
    "import numpy as np\n",
    "import pandas as pd\n",
    "df = pd.read_csv('mfeat_all.csv')\n",
    "df = df[['mor0','mor1','pix0','pix2','label']]\n",
    "train_labels = df['label']\n",
    "train_labels = np.array(train_labels)\n",
    "print(train_labels)\n",
    "\n",
    "train_features = df.iloc[:,:4]\n",
    "train_features = np.array(train_features)\n",
    "print(train_features)\n",
    "\n",
    "print('train_features', train_features.shape)\n",
    "print('train_labels', train_labels.shape)\n",
    "\n",
    "df = pd.read_csv('mfeat_test.csv')\n",
    "df = df[['mor0','mor1','pix0','pix2','label']]\n",
    "test_labels = df['label']\n",
    "test_labels = np.array(test_labels)\n",
    "print(test_labels)\n",
    "\n",
    "test_features = df.iloc[:,:4]\n",
    "test_features = np.array(test_features)\n",
    "print(test_features)\n",
    "\n",
    "print('test_features', test_features.shape)\n",
    "print('test_labels', test_labels.shape)"
   ]
  },
  {
   "cell_type": "code",
   "execution_count": 11,
   "metadata": {},
   "outputs": [
    {
     "name": "stdout",
     "output_type": "stream",
     "text": [
      "   mor0  mor1      pix0      pix2  label\n",
      "0   0.5   0.0  0.465244  0.622904      0\n",
      "1   0.5   0.0  0.394919  0.652014      0\n",
      "2   0.5   0.0  0.325545  0.528538      0\n",
      "3   0.5   0.0  0.364325  0.564696      0\n",
      "4   0.5   0.0  0.393455  0.637822      0\n"
     ]
    }
   ],
   "source": [
    "df = pd.read_csv('train2.csv')\n",
    "df = df[['mor0','mor1','pix0','pix2','label']]\n",
    "print(df.head())"
   ]
  },
  {
   "cell_type": "code",
   "execution_count": 40,
   "metadata": {},
   "outputs": [
    {
     "name": "stdout",
     "output_type": "stream",
     "text": [
      "rel_knn_algorithm： brute\n",
      "rel_weight： distance\n",
      "rel_nearest_neighbor： 10\n",
      "f1-score 0.8575\n"
     ]
    }
   ],
   "source": [
    "#获取准确率最高的rel_knn_algorithm、rel_weight和rel_nearest_neighbor\n",
    "from sklearn import neighbors,decomposition\n",
    "rel_nearest_neighbor = 0\n",
    "rel_knn_algorithm = ''\n",
    "rel_weight = ''\n",
    "knn_algorithms = ['ball_tree', 'kd_tree', 'brute']\n",
    "weights = ['uniform', 'distance']\n",
    "rel_f1 = -1\n",
    "x = []\n",
    "y = []\n",
    "#nearest_neighbor参数范围为1-200\n",
    "for nearest_neighbor in range(1,101):\n",
    "    clf = neighbors.KNeighborsClassifier(n_neighbors = nearest_neighbor, weights=weight, algorithm=knn_algorithm)\n",
    "    clf = clf.fit(train_features, train_labels)\n",
    "\n",
    "    pre = clf.predict(test_features)\n",
    "    F1_score = f1_score(test_labels, pre, average='micro' )\n",
    "    x.append(nearest_neighbor)\n",
    "    y.append(F1_score)\n",
    "    #print('knn_algorithm =',knn_algorithm,',nearest_neighbors =', nearest_neighbor,',weight =',weight,  ',accuracy=', accuracy)\n",
    "    if F1_score >= rel_f1:\n",
    "        rel_f1 = F1_score\n",
    "        rel_knn_algorithm =knn_algorithm\n",
    "        rel_weight = weight\n",
    "        rel_nearest_neighbor = nearest_neighbor\n",
    "        \n",
    "print('rel_knn_algorithm：',rel_knn_algorithm)\n",
    "print('rel_weight：',rel_weight)\n",
    "print('rel_nearest_neighbor：',rel_nearest_neighbor)\n",
    "print('f1-score',rel_f1)"
   ]
  },
  {
   "cell_type": "code",
   "execution_count": 34,
   "metadata": {},
   "outputs": [
    {
     "name": "stdout",
     "output_type": "stream",
     "text": [
      "Predict_rlt: [0 0 0 0 0 0 0 0 0 0 0 0 0 0 0 0 0 0 0 0 0 0 0 0 0 0 0 0 0 0 0 0 0 0 0 0 0\n",
      " 0 0 0 1 1 1 1 1 1 1 1 1 1 1 1 1 1 1 1 1 1 1 1 1 1 1 1 1 1 1 1 1 1 1 1 1 1\n",
      " 1 1 1 1 1 1 7 3 7 7 7 3 7 7 3 3 3 7 7 7 3 3 3 7 3 7 3 3 7 7 3 7 7 7 7 7 7\n",
      " 7 7 7 7 3 7 7 7 3 3 3 3 3 3 3 3 3 3 3 3 3 3 3 3 3 3 3 3 3 3 3 3 3 3 3 3 3\n",
      " 3 3 3 3 3 3 3 3 3 3 3 3 4 4 4 4 4 5 5 4 4 4 4 5 4 5 4 4 4 4 4 4 4 4 4 4 4\n",
      " 4 4 5 5 4 5 4 4 4 4 4 4 4 5 4 5 5 5 5 5 5 5 5 5 5 5 5 5 5 5 5 5 5 5 5 5 5\n",
      " 5 5 5 5 5 5 5 5 5 5 5 5 5 5 5 5 5 5 6 6 6 6 6 6 6 6 6 6 6 6 6 6 6 6 6 6 6\n",
      " 6 6 6 6 6 6 6 6 6 6 6 6 6 6 6 6 5 6 6 6 6 3 7 7 7 7 7 3 7 7 7 7 7 7 7 7 7\n",
      " 7 7 7 3 7 7 7 7 7 3 7 7 7 7 7 7 7 7 7 7 7 3 7 3 8 8 8 8 8 8 8 8 8 8 8 8 8\n",
      " 8 8 8 8 8 8 8 8 8 8 8 8 8 8 8 8 8 8 8 8 8 8 8 8 8 8 8 9 9 9 9 9 9 9 9 9 9\n",
      " 9 9 9 9 9 9 9 9 9 9 9 9 9 9 9 9 9 9 9 9 9 9 2 2 9 9 9 9 9 9]\n",
      "Correct_no: 343\n",
      "Accuracy: 0.8575\n",
      "Score_accuracy: 0.8943749999999999\n",
      "F1_score： 0.8575\n",
      "precision： 0.8575\n",
      "recall： 0.8575\n"
     ]
    }
   ],
   "source": [
    "from sklearn.neighbors import KNeighborsClassifier\n",
    "from sklearn.model_selection import cross_val_score\n",
    "from sklearn.metrics import f1_score, precision_score, recall_score\n",
    "\n",
    "clf = neighbors.KNeighborsClassifier(n_neighbors =  rel_nearest_neighbor, weights=rel_weight, algorithm=rel_knn_algorithm)\n",
    "clf = clf.fit(train_features, train_labels)\n",
    "\n",
    "label_predict = clf.predict(test_features)\n",
    "\"\"\"预测结果\"\"\"\n",
    "print(\"Predict_rlt:\",label_predict)\n",
    "\"\"\"预测准确个数\"\"\"\n",
    "print(\"Correct_no:\",sum(label_predict==test_labels))\n",
    "\"\"\"预测准确率\"\"\"\n",
    "print(\"Accuracy:\",sum(label_predict==test_labels)/len(test_labels))\n",
    "\n",
    "#以下代码用交叉验证的方法计算KNN在该数据集分类预测中的准确性\n",
    "knn = KNeighborsClassifier(n_neighbors=1)\n",
    "score_knn_accuracy = np.mean(cross_val_score(estimator=knn, X=train_features, y=train_labels, cv=5, scoring='accuracy'))\n",
    "print(\"Score_accuracy:\",score_knn_accuracy)\n",
    "\n",
    "F1_score = f1_score( test_labels, label_predict, average='micro' )\n",
    "precision = precision_score(test_labels, label_predict, average='micro')\n",
    "recall = recall_score(test_labels, label_predict, average='micro')\n",
    "\n",
    "print(\"F1_score：\",F1_score)\n",
    "print(\"precision：\",precision)\n",
    "print(\"recall：\",recall)"
   ]
  },
  {
   "cell_type": "code",
   "execution_count": 41,
   "metadata": {},
   "outputs": [
    {
     "data": {
      "image/png": "[encoded data removed]",
      "text/plain": [
       "<Figure size 1080x432 with 1 Axes>"
      ]
     },
     "metadata": {
      "needs_background": "light"
     },
     "output_type": "display_data"
    }
   ],
   "source": [
    "# -*- coding: utf-8 -*-\n",
    "import numpy as np\n",
    "import matplotlib.pyplot as plt\n",
    "from pylab import *                                 #支持中文\n",
    "mpl.rcParams['font.sans-serif'] = ['SimHei']\n",
    "from matplotlib.pyplot import MultipleLocator\n",
    "#从pyplot导入MultipleLocator类，这个类用于设置刻度间隔\n",
    "\n",
    "#X轴，Y轴数据\n",
    "# x = [0,1,2,3,4,5,6]\n",
    "# y = [0.3,0.4,2,5,3,4.5,4]\n",
    "plt.figure(figsize=(15,6)) #创建绘图对象\n",
    "plt.plot(x,y,\"b\",linewidth=2,label=\"weights='distance'\\nalgorithm='brute'\")   #在当前绘图对象绘图（X轴，Y轴，蓝色虚线，线宽度）\n",
    "# plt.xticks(x, x)\n",
    "plt.yticks(size=18)\n",
    "plt.xlabel(\"nearest_neighbor\",size=18) #X轴标签\n",
    "plt.ylabel(\"f1-score\",size=18)  #Y轴标签\n",
    "plt.title(\"knn-pix-nearest_neighbor参数-准确率变化图（特征选取）\",size=18) #图标题\n",
    "plt.legend()  # 让图例生效\n",
    "# # 设置数字标签\n",
    "# for a, b in zip(x, y):\n",
    "#     plt.text(a, b, b, ha='center', va='bottom')\n",
    "x_major_locator=MultipleLocator(5)\n",
    "#把x轴的刻度间隔设置为1，并存在变量里\n",
    "ax=plt.gca()\n",
    "#ax为两条坐标轴的实例\n",
    "ax.xaxis.set_major_locator(x_major_locator)\n",
    "plt.xlim(-0.5,101)\n",
    "#把x轴的刻度范围设置为-0.5到11，因为0.5不满一个刻度间隔，所以数字不会显示出来，但是能看到一点空白\n",
    "\n",
    "plt.savefig(\"knn-pix-nearest_neighbor参数选择图（特征选取）.png\") #保存图\n",
    "plt.show()  #显示图"
   ]
  },
  {
   "cell_type": "code",
   "execution_count": null,
   "metadata": {},
   "outputs": [],
   "source": []
  }
 ],
 "metadata": {
  "kernelspec": {
   "display_name": "Python 3",
   "language": "python",
   "name": "python3"
  },
  "language_info": {
   "codemirror_mode": {
    "name": "ipython",
    "version": 3
   },
   "file_extension": ".py",
   "mimetype": "text/x-python",
   "name": "python",
   "nbconvert_exporter": "python",
   "pygments_lexer": "ipython3",
   "version": "3.7.4"
  }
 },
 "nbformat": 4,
 "nbformat_minor": 2
}
