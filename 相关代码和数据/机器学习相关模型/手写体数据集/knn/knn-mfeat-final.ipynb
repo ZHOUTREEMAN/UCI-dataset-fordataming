{
 "cells": [
  {
   "cell_type": "code",
   "execution_count": 5,
   "metadata": {
    "scrolled": true
   },
   "outputs": [
    {
     "name": "stdout",
     "output_type": "stream",
     "text": [
      "[0 0 0 ... 9 9 9]\n",
      "[[ 0.5         0.          0.         ... -2.25026198  1.05389037\n",
      "   0.25220342]\n",
      " [ 0.5         0.          0.         ... -2.45748523  0.59133094\n",
      "   1.17606856]\n",
      " [ 0.5         0.          0.         ... -3.59455636  1.5385524\n",
      "   1.02601294]\n",
      " ...\n",
      " [ 0.5         0.16666667  0.2        ...  0.3597699   1.8395691\n",
      "   0.5189403 ]\n",
      " [ 0.5         0.16666667  0.2        ...  0.28965998  0.45773501\n",
      "   1.8070799 ]\n",
      " [ 0.5         0.16666667  0.2        ...  2.38745817  0.48869032\n",
      "  -1.2715561 ]]\n",
      "train_features (1280, 22)\n",
      "train_labels (1280,)\n",
      "[0. 0. 0. 0. 0. 0. 0. 0. 0. 0. 0. 0. 0. 0. 0. 0. 0. 0. 0. 0. 0. 0. 0. 0.\n",
      " 0. 0. 0. 0. 0. 0. 0. 0. 1. 1. 1. 1. 1. 1. 1. 1. 1. 1. 1. 1. 1. 1. 1. 1.\n",
      " 1. 1. 1. 1. 1. 1. 1. 1. 1. 1. 1. 1. 1. 1. 1. 1. 2. 2. 2. 2. 2. 2. 2. 2.\n",
      " 2. 2. 2. 2. 2. 2. 2. 2. 2. 2. 2. 2. 2. 2. 2. 2. 2. 2. 2. 2. 2. 2. 2. 2.\n",
      " 3. 3. 3. 3. 3. 3. 3. 3. 3. 3. 3. 3. 3. 3. 3. 3. 3. 3. 3. 3. 3. 3. 3. 3.\n",
      " 3. 3. 3. 3. 3. 3. 3. 3. 4. 4. 4. 4. 4. 4. 4. 4. 4. 4. 4. 4. 4. 4. 4. 4.\n",
      " 4. 4. 4. 4. 4. 4. 4. 4. 4. 4. 4. 4. 4. 4. 4. 4. 5. 5. 5. 5. 5. 5. 5. 5.\n",
      " 5. 5. 5. 5. 5. 5. 5. 5. 5. 5. 5. 5. 5. 5. 5. 5. 5. 5. 5. 5. 5. 5. 5. 5.\n",
      " 6. 6. 6. 6. 6. 6. 6. 6. 6. 6. 6. 6. 6. 6. 6. 6. 6. 6. 6. 6. 6. 6. 6. 6.\n",
      " 6. 6. 6. 6. 6. 6. 6. 6. 7. 7. 7. 7. 7. 7. 7. 7. 7. 7. 7. 7. 7. 7. 7. 7.\n",
      " 7. 7. 7. 7. 7. 7. 7. 7. 7. 7. 7. 7. 7. 7. 7. 7. 8. 8. 8. 8. 8. 8. 8. 8.\n",
      " 8. 8. 8. 8. 8. 8. 8. 8. 8. 8. 8. 8. 8. 8. 8. 8. 8. 8. 8. 8. 8. 8. 8. 8.\n",
      " 9. 9. 9. 9. 9. 9. 9. 9. 9. 9. 9. 9. 9. 9. 9. 9. 9. 9. 9. 9. 9. 9. 9. 9.\n",
      " 9. 9. 9. 9. 9. 9. 9. 9.]\n",
      "[[ 0.5         0.          0.         ... -1.41500669  1.01352433\n",
      "  -1.10421262]\n",
      " [ 0.5         0.          0.         ... -2.54995784  2.48584362\n",
      "  -1.67828687]\n",
      " [ 0.5         0.          0.         ... -0.85005119 -0.48602547\n",
      "   1.48279744]\n",
      " ...\n",
      " [ 0.5         0.16666667  0.25       ...  0.58120135  1.16564343\n",
      "   2.31315893]\n",
      " [ 0.5         0.16666667  0.25       ...  2.29780204  1.06983143\n",
      "  -1.11060084]\n",
      " [ 0.5         0.16666667  0.25       ...  0.9323609   1.03296013\n",
      "   0.49237106]]\n",
      "test_features (320, 22)\n",
      "test_labels (320,)\n"
     ]
    }
   ],
   "source": [
    "import numpy as np\n",
    "import pandas as pd\n",
    "df = pd.read_csv('final_train_data.csv')\n",
    "\n",
    "train_labels = df['label']\n",
    "train_labels = np.array(train_labels)\n",
    "print(train_labels)\n",
    "\n",
    "train_features = df.iloc[:,:22]\n",
    "train_features = np.array(train_features)\n",
    "print(train_features)\n",
    "\n",
    "print('train_features', train_features.shape)\n",
    "print('train_labels', train_labels.shape)\n",
    "\n",
    "df = pd.read_csv('final_test_data.csv')\n",
    "\n",
    "test_labels = df['label']\n",
    "test_labels = np.array(test_labels)\n",
    "print(test_labels)\n",
    "\n",
    "test_features = df.iloc[:,:22]\n",
    "test_features = np.array(test_features)\n",
    "print(test_features)\n",
    "\n",
    "print('test_features', test_features.shape)\n",
    "print('test_labels', test_labels.shape)"
   ]
  },
  {
   "cell_type": "code",
   "execution_count": 8,
   "metadata": {},
   "outputs": [
    {
     "name": "stdout",
     "output_type": "stream",
     "text": [
      "rel_knn_algorithm： ball_tree\n",
      "rel_weight： uniform\n",
      "rel_nearest_neighbor： 10\n",
      "accuracy： 0.896875\n"
     ]
    }
   ],
   "source": [
    "#获取准确率最高的rel_knn_algorithm、rel_weight和rel_nearest_neighbor\n",
    "from sklearn import neighbors,decomposition\n",
    "rel_nearest_neighbor = 0\n",
    "rel_knn_algorithm = ''\n",
    "rel_weight = ''\n",
    "knn_algorithms = ['ball_tree', 'kd_tree', 'brute']\n",
    "weights = ['uniform', 'distance']\n",
    "rel_pre = -1\n",
    "\n",
    "for knn_algorithm in knn_algorithms:\n",
    "    #nearest_neighbor参数范围为1-200\n",
    "    for nearest_neighbor in range(1,101):\n",
    "        for weight in weights:\n",
    "            clf = neighbors.KNeighborsClassifier(n_neighbors = nearest_neighbor, weights=weight, algorithm=knn_algorithm)\n",
    "            clf = clf.fit(train_features, train_labels)\n",
    "\n",
    "            pre = clf.predict(test_features)\n",
    "            accuracy = np.sum(pre == test_labels) / pre.shape[0]\n",
    "            #print('knn_algorithm =',knn_algorithm,',nearest_neighbors =', nearest_neighbor,',weight =',weight,  ',accuracy=', accuracy)\n",
    "            if accuracy > rel_pre:\n",
    "                rel_pre = accuracy\n",
    "                rel_knn_algorithm =knn_algorithm\n",
    "                rel_weight = weight\n",
    "                rel_nearest_neighbor = nearest_neighbor\n",
    "\n",
    "print('rel_knn_algorithm：',rel_knn_algorithm)\n",
    "print('rel_weight：',rel_weight)\n",
    "print('rel_nearest_neighbor：',rel_nearest_neighbor)\n",
    "print('accuracy：',rel_pre)"
   ]
  },
  {
   "cell_type": "code",
   "execution_count": 10,
   "metadata": {},
   "outputs": [
    {
     "name": "stdout",
     "output_type": "stream",
     "text": [
      "rel_nearest_neighbor： 10\n"
     ]
    }
   ],
   "source": [
    "#获取准确率最高的rel_knn_algorithm、rel_weight和rel_nearest_neighbor\n",
    "from sklearn import neighbors,decomposition\n",
    "rel_nearest_neighbor = 0\n",
    "rel_knn_algorithm = ''\n",
    "rel_weight = ''\n",
    "knn_algorithms = ['ball_tree', 'kd_tree', 'brute']\n",
    "weights = ['uniform', 'distance']\n",
    "rel_pre = -1\n",
    "x = []\n",
    "y = []\n",
    "#nearest_neighbor参数范围为1-200\n",
    "for nearest_neighbor in range(1,101):\n",
    "    clf = neighbors.KNeighborsClassifier(n_neighbors = nearest_neighbor, weights='uniform', algorithm='ball_tree')\n",
    "    clf = clf.fit(train_features, train_labels)\n",
    "\n",
    "    pre = clf.predict(test_features)\n",
    "    accuracy = np.sum(pre == test_labels) / pre.shape[0]\n",
    "    x.append(nearest_neighbor)\n",
    "    y.append(accuracy)\n",
    "    #print('knn_algorithm =',knn_algorithm,',nearest_neighbors =', nearest_neighbor,',weight =',weight,  ',accuracy=', accuracy)\n",
    "    if accuracy > rel_pre:\n",
    "        rel_pre = accuracy\n",
    "        rel_knn_algorithm =knn_algorithm\n",
    "        rel_weight = weight\n",
    "        rel_nearest_neighbor = nearest_neighbor\n",
    "\n",
    "print('rel_nearest_neighbor：',rel_nearest_neighbor)"
   ]
  },
  {
   "cell_type": "code",
   "execution_count": 13,
   "metadata": {},
   "outputs": [
    {
     "data": {
      "image/png": "[encoded data removed]",
      "text/plain": [
       "<Figure size 1080x432 with 1 Axes>"
      ]
     },
     "metadata": {
      "needs_background": "light"
     },
     "output_type": "display_data"
    }
   ],
   "source": [
    "# -*- coding: utf-8 -*-\n",
    "import numpy as np\n",
    "import matplotlib.pyplot as plt\n",
    "from pylab import *                                 #支持中文\n",
    "mpl.rcParams['font.sans-serif'] = ['SimHei']\n",
    "from matplotlib.pyplot import MultipleLocator\n",
    "#从pyplot导入MultipleLocator类，这个类用于设置刻度间隔\n",
    "\n",
    "#X轴，Y轴数据\n",
    "# x = [0,1,2,3,4,5,6]\n",
    "# y = [0.3,0.4,2,5,3,4.5,4]\n",
    "plt.figure(figsize=(15,6)) #创建绘图对象\n",
    "plt.plot(x,y,\"b\",linewidth=2,label=\"weights='uniform'\\nalgorithm='ball_tree'\")   #在当前绘图对象绘图（X轴，Y轴，蓝色虚线，线宽度）\n",
    "plt.xticks(size=18)\n",
    "plt.yticks(size=18)\n",
    "plt.xlabel(\"nearest_neighbor\",size=18) #X轴标签\n",
    "plt.ylabel(\"acc\",size=18)  #Y轴标签\n",
    "plt.title(\"knn-mfeat-nearest_neighbor参数-准确率变化图\",size=18) #图标题\n",
    "plt.legend()  # 让图例生效\n",
    "# # 设置数字标签\n",
    "# for a, b in zip(x, y):\n",
    "#     plt.text(a, b, b, ha='center', va='bottom')\n",
    "x_major_locator=MultipleLocator(5)\n",
    "#把x轴的刻度间隔设置为1，并存在变量里\n",
    "ax=plt.gca()\n",
    "#ax为两条坐标轴的实例\n",
    "ax.xaxis.set_major_locator(x_major_locator)\n",
    "plt.xlim(-0.5,101)\n",
    "#把x轴的刻度范围设置为-0.5到11，因为0.5不满一个刻度间隔，所以数字不会显示出来，但是能看到一点空白\n",
    "\n",
    "plt.savefig(\"knn-mfeat-nearest_neighbor参数选择图(final).png\") #保存图\n",
    "plt.show()  #显示图"
   ]
  },
  {
   "cell_type": "code",
   "execution_count": null,
   "metadata": {},
   "outputs": [],
   "source": []
  }
 ],
 "metadata": {
  "kernelspec": {
   "display_name": "Python 3",
   "language": "python",
   "name": "python3"
  },
  "language_info": {
   "codemirror_mode": {
    "name": "ipython",
    "version": 3
   },
   "file_extension": ".py",
   "mimetype": "text/x-python",
   "name": "python",
   "nbconvert_exporter": "python",
   "pygments_lexer": "ipython3",
   "version": "3.7.4"
  }
 },
 "nbformat": 4,
 "nbformat_minor": 2
}
