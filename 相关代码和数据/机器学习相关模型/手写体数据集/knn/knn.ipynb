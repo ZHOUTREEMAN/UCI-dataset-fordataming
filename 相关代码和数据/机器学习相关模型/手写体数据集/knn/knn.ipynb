{
 "cells": [
  {
   "cell_type": "code",
   "execution_count": 1,
   "metadata": {
    "scrolled": true
   },
   "outputs": [
    {
     "name": "stdout",
     "output_type": "stream",
     "text": [
      "[0 0 0 ... 9 9 9]\n",
      "[[0.5        0.         0.         ... 0.73425091 0.38877325 0.42131948]\n",
      " [0.5        0.         0.         ... 0.82304084 0.42833609 0.25380044]\n",
      " [0.5        0.         0.         ... 0.92634334 0.36097695 0.36151675]\n",
      " ...\n",
      " [0.5        0.16666667 0.2        ... 0.44854564 0.38457959 0.40132538]\n",
      " [0.5        0.16666667 0.2        ... 0.52898297 0.4798108  0.23840686]\n",
      " [0.5        0.16666667 0.2        ... 0.32316285 0.42696817 0.58706008]]\n",
      "train_features (1280, 22)\n",
      "train_labels (1280,)\n",
      "[0 0 0 0 0 0 0 0 0 0 0 0 0 0 0 0 0 0 0 0 0 0 0 0 0 0 0 0 0 0 0 0 1 1 1 1 1\n",
      " 1 1 1 1 1 1 1 1 1 1 1 1 1 1 1 1 1 1 1 1 1 1 1 1 1 1 1 2 2 2 2 2 2 2 2 2 2\n",
      " 2 2 2 2 2 2 2 2 2 2 2 2 2 2 2 2 2 2 2 2 2 2 3 3 3 3 3 3 3 3 3 3 3 3 3 3 3\n",
      " 3 3 3 3 3 3 3 3 3 3 3 3 3 3 3 3 3 4 4 4 4 4 4 4 4 4 4 4 4 4 4 4 4 4 4 4 4\n",
      " 4 4 4 4 4 4 4 4 4 4 4 4 5 5 5 5 5 5 5 5 5 5 5 5 5 5 5 5 5 5 5 5 5 5 5 5 5\n",
      " 5 5 5 5 5 5 5 6 6 6 6 6 6 6 6 6 6 6 6 6 6 6 6 6 6 6 6 6 6 6 6 6 6 6 6 6 6\n",
      " 6 6 7 7 7 7 7 7 7 7 7 7 7 7 7 7 7 7 7 7 7 7 7 7 7 7 7 7 7 7 7 7 7 7 8 8 8\n",
      " 8 8 8 8 8 8 8 8 8 8 8 8 8 8 8 8 8 8 8 8 8 8 8 8 8 8 8 8 8 9 9 9 9 9 9 9 9\n",
      " 9 9 9 9 9 9 9 9 9 9 9 9 9 9 9 9 9 9 9 9 9 9 9 9]\n",
      "[[0.5        0.         0.         ... 0.75335054 0.3838494  0.51892883]\n",
      " [0.5        0.         0.         ... 0.94321124 0.36724348 0.35012024]\n",
      " [0.5        0.         0.         ... 0.86073744 0.31512445 0.47410618]\n",
      " ...\n",
      " [0.         0.33333333 0.         ... 0.41501701 0.28500716 0.55477723]\n",
      " [0.5        0.16666667 0.2        ... 0.5869784  0.29962111 0.35558491]\n",
      " [0.5        0.16666667 0.2        ... 0.42080872 0.27937135 0.61595154]]\n",
      "test_features (320, 22)\n",
      "test_labels (320,)\n"
     ]
    }
   ],
   "source": [
    "import numpy as np\n",
    "import pandas as pd\n",
    "df = pd.read_csv('train2.csv')\n",
    "\n",
    "train_labels = df['label']\n",
    "train_labels = np.array(train_labels)\n",
    "print(train_labels)\n",
    "\n",
    "train_features = df.iloc[:,:22]\n",
    "train_features = np.array(train_features)\n",
    "print(train_features)\n",
    "\n",
    "print('train_features', train_features.shape)\n",
    "print('train_labels', train_labels.shape)\n",
    "\n",
    "df = pd.read_csv('test2.csv')\n",
    "\n",
    "test_labels = df['label']\n",
    "test_labels = np.array(test_labels)\n",
    "print(test_labels)\n",
    "\n",
    "test_features = df.iloc[:,:22]\n",
    "test_features = np.array(test_features)\n",
    "print(test_features)\n",
    "\n",
    "print('test_features', test_features.shape)\n",
    "print('test_labels', test_labels.shape)"
   ]
  },
  {
   "cell_type": "code",
   "execution_count": 2,
   "metadata": {},
   "outputs": [
    {
     "name": "stdout",
     "output_type": "stream",
     "text": [
      "rel_knn_algorithm： brute\n",
      "rel_weight： distance\n",
      "rel_nearest_neighbor： 4\n",
      "accuracy： 0.9875\n"
     ]
    }
   ],
   "source": [
    "#获取准确率最高的rel_knn_algorithm、rel_weight和rel_nearest_neighbor\n",
    "from sklearn import neighbors,decomposition\n",
    "rel_nearest_neighbor = 0\n",
    "rel_knn_algorithm = ''\n",
    "rel_weight = ''\n",
    "knn_algorithms = ['ball_tree', 'kd_tree', 'brute']\n",
    "weights = ['uniform', 'distance']\n",
    "rel_pre = -1\n",
    "\n",
    "for knn_algorithm in knn_algorithms:\n",
    "    #nearest_neighbor参数范围为1-200\n",
    "    for nearest_neighbor in range(1,101):\n",
    "        for weight in weights:\n",
    "            clf = neighbors.KNeighborsClassifier(n_neighbors = nearest_neighbor, weights=weight, algorithm=knn_algorithm)\n",
    "            clf = clf.fit(train_features, train_labels)\n",
    "\n",
    "            pre = clf.predict(test_features)\n",
    "            accuracy = np.sum(pre == test_labels) / pre.shape[0]\n",
    "            #print('knn_algorithm =',knn_algorithm,',nearest_neighbors =', nearest_neighbor,',weight =',weight,  ',accuracy=', accuracy)\n",
    "            if accuracy >= rel_pre:\n",
    "                rel_pre = accuracy\n",
    "                rel_knn_algorithm =knn_algorithm\n",
    "                rel_weight = weight\n",
    "                rel_nearest_neighbor = nearest_neighbor\n",
    "\n",
    "print('rel_knn_algorithm：',rel_knn_algorithm)\n",
    "print('rel_weight：',rel_weight)\n",
    "print('rel_nearest_neighbor：',rel_nearest_neighbor)\n",
    "print('accuracy：',rel_pre)"
   ]
  },
  {
   "cell_type": "code",
   "execution_count": 3,
   "metadata": {},
   "outputs": [
    {
     "name": "stdout",
     "output_type": "stream",
     "text": [
      "**********************Result**********************\n",
      "Training time cost 0.0 s\n",
      "Test time cost 0.02393817901611328 s\n",
      "knn_algorithm = brute ,nearest_neighbors = 5 ,weight = uniform ,accuracy= 0.74\n"
     ]
    },
    {
     "data": {
      "text/plain": [
       "<Figure size 640x480 with 1 Axes>"
      ]
     },
     "metadata": {},
     "output_type": "display_data"
    }
   ],
   "source": [
    "import matplotlib.pyplot as plt\n",
    "import time\n",
    "def plotBestFit(data0,data1, data2,data3,data4,data5,data6,data7,data8,data9):\n",
    "\n",
    "    a = np.shape(data0)[0]\n",
    "    b = np.shape(data1)[0]\n",
    "    c = np.shape(data2)[0]\n",
    "    d = np.shape(data3)[0]\n",
    "    e = np.shape(data4)[0]\n",
    "    f = np.shape(data5)[0]\n",
    "    g = np.shape(data6)[0]\n",
    "    h = np.shape(data7)[0]\n",
    "    i = np.shape(data8)[0]\n",
    "    j = np.shape(data9)[0]\n",
    "    \n",
    "    axis_x0 = []\n",
    "    axis_y0 = []    \n",
    "    axis_x1 = []\n",
    "    axis_y1 = []\n",
    "    axis_x2 = []\n",
    "    axis_y2 = []\n",
    "    axis_x3 = []\n",
    "    axis_y3 = []\n",
    "    axis_x4 = []\n",
    "    axis_y4 = []\n",
    "    axis_x5 = []\n",
    "    axis_y5 = []\n",
    "    axis_x6 = []\n",
    "    axis_y6 = []\n",
    "    axis_x7 = []\n",
    "    axis_y7 = []\n",
    "    axis_x8 = []\n",
    "    axis_y8 = []\n",
    "    axis_x9 = []\n",
    "    axis_y9 = []\n",
    "    \n",
    "    for aa in range(a):\n",
    "        axis_x0.append(data0[aa,0])\n",
    "        axis_y0.append(data0[aa,1])\n",
    "    for bb in range(b):\n",
    "        axis_x1.append(data1[bb,0])\n",
    "        axis_y1.append(data1[bb,1])\n",
    "    for cc in range(c):\n",
    "        axis_x2.append(data2[cc,0])\n",
    "        axis_y2.append(data2[cc,1])\n",
    "    for dd in range(d):\n",
    "        axis_x3.append(data3[dd,0])\n",
    "        axis_y3.append(data3[dd,1])\n",
    "    for ee in range(e):\n",
    "        axis_x4.append(data4[ee,0])\n",
    "        axis_y4.append(data4[ee,1])\n",
    "    for ff in range(f):\n",
    "        axis_x5.append(data5[ff,0])\n",
    "        axis_y5.append(data5[ff,1])\n",
    "    for gg in range(g):\n",
    "        axis_x6.append(data6[gg,0])\n",
    "        axis_y6.append(data6[gg,1])\n",
    "    for hh in range(h):\n",
    "        axis_x7.append(data7[hh,0])\n",
    "        axis_y7.append(data7[hh,1])\n",
    "    for ii in range(i):\n",
    "        axis_x8.append(data8[ii,0])\n",
    "        axis_y8.append(data8[ii,1])\n",
    "    for jj in range(j):\n",
    "        axis_x9.append(data9[jj,0])\n",
    "        axis_y9.append(data9[jj,1])        \n",
    "        \n",
    "    fig = plt.figure()\n",
    "    #ax = Axes3D(fig)\n",
    "    ax = fig.add_subplot(111)\n",
    "    ax.scatter(axis_x0, axis_y0, s=50, c='green', marker='s')\n",
    "    ax.scatter(axis_x1, axis_y1, s=50, c='red', marker='s')\n",
    "    ax.scatter(axis_x2, axis_y2,s=50, c='blue')\n",
    "    ax.scatter(axis_x3, axis_y3, s=50, c=[[0.71,0.9,0.11]], marker='s')\n",
    "    ax.scatter(axis_x4, axis_y4, s=50, c='black')\n",
    "    ax.scatter(axis_x5, axis_y5, s=50, c='yellow', marker='s')\n",
    "    ax.scatter(axis_x6, axis_y6, s=50, c=[[0.76,0.76,0.76]])\n",
    "    ax.scatter(axis_x7, axis_y7, s=50, c=[[1,0.68,0.79]], marker='s')\n",
    "    ax.scatter(axis_x8, axis_y8, s=50, c='purple', marker='s')\n",
    "    ax.scatter(axis_x9, axis_y9, s=50, c='orange', marker='s')\n",
    "\n",
    "    \n",
    "    #plt.xlabel('x1'); plt.ylabel('x2');\n",
    "    # ax.set_zlabel('Z', fontdict={'size': 15, 'color': 'red'})\n",
    "    # ax.set_ylabel('Y', fontdict={'size': 15, 'color': 'red'})\n",
    "    # ax.set_xlabel('X', fontdict={'size': 15, 'color': 'red'})\n",
    "    # ax.scatter(axis_x1, axis_y1,axis_z1,  c='red', marker='s')\n",
    "    # ax.scatter(axis_x2, axis_y2, axis_z2, c='blue')\n",
    "    plt.legend(fontsize='small',labels=[ '0','1','2','3','4','5','6','7','8','9'])  \n",
    "    plt.savefig(\"knn-matplotlib.png\")\n",
    "    plt.show()\n",
    "    \n",
    "print('**********************Result**********************')\n",
    "time_start = time.time()\n",
    "\n",
    "#创建一个K临近算法的模板\n",
    "clf = neighbors.KNeighborsClassifier(n_neighbors = rel_nearest_neighbor, weights=rel_weight,\n",
    "                                     algorithm=rel_knn_algorithm)\n",
    "\n",
    "#fit函数 使用train_features作为训练数据，train_labels作为目标值（类似于标签）来拟合模型。\n",
    "clf = clf.fit(train_features, train_labels)\n",
    "time_end = time.time()\n",
    "print('Training time cost',time_end-time_start,'s')\n",
    "time_start = time.time()\n",
    "\n",
    "#调用predict函数进行预测\n",
    "label_predict = clf.predict(test_features)\n",
    "time_end = time.time()\n",
    "print('Test time cost',time_end-time_start,'s')\n",
    "accuracy = np.sum(label_predict == test_labels) / label_predict.shape[0]\n",
    "#print(label_predict)\n",
    "print('knn_algorithm =',rel_knn_algorithm,',nearest_neighbors =', rel_nearest_neighbor,',weight =',rel_weight,  ',accuracy=', accuracy)\n",
    "\n",
    "pca = decomposition.PCA(n_components=2)\n",
    "X_pca = pca.fit_transform(test_features.astype(np.float64))\n",
    "\n",
    "plotBestFit(X_pca[label_predict == 0], X_pca[label_predict == 1],X_pca[label_predict == 2],X_pca[label_predict == 3],X_pca[label_predict == 4],\n",
    "            X_pca[label_predict == 5],X_pca[label_predict == 6] ,X_pca[label_predict == 7],X_pca[label_predict == 8],X_pca[label_predict == 9])"
   ]
  },
  {
   "cell_type": "code",
   "execution_count": 6,
   "metadata": {},
   "outputs": [
    {
     "ename": "NameError",
     "evalue": "name 'label_predict' is not defined",
     "output_type": "error",
     "traceback": [
      "\u001b[1;31m---------------------------------------------------------------------------\u001b[0m",
      "\u001b[1;31mNameError\u001b[0m                                 Traceback (most recent call last)",
      "\u001b[1;32m<ipython-input-6-ad2e257e979e>\u001b[0m in \u001b[0;36m<module>\u001b[1;34m\u001b[0m\n\u001b[0;32m      3\u001b[0m \u001b[1;32mfrom\u001b[0m \u001b[0msklearn\u001b[0m\u001b[1;33m.\u001b[0m\u001b[0mmetrics\u001b[0m \u001b[1;32mimport\u001b[0m \u001b[0mf1_score\u001b[0m\u001b[1;33m,\u001b[0m \u001b[0mprecision_score\u001b[0m\u001b[1;33m,\u001b[0m \u001b[0mrecall_score\u001b[0m\u001b[1;33m\u001b[0m\u001b[1;33m\u001b[0m\u001b[0m\n\u001b[0;32m      4\u001b[0m \u001b[1;34m\"\"\"预测结果\"\"\"\u001b[0m\u001b[1;33m\u001b[0m\u001b[1;33m\u001b[0m\u001b[0m\n\u001b[1;32m----> 5\u001b[1;33m \u001b[0mprint\u001b[0m\u001b[1;33m(\u001b[0m\u001b[1;34m\"Predict_rlt:\"\u001b[0m\u001b[1;33m,\u001b[0m\u001b[0mlabel_predict\u001b[0m\u001b[1;33m)\u001b[0m\u001b[1;33m\u001b[0m\u001b[1;33m\u001b[0m\u001b[0m\n\u001b[0m\u001b[0;32m      6\u001b[0m \u001b[1;34m\"\"\"预测准确个数\"\"\"\u001b[0m\u001b[1;33m\u001b[0m\u001b[1;33m\u001b[0m\u001b[0m\n\u001b[0;32m      7\u001b[0m \u001b[0mprint\u001b[0m\u001b[1;33m(\u001b[0m\u001b[1;34m\"Correct_no:\"\u001b[0m\u001b[1;33m,\u001b[0m\u001b[0msum\u001b[0m\u001b[1;33m(\u001b[0m\u001b[0mlabel_predict\u001b[0m\u001b[1;33m==\u001b[0m\u001b[0mtest_labels\u001b[0m\u001b[1;33m)\u001b[0m\u001b[1;33m)\u001b[0m\u001b[1;33m\u001b[0m\u001b[1;33m\u001b[0m\u001b[0m\n",
      "\u001b[1;31mNameError\u001b[0m: name 'label_predict' is not defined"
     ]
    }
   ],
   "source": [
    "from sklearn.neighbors import KNeighborsClassifier\n",
    "from sklearn.model_selection import cross_val_score\n",
    "from sklearn.metrics import f1_score, precision_score, recall_score\n",
    "\"\"\"预测结果\"\"\"\n",
    "print(\"Predict_rlt:\",label_predict)\n",
    "\"\"\"预测准确个数\"\"\"\n",
    "print(\"Correct_no:\",sum(label_predict==test_labels))\n",
    "\"\"\"预测准确率\"\"\"\n",
    "print(\"Accuracy:\",sum(label_predict==test_labels)/len(test_labels))\n",
    "\n",
    "#以下代码用交叉验证的方法计算KNN在该数据集分类预测中的准确性\n",
    "knn = KNeighborsClassifier(n_neighbors=1)\n",
    "score_knn_accuracy = np.mean(cross_val_score(estimator=knn, X=train_features, y=train_labels, cv=5, scoring='accuracy'))\n",
    "print(\"Score_accuracy:\",score_knn_accuracy)\n",
    "\n",
    "F1_score = f1_score( test_labels, label_predict, average='micro' )\n",
    "precision = precision_score(test_labels, label_predict, average='micro')\n",
    "recall = recall_score(test_labels, label_predict, average='micro')\n",
    "\n",
    "print(\"F1_score：\",F1_score)\n",
    "print(\"precision：\",precision)\n",
    "print(\"recall：\",recall)"
   ]
  },
  {
   "cell_type": "code",
   "execution_count": 4,
   "metadata": {},
   "outputs": [
    {
     "data": {
      "image/png": "[encoded data removed]",
      "text/plain": [
       "<Figure size 432x288 with 1 Axes>"
      ]
     },
     "metadata": {
      "needs_background": "light"
     },
     "output_type": "display_data"
    }
   ],
   "source": [
    "plotBestFit(X_pca[test_labels == 0], X_pca[test_labels == 1],X_pca[test_labels == 2],X_pca[test_labels == 3],X_pca[test_labels == 4],\n",
    "            X_pca[test_labels == 5],X_pca[test_labels == 6] ,X_pca[test_labels == 7],X_pca[test_labels == 8],X_pca[test_labels == 9])"
   ]
  },
  {
   "cell_type": "code",
   "execution_count": 3,
   "metadata": {},
   "outputs": [
    {
     "name": "stdout",
     "output_type": "stream",
     "text": [
      "rel_nearest_neighbor： 4\n"
     ]
    }
   ],
   "source": [
    "#获取准确率最高的rel_knn_algorithm、rel_weight和rel_nearest_neighbor\n",
    "from sklearn import neighbors,decomposition\n",
    "rel_nearest_neighbor = 0\n",
    "rel_knn_algorithm = ''\n",
    "rel_weight = ''\n",
    "knn_algorithms = ['ball_tree', 'kd_tree', 'brute']\n",
    "weights = ['uniform', 'distance']\n",
    "rel_pre = -1\n",
    "x = []\n",
    "y = []\n",
    "#nearest_neighbor参数范围为1-200\n",
    "for nearest_neighbor in range(1,101):\n",
    "    clf = neighbors.KNeighborsClassifier(n_neighbors = nearest_neighbor, weights='distance', algorithm='brute')\n",
    "    clf = clf.fit(train_features, train_labels)\n",
    "\n",
    "    pre = clf.predict(test_features)\n",
    "    accuracy = np.sum(pre == test_labels) / pre.shape[0]\n",
    "    x.append(nearest_neighbor)\n",
    "    y.append(accuracy)\n",
    "    #print('knn_algorithm =',knn_algorithm,',nearest_neighbors =', nearest_neighbor,',weight =',weight,  ',accuracy=', accuracy)\n",
    "    if accuracy >= rel_pre:\n",
    "        rel_pre = accuracy\n",
    "        rel_knn_algorithm =knn_algorithm\n",
    "        rel_weight = weight\n",
    "        rel_nearest_neighbor = nearest_neighbor\n",
    "\n",
    "print('rel_nearest_neighbor：',rel_nearest_neighbor)"
   ]
  },
  {
   "cell_type": "code",
   "execution_count": 9,
   "metadata": {},
   "outputs": [
    {
     "data": {
      "image/png": "[encoded data removed]",
      "text/plain": [
       "<Figure size 1080x432 with 1 Axes>"
      ]
     },
     "metadata": {
      "needs_background": "light"
     },
     "output_type": "display_data"
    }
   ],
   "source": [
    "# -*- coding: utf-8 -*-\n",
    "import numpy as np\n",
    "import matplotlib.pyplot as plt\n",
    "from pylab import *                                 #支持中文\n",
    "mpl.rcParams['font.sans-serif'] = ['SimHei']\n",
    "from matplotlib.pyplot import MultipleLocator\n",
    "#从pyplot导入MultipleLocator类，这个类用于设置刻度间隔\n",
    "\n",
    "#X轴，Y轴数据\n",
    "# x = [0,1,2,3,4,5,6]\n",
    "# y = [0.3,0.4,2,5,3,4.5,4]\n",
    "plt.figure(figsize=(15,6)) #创建绘图对象\n",
    "plt.plot(x,y,\"b\",linewidth=2,label=\"weights='distance'\\nalgorithm='brute'\")   #在当前绘图对象绘图（X轴，Y轴，蓝色虚线，线宽度）\n",
    "plt.xticks(size=18)\n",
    "plt.yticks(size=18)\n",
    "plt.xlabel(\"nearest_neighbor\",size=18) #X轴标签\n",
    "plt.ylabel(\"acc\",size=18)  #Y轴标签\n",
    "plt.title(\"knn-mfeat-nearest_neighbor参数-准确率变化图\",size=18) #图标题\n",
    "plt.legend()  # 让图例生效\n",
    "# # 设置数字标签\n",
    "# for a, b in zip(x, y):\n",
    "#     plt.text(a, b, b, ha='center', va='bottom')\n",
    "x_major_locator=MultipleLocator(5)\n",
    "#把x轴的刻度间隔设置为1，并存在变量里\n",
    "ax=plt.gca()\n",
    "#ax为两条坐标轴的实例\n",
    "ax.xaxis.set_major_locator(x_major_locator)\n",
    "plt.xlim(-0.5,101)\n",
    "#把x轴的刻度范围设置为-0.5到11，因为0.5不满一个刻度间隔，所以数字不会显示出来，但是能看到一点空白\n",
    "\n",
    "plt.savefig(\"knn-mfeat-nearest_neighbor参数选择图.png\") #保存图\n",
    "plt.show()  #显示图"
   ]
  },
  {
   "cell_type": "code",
   "execution_count": null,
   "metadata": {},
   "outputs": [],
   "source": []
  }
 ],
 "metadata": {
  "kernelspec": {
   "display_name": "Python 3",
   "language": "python",
   "name": "python3"
  },
  "language_info": {
   "codemirror_mode": {
    "name": "ipython",
    "version": 3
   },
   "file_extension": ".py",
   "mimetype": "text/x-python",
   "name": "python",
   "nbconvert_exporter": "python",
   "pygments_lexer": "ipython3",
   "version": "3.7.4"
  }
 },
 "nbformat": 4,
 "nbformat_minor": 2
}
