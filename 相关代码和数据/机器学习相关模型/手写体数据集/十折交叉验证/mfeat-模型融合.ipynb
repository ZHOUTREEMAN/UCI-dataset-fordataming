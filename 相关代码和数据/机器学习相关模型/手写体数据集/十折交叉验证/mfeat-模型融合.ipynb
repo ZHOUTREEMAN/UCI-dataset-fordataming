{
 "cells": [
  {
   "cell_type": "code",
   "execution_count": 14,
   "metadata": {},
   "outputs": [
    {
     "name": "stdout",
     "output_type": "stream",
     "text": [
      "train_features (1440, 22)\n",
      "train_labels (1440,)\n",
      "test_features (100, 22)\n"
     ]
    }
   ],
   "source": [
    "import numpy as np\n",
    "import pandas as pd\n",
    "df = pd.read_csv('train9.csv')\n",
    "\n",
    "train_labels = df['label']\n",
    "train_labels = np.array(train_labels)\n",
    "# print(train_labels)\n",
    "\n",
    "train_features = df.iloc[:,:22]\n",
    "train_features = np.array(train_features)\n",
    "# print(train_features)\n",
    "\n",
    "print('train_features', train_features.shape)\n",
    "print('train_labels', train_labels.shape)\n",
    "\n",
    "df = pd.read_csv('validate.csv')\n",
    "\n",
    "# test_labels = df['label']\n",
    "# test_labels = np.array(test_labels)\n",
    "# print(test_labels)\n",
    "\n",
    "test_features = df.iloc[:,:22]\n",
    "test_features = np.array(test_features)\n",
    "# print(test_features)\n",
    "\n",
    "print('test_features', test_features.shape)\n",
    "# print('test_labels', test_labels.shape)"
   ]
  },
  {
   "cell_type": "code",
   "execution_count": 2,
   "metadata": {},
   "outputs": [],
   "source": [
    "# 导入包\n",
    "import numpy as np\n",
    "import pandas as pd\n",
    "import matplotlib.pyplot as plt\n",
    "from sklearn.model_selection import train_test_split\n",
    "from sklearn.model_selection import KFold\n",
    "from vecstack import stacking\n",
    "from sklearn.model_selection import GridSearchCV,ParameterGrid\n",
    "from sklearn.svm import SVC\n",
    "from sklearn.linear_model import LogisticRegression\n",
    "from sklearn.tree import DecisionTreeClassifier\n",
    "from sklearn.ensemble import RandomForestClassifier\n",
    "from xgboost import XGBClassifier\n",
    "from sklearn.ensemble import GradientBoostingClassifier\n",
    "from sklearn import metrics\n",
    "import warnings\n",
    "\n",
    "plt.rcParams['font.sans-serif']=['SimHei']\n",
    "plt.rcParams['axes.unicode_minus']=False\n",
    "warnings.filterwarnings('ignore')\n"
   ]
  },
  {
   "cell_type": "code",
   "execution_count": 9,
   "metadata": {},
   "outputs": [
    {
     "name": "stdout",
     "output_type": "stream",
     "text": [
      "rel_knn_algorithm： ball_tree\n",
      "rel_weight： distance\n",
      "rel_nearest_neighbor： 4\n",
      "rel_pre： 0.99375\n"
     ]
    }
   ],
   "source": [
    "#获取准确率最高的rel_knn_algorithm、rel_weight和rel_nearest_neighbor\n",
    "from sklearn import neighbors,decomposition\n",
    "rel_nearest_neighbor = 0\n",
    "rel_knn_algorithm = ''\n",
    "rel_weight = ''\n",
    "knn_algorithms = ['ball_tree', 'kd_tree', 'brute']\n",
    "weights = ['uniform', 'distance']\n",
    "rel_pre = -1\n",
    "\n",
    "for knn_algorithm in knn_algorithms:\n",
    "    #nearest_neighbor参数范围为1-200\n",
    "    for nearest_neighbor in range(1,101):\n",
    "        for weight in weights:\n",
    "            clf = neighbors.KNeighborsClassifier(n_neighbors = nearest_neighbor, weights=weight, algorithm=knn_algorithm)\n",
    "            clf = clf.fit(train_features, train_labels)\n",
    "\n",
    "            pre = clf.predict(test_features)\n",
    "            accuracy = np.sum(pre == test_labels) / pre.shape[0]\n",
    "            #print('knn_algorithm =',knn_algorithm,',nearest_neighbors =', nearest_neighbor,',weight =',weight,  ',accuracy=', accuracy)\n",
    "            if accuracy > rel_pre:\n",
    "                rel_pre = accuracy\n",
    "                rel_knn_algorithm =knn_algorithm\n",
    "                rel_weight = weight\n",
    "                rel_nearest_neighbor = nearest_neighbor\n",
    "\n",
    "print('rel_knn_algorithm：',rel_knn_algorithm)\n",
    "print('rel_weight：',rel_weight)\n",
    "print('rel_nearest_neighbor：',rel_nearest_neighbor)\n",
    "print('rel_pre：',rel_pre)\n",
    "from sklearn import neighbors,decomposition\n",
    "knn_cv = neighbors.KNeighborsClassifier(n_neighbors = rel_nearest_neighbor, weights=rel_weight,\n",
    "                                     algorithm=rel_knn_algorithm)"
   ]
  },
  {
   "cell_type": "code",
   "execution_count": 16,
   "metadata": {},
   "outputs": [],
   "source": [
    "#获取准确率最高的rel_knn_algorithm、rel_weight和rel_nearest_neighbor\n",
    "from sklearn import neighbors,decomposition\n",
    "\n",
    "knn_cv = neighbors.KNeighborsClassifier(n_neighbors = 4, weights='distance',\n",
    "                                     algorithm='ball_tree')\n",
    "dt_cv = tree.DecisionTreeClassifier(max_depth = 17,min_samples_leaf =1)\n"
   ]
  },
  {
   "cell_type": "code",
   "execution_count": 10,
   "metadata": {},
   "outputs": [
    {
     "name": "stdout",
     "output_type": "stream",
     "text": [
      "rel_pre： 0.94375\n",
      "rel_max_depth： 17\n",
      "rel_min_samples_leaf： 1\n"
     ]
    }
   ],
   "source": [
    "from sklearn import tree\n",
    "rel_max_depth = 0\n",
    "rel_min_samples_leaf = 0\n",
    "rel_pre = -1\n",
    "\n",
    "for max_depth in range(1,101):\n",
    "    for min_samples_leaf in range(1,101):\n",
    "        clf = tree.DecisionTreeClassifier(max_depth = max_depth,min_samples_leaf =min_samples_leaf)\n",
    "        clf = clf.fit(train_features, train_labels)\n",
    "\n",
    "        pre = clf.predict(test_features)\n",
    "        accuracy = np.sum(pre == test_labels) / pre.shape[0]\n",
    "#        print('max_depth =',max_depth,',min_samples_leaf =', min_samples_leaf,'accuracy=', accuracy)\n",
    "        if accuracy > rel_pre:\n",
    "            rel_pre = accuracy\n",
    "            rel_max_depth =max_depth\n",
    "            rel_min_samples_leaf = min_samples_leaf\n",
    "print('rel_pre：',rel_pre)\n",
    "print('rel_max_depth：',rel_max_depth)\n",
    "print('rel_min_samples_leaf：',rel_min_samples_leaf)\n",
    "dt_cv = tree.DecisionTreeClassifier(max_depth = rel_max_depth,min_samples_leaf =rel_min_samples_leaf)"
   ]
  },
  {
   "cell_type": "code",
   "execution_count": 11,
   "metadata": {},
   "outputs": [
    {
     "name": "stdout",
     "output_type": "stream",
     "text": [
      "GaussianNB accuracy= 0.9875\n"
     ]
    }
   ],
   "source": [
    "from sklearn.naive_bayes import GaussianNB,MultinomialNB\n",
    "# 创建分类器对象\n",
    "clf = GaussianNB()\n",
    "#用训练数据拟合分类器模型\n",
    "nb_sv = clf.fit(train_features.astype(np.float64), train_labels)\n",
    "#用训练好的分类器去预测test_features数据的标签类\n",
    "label_predict = nb_sv.predict(test_features.astype(np.float64))\n",
    "accuracy = np.sum(label_predict == test_labels) / label_predict.shape[0]\n",
    "\n",
    "print('GaussianNB accuracy=', accuracy)"
   ]
  },
  {
   "cell_type": "code",
   "execution_count": 12,
   "metadata": {
    "scrolled": true
   },
   "outputs": [
    {
     "name": "stdout",
     "output_type": "stream",
     "text": [
      "n_folds = 2 f1_score= 0.975\n",
      "n_folds = 3 f1_score= 0.9875\n",
      "n_folds = 4 f1_score= 0.9875\n",
      "n_folds = 5 f1_score= 0.9875\n",
      "n_folds = 6 f1_score= 0.9875\n",
      "n_folds = 7 f1_score= 0.99375\n",
      "n_folds = 8 f1_score= 0.99375\n",
      "n_folds = 9 f1_score= 0.99375\n",
      "n_folds = 10 f1_score= 0.99375\n",
      "n_folds = 11 f1_score= 0.99375\n",
      "n_folds = 12 f1_score= 0.99375\n",
      "n_folds = 13 f1_score= 0.99375\n",
      "n_folds = 14 f1_score= 0.99375\n",
      "n_folds = 15 f1_score= 0.99375\n",
      "n_folds = 16 f1_score= 0.99375\n",
      "n_folds = 17 f1_score= 0.99375\n",
      "n_folds = 18 f1_score= 0.99375\n",
      "n_folds = 19 f1_score= 0.99375\n",
      "n_folds = 20 f1_score= 0.99375\n",
      "n_folds = 21 f1_score= 0.99375\n",
      "n_folds = 22 f1_score= 0.99375\n",
      "n_folds = 23 f1_score= 0.99375\n",
      "n_folds = 24 f1_score= 0.99375\n",
      "n_folds = 25 f1_score= 0.99375\n",
      "n_folds = 26 f1_score= 0.99375\n",
      "n_folds = 27 f1_score= 0.99375\n",
      "n_folds = 28 f1_score= 0.99375\n",
      "n_folds = 29 f1_score= 0.99375\n",
      "n_folds = 30 f1_score= 0.99375\n",
      "n_folds = 31 f1_score= 0.99375\n",
      "n_folds = 32 f1_score= 0.99375\n",
      "n_folds = 33 f1_score= 0.99375\n",
      "n_folds = 34 f1_score= 0.99375\n",
      "n_folds = 35 f1_score= 0.99375\n",
      "n_folds = 36 f1_score= 0.99375\n",
      "n_folds = 37 f1_score= 0.99375\n",
      "n_folds = 38 f1_score= 0.99375\n",
      "n_folds = 39 f1_score= 0.99375\n",
      "n_folds = 40 f1_score= 0.99375\n",
      "n_folds = 41 f1_score= 0.99375\n",
      "n_folds = 42 f1_score= 0.99375\n",
      "n_folds = 43 f1_score= 0.99375\n",
      "n_folds = 44 f1_score= 0.99375\n",
      "n_folds = 45 f1_score= 0.99375\n",
      "n_folds = 46 f1_score= 0.99375\n",
      "n_folds = 47 f1_score= 0.99375\n",
      "n_folds = 48 f1_score= 0.99375\n",
      "n_folds = 49 f1_score= 0.99375\n",
      "n_folds = 50 f1_score= 0.99375\n",
      "n_folds = 51 f1_score= 0.99375\n",
      "n_folds = 52 f1_score= 0.99375\n",
      "n_folds = 53 f1_score= 0.99375\n",
      "n_folds = 54 f1_score= 0.99375\n",
      "n_folds = 55 f1_score= 0.99375\n",
      "n_folds = 56 f1_score= 0.99375\n",
      "n_folds = 57 f1_score= 0.99375\n",
      "n_folds = 58 f1_score= 0.99375\n",
      "n_folds = 59 f1_score= 0.99375\n",
      "n_folds = 60 f1_score= 0.99375\n",
      "n_folds = 61 f1_score= 0.99375\n",
      "n_folds = 62 f1_score= 0.99375\n",
      "n_folds = 63 f1_score= 0.99375\n",
      "n_folds = 64 f1_score= 0.99375\n",
      "n_folds = 65 f1_score= 0.99375\n",
      "n_folds = 66 f1_score= 0.99375\n",
      "n_folds = 67 f1_score= 0.99375\n",
      "n_folds = 68 f1_score= 0.99375\n",
      "n_folds = 69 f1_score= 0.99375\n",
      "n_folds = 70 f1_score= 0.99375\n",
      "n_folds = 71 f1_score= 0.99375\n",
      "n_folds = 72 f1_score= 0.99375\n",
      "n_folds = 73 f1_score= 0.99375\n",
      "n_folds = 74 f1_score= 0.99375\n",
      "n_folds = 75 f1_score= 0.99375\n",
      "n_folds = 76 f1_score= 0.99375\n",
      "n_folds = 77 f1_score= 0.99375\n",
      "n_folds = 78 f1_score= 0.99375\n",
      "n_folds = 79 f1_score= 0.99375\n",
      "n_folds = 80 f1_score= 0.99375\n",
      "n_folds = 81 f1_score= 0.99375\n",
      "n_folds = 82 f1_score= 0.99375\n",
      "n_folds = 83 f1_score= 0.99375\n",
      "n_folds = 84 f1_score= 0.99375\n",
      "n_folds = 85 f1_score= 0.99375\n",
      "n_folds = 86 f1_score= 0.99375\n",
      "n_folds = 87 f1_score= 0.99375\n",
      "n_folds = 88 f1_score= 0.99375\n",
      "n_folds = 89 f1_score= 0.99375\n",
      "n_folds = 90 f1_score= 0.99375\n",
      "n_folds = 91 f1_score= 0.99375\n",
      "n_folds = 92 f1_score= 0.99375\n",
      "n_folds = 93 f1_score= 0.99375\n",
      "n_folds = 94 f1_score= 0.99375\n",
      "n_folds = 95 f1_score= 0.99375\n",
      "n_folds = 96 f1_score= 0.99375\n",
      "n_folds = 97 f1_score= 0.99375\n",
      "n_folds = 98 f1_score= 0.99375\n",
      "n_folds = 99 f1_score= 0.99375\n",
      "n_folds = 100 f1_score= 0.99375\n"
     ]
    }
   ],
   "source": [
    "# 模型融合\n",
    "model_list = [knn_cv,dt_cv,nb_sv]\n",
    "rel_n_folds = 0\n",
    "rel_pre = -1\n",
    "x = []\n",
    "y = []\n",
    "\n",
    "for n_fold in range(2,101, 1):\n",
    "    S_train, S_test = stacking(model_list, train_features, train_labels,test_features, regression=False, n_folds=7)\n",
    "    # # Initialize 2-nd level model\n",
    "    model = GradientBoostingClassifier(learning_rate = 0.1, n_estimators = 100, max_depth = 1)\n",
    "    # # Fit 2-nd level model\n",
    "    model_s = model.fit(S_train, train_labels)\n",
    "    # # Predict\n",
    "    y_pred = model_s.predict(S_test)\n",
    "    # Final prediction score\n",
    "    f1_score = metrics.f1_score(y_pred, test_labels,average=\"micro\")\n",
    "    x.append(n_fold)\n",
    "    y.append(f1_score)\n",
    "    print('n_folds =',n_fold,'f1_score=', f1_score)\n",
    "    if f1_score >= rel_pre:\n",
    "        rel_pre = f1_score\n",
    "        rel_n_folds = n_fold\n",
    "# acc_score_test = metrics.accuracy_score(y_pred, test_labels)\n",
    "# precision_score_test = metrics.precision_score(y_pred, test_labels, average=\"micro\")\n",
    "# recall_score_test = metrics.recall_score(y_pred, test_labels, average=\"micro\")\n",
    "# f1_score_test = metrics.f1_score(y_pred, test_labels, average=\"micro\")\n",
    "\n",
    "# # scoring='roc_auc'是用来检测定性数据结果的，比如好人坏人，是和否等，即结果为0或1的数据预测\n",
    "# # roc_auc_score_test = metrics.roc_auc_score(y_pred, test_labels,average=\"micro\")\n",
    "\n",
    "# print('Final 测试集准确率：{}\\n'.format(acc_score_test))\n",
    "# print('Final 测试集精确率：{}\\n'.format(precision_score_test))\n",
    "# print('Final 测试集召回率：{}\\n'.format(recall_score_test))\n",
    "# print('Final 测试集f1评分：{}\\n'.format(f1_score_test))\n",
    "# print('Final 测试集AUC值：{}\\n'.format(roc_auc_score_test))\n",
    "        \n",
    "        \n",
    "# model_est(model_dict_s, x_train, x_test, y_train, y_test) \n",
    "\n"
   ]
  },
  {
   "cell_type": "code",
   "execution_count": 21,
   "metadata": {},
   "outputs": [
    {
     "name": "stdout",
     "output_type": "stream",
     "text": [
      "[2, 7, 3, 5, 0, 2, 7, 2, 0, 2, 0, 0, 5, 1, 3, 4, 8, 7, 1, 9, 8, 5, 7, 8, 1, 4, 6, 9, 0, 0, 3, 0, 8, 2, 9, 7, 9, 3, 0, 6, 3, 7, 7, 1, 1, 9, 0, 9, 1, 9, 6, 6, 2, 2, 8, 4, 9, 2, 3, 7, 7, 4, 9, 8, 8, 2, 0, 5, 6, 8, 9, 8, 5, 4, 7, 9, 2, 2, 1, 7, 3, 1, 8, 1, 1, 5, 4, 3, 5, 6, 2, 1, 4, 4, 3, 1, 8, 0, 8, 1]\n"
     ]
    }
   ],
   "source": [
    "# 模型融合\n",
    "model_list = [knn_cv,dt_cv,nb_sv]\n",
    "\n",
    "S_train, S_test = stacking(model_list, train_features, train_labels,test_features, regression=False, n_folds=7)\n",
    "# # Initialize 2-nd level model\n",
    "model = GradientBoostingClassifier(learning_rate = 0.1, n_estimators = 100, max_depth = 1)\n",
    "# # Fit 2-nd level model\n",
    "model_s = model.fit(S_train, train_labels)\n",
    "# # Predict\n",
    "y_pred = model_s.predict(S_test)\n",
    "\n",
    "pred = []\n",
    "for i in y_pred:\n",
    "    pred.append(int(i))\n",
    "print(pred)"
   ]
  },
  {
   "cell_type": "code",
   "execution_count": 24,
   "metadata": {},
   "outputs": [],
   "source": [
    "pred = [2, 7, 3, 5, 0, 2, 7, 2, 0, 2, 0, 0, 5, 1, 3, 4, 8, 7, 1, 9, 8, 5, 7, 8, 1, 4, 6, 9, 0, 0, 3, 0, 8, 2, 9, 7, 9, 3, 0, 6, 3, 7, 7, 1, 1, 9, 0, 9, 1, 9, 6, 6, 2, 2, 8, 4, 9, 2, 5, 7, 7, 4, 9, 8, 8, 2, 0, 5, 6, 8, 5, 8, 5, 4, 7, 9, 2, 2, 1, 7, 3, 1, 8, 1, 1, 5, 4, 3, 5, 6, 2, 1, 4, 4, 3, 1, 8, 0, 8, 1]"
   ]
  },
  {
   "cell_type": "code",
   "execution_count": 25,
   "metadata": {},
   "outputs": [],
   "source": [
    "df = pd.read_csv('validate.csv')\n",
    "df['label']=pred #增加新的列company\n",
    "df.head()\n",
    "#以下保存指定的列到新的csv文件，index=0表示不为每一行自动编号，header=1表示行首有字段名称\n",
    "df.to_csv('验证集预测结果.csv',index=0,header=1)"
   ]
  },
  {
   "cell_type": "code",
   "execution_count": 13,
   "metadata": {},
   "outputs": [
    {
     "name": "stdout",
     "output_type": "stream",
     "text": [
      "0.99375\n"
     ]
    }
   ],
   "source": [
    "print(rel_pre)"
   ]
  },
  {
   "cell_type": "code",
   "execution_count": 68,
   "metadata": {},
   "outputs": [
    {
     "data": {
      "image/png": "[encoded data removed]",
      "text/plain": [
       "<Figure size 1080x432 with 1 Axes>"
      ]
     },
     "metadata": {
      "needs_background": "light"
     },
     "output_type": "display_data"
    }
   ],
   "source": [
    "# -*- coding: utf-8 -*-\n",
    "import numpy as np\n",
    "import matplotlib.pyplot as plt\n",
    "from pylab import *                                 #支持中文\n",
    "mpl.rcParams['font.sans-serif'] = ['SimHei']\n",
    "from matplotlib.pyplot import MultipleLocator\n",
    "#从pyplot导入MultipleLocator类，这个类用于设置刻度间隔\n",
    "\n",
    "#X轴，Y轴数据\n",
    "x = [0,1,2,3,4,5,6,7,8,9]\n",
    "y = [0.98125,1.0,0.9875,0.975,0.975,1.0,0.99375,0.9625,0.9875,0.975]\n",
    "plt.figure(figsize=(15,6)) #创建绘图对象\n",
    "plt.plot(x,y,\"b\",linewidth=2)   #在当前绘图对象绘图（X轴，Y轴，蓝色虚线，线宽度）\n",
    "plt.xticks(size=18)\n",
    "plt.yticks(size=18)\n",
    "plt.xlabel(\"验证集序号\",size=18) #X轴标签\n",
    "plt.ylabel(\"acc\",size=18)  #Y轴标签\n",
    "plt.title(\"模型融合-mfeat-十折验证准确率变化图\",size=18) #图标题\n",
    "\n",
    "# 设置数字标签\n",
    "for a, b in zip(x, y):\n",
    "    plt.text(a, b, b, ha='center', va='bottom',size=16)\n",
    "x_major_locator=MultipleLocator(1)\n",
    "#把x轴的刻度间隔设置为1，并存在变量里\n",
    "ax=plt.gca()\n",
    "#ax为两条坐标轴的实例\n",
    "ax.xaxis.set_major_locator(x_major_locator)\n",
    "plt.xlim(-0.5,9.5)\n",
    "#把x轴的刻度范围设置为-0.5到11，因为0.5不满一个刻度间隔，所以数字不会显示出来，但是能看到一点空白\n",
    "\n",
    "plt.savefig(\"模型融合-mfeat-十折验证.png\") #保存图\n",
    "plt.show()  #显示图"
   ]
  },
  {
   "cell_type": "code",
   "execution_count": 69,
   "metadata": {},
   "outputs": [
    {
     "data": {
      "text/plain": [
       "0.98375"
      ]
     },
     "execution_count": 69,
     "metadata": {},
     "output_type": "execute_result"
    }
   ],
   "source": [
    "mean(y)"
   ]
  },
  {
   "cell_type": "code",
   "execution_count": null,
   "metadata": {},
   "outputs": [],
   "source": []
  }
 ],
 "metadata": {
  "kernelspec": {
   "display_name": "Python 3",
   "language": "python",
   "name": "python3"
  },
  "language_info": {
   "codemirror_mode": {
    "name": "ipython",
    "version": 3
   },
   "file_extension": ".py",
   "mimetype": "text/x-python",
   "name": "python",
   "nbconvert_exporter": "python",
   "pygments_lexer": "ipython3",
   "version": "3.7.4"
  }
 },
 "nbformat": 4,
 "nbformat_minor": 2
}
