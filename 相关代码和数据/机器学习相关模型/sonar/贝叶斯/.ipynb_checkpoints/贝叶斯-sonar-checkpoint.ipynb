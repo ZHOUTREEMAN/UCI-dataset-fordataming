{
 "cells": [
  {
   "cell_type": "code",
   "execution_count": 2,
   "metadata": {},
   "outputs": [
    {
     "name": "stdout",
     "output_type": "stream",
     "text": [
      "lable\n",
      "M    111\n",
      "R     97\n",
      "Name: 60, dtype: int64\n",
      "X.shape (208, 60)\n",
      "y.shape (208,)\n",
      "train_features (187, 60)\n",
      "train_labels (187,)\n",
      "test_features (21, 60)\n",
      "test_labels (21,)\n"
     ]
    }
   ],
   "source": [
    "import numpy as np\n",
    "import pandas as pd\n",
    "from sklearn.model_selection import cross_val_score,train_test_split\n",
    "#数据集路径\n",
    "data_path = 'sonar.all-data'\n",
    "#读入数据集\n",
    "df= pd.read_table(data_path,sep = ',+',header=None, engine='python')\n",
    "#打印数据集标签统计数据\n",
    "#数据第一列为数据的标签\n",
    "print(\"lable\")\n",
    "print(df[60].value_counts())\n",
    "\n",
    "#y为标签列\n",
    "y = df[60]\n",
    "#print(y)\n",
    "#X为去掉标签列的数据\n",
    "X = df.drop([60], axis=1)\n",
    "#print(X)\n",
    "print(\"X.shape\", X.shape)\n",
    "print(\"y.shape\", y.shape)\n",
    "\n",
    "#利用train_test_split方法，将X,y随机划分为训练集（train_data），训练集标签（train_labels），\n",
    "#测试集（test_data），试集标签（test_labels），按训练集：测试集=1:9的概率划分\n",
    "train_features,test_features, train_labels,test_labels= train_test_split(X, y, test_size=0.1, random_state=42)\n",
    "\n",
    "print('train_features', train_features.shape)\n",
    "print('train_labels', train_labels.shape)\n",
    "print('test_features', test_features.shape)\n",
    "print('test_labels', test_labels.shape)"
   ]
  },
  {
   "cell_type": "code",
   "execution_count": 2,
   "metadata": {},
   "outputs": [],
   "source": [
    "import matplotlib.pyplot as plt\n",
    "import time\n",
    "def plotBestFit(data0,data1,save_name):\n",
    "\n",
    "    a = np.shape(data0)[0]\n",
    "    b = np.shape(data1)[0]\n",
    "\n",
    "    \n",
    "    axis_x0 = []\n",
    "    axis_y0 = []    \n",
    "    axis_x1 = []\n",
    "    axis_y1 = []\n",
    "\n",
    "    \n",
    "    for aa in range(a):\n",
    "        axis_x0.append(data0[aa,0])\n",
    "        axis_y0.append(data0[aa,1])\n",
    "    for bb in range(b):\n",
    "        axis_x1.append(data1[bb,0])\n",
    "        axis_y1.append(data1[bb,1])\n",
    "     \n",
    "        \n",
    "    fig = plt.figure()\n",
    "    #ax = Axes3D(fig)\n",
    "    ax = fig.add_subplot(111)\n",
    "    ax.scatter(axis_x0, axis_y0, s=50, c='green', marker='s')\n",
    "    ax.scatter(axis_x1, axis_y1, s=50, c='red', marker='s')\n",
    "\n",
    "    plt.legend(fontsize='small',labels=[ 'R','M'])  \n",
    "    plt.savefig(save_name)\n",
    "    plt.show()"
   ]
  },
  {
   "cell_type": "code",
   "execution_count": 3,
   "metadata": {},
   "outputs": [
    {
     "name": "stdout",
     "output_type": "stream",
     "text": [
      "**********************GaussianNB**********************\n",
      "Training time cost 0.0019948482513427734 s\n",
      "Test time cost 0.0009975433349609375 s\n",
      "GaussianNB accuracy= 0.8095238095238095\n"
     ]
    },
    {
     "data": {
      "image/png": "[encoded data removed]",
      "text/plain": [
       "<Figure size 432x288 with 1 Axes>"
      ]
     },
     "metadata": {
      "needs_background": "light"
     },
     "output_type": "display_data"
    }
   ],
   "source": [
    "from sklearn.naive_bayes import GaussianNB,MultinomialNB\n",
    "import time\n",
    "from sklearn import  decomposition\n",
    "#高斯贝叶斯分类器\n",
    "print('**********************GaussianNB**********************')\n",
    "time_start = time.time()\n",
    "# 创建分类器对象\n",
    "clf = GaussianNB()\n",
    "#用训练数据拟合分类器模型\n",
    "clf = clf.fit(train_features.astype(np.float64), train_labels)\n",
    "time_end = time.time()\n",
    "print('Training time cost',time_end-time_start,'s')\n",
    "\n",
    "time_start = time.time()\n",
    "#用训练好的分类器去预测test_features数据的标签类\n",
    "label_predict = clf.predict(test_features.astype(np.float64))\n",
    "time_end = time.time()\n",
    "accuracy = np.sum(label_predict == test_labels) / label_predict.shape[0]\n",
    "print('Test time cost',time_end-time_start,'s')\n",
    "print('GaussianNB accuracy=', accuracy)\n",
    "\n",
    "#提取主成分进行分析画图\n",
    "pca = decomposition.PCA(n_components=2)\n",
    "X_pca = pca.fit_transform(test_features.astype(np.float64))\n",
    "\n",
    "plotBestFit( X_pca[label_predict == 'R'],X_pca[label_predict == 'M'],\"GaussianNB-matplotlib-sonar.png\")"
   ]
  },
  {
   "cell_type": "code",
   "execution_count": 5,
   "metadata": {},
   "outputs": [
    {
     "name": "stdout",
     "output_type": "stream",
     "text": [
      "**********************MultinomialNB**********************\n",
      "Training time cost 0.05487847328186035 s\n",
      "Test time cost 0.0009982585906982422 s\n",
      "MultinomialNB accuracy= 0.6666666666666666\n"
     ]
    },
    {
     "data": {
      "image/png": "[encoded data removed]",
      "text/plain": [
       "<Figure size 432x288 with 1 Axes>"
      ]
     },
     "metadata": {
      "needs_background": "light"
     },
     "output_type": "display_data"
    }
   ],
   "source": [
    "#多项式贝叶斯分类器\n",
    "print('**********************MultinomialNB**********************')\n",
    "time_start = time.time()\n",
    "# 创建分类器对象\n",
    "clf = MultinomialNB()\n",
    "#用训练数据拟合分类器模型\n",
    "clf = clf.fit(train_features.astype(np.float64), train_labels)\n",
    "time_end = time.time()\n",
    "print('Training time cost',time_end-time_start,'s')\n",
    "\n",
    "time_start = time.time()\n",
    "#用训练好的分类器去预测test_features数据的标签类\n",
    "label_predict = clf.predict(test_features.astype(np.float64))\n",
    "time_end = time.time()\n",
    "accuracy = np.sum(label_predict == test_labels) / label_predict.shape[0]\n",
    "print('Test time cost',time_end-time_start,'s')\n",
    "print('MultinomialNB accuracy=', accuracy)\n",
    "\n",
    "#提取主成分进行分析画图\n",
    "pca = decomposition.PCA(n_components=2)\n",
    "X_pca = pca.fit_transform(test_features.astype(np.float64))\n",
    "\n",
    "plotBestFit( X_pca[label_predict == 'R'],X_pca[label_predict == 'M'],\"MultinomialNB-matplotlib-sonar.png\")"
   ]
  },
  {
   "cell_type": "code",
   "execution_count": null,
   "metadata": {},
   "outputs": [],
   "source": []
  }
 ],
 "metadata": {
  "kernelspec": {
   "display_name": "Python 3",
   "language": "python",
   "name": "python3"
  },
  "language_info": {
   "codemirror_mode": {
    "name": "ipython",
    "version": 3
   },
   "file_extension": ".py",
   "mimetype": "text/x-python",
   "name": "python",
   "nbconvert_exporter": "python",
   "pygments_lexer": "ipython3",
   "version": "3.7.4"
  }
 },
 "nbformat": 4,
 "nbformat_minor": 2
}
