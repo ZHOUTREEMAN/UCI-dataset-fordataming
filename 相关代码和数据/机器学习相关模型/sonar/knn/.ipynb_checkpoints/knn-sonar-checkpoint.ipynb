{
 "cells": [
  {
   "cell_type": "code",
   "execution_count": 1,
   "metadata": {},
   "outputs": [
    {
     "name": "stdout",
     "output_type": "stream",
     "text": [
      "lable\n",
      "M    111\n",
      "R     97\n",
      "Name: 60, dtype: int64\n",
      "X.shape (208, 60)\n",
      "y.shape (208,)\n",
      "train_features (187, 60)\n",
      "train_labels (187,)\n",
      "test_features (21, 60)\n",
      "test_labels (21,)\n"
     ]
    }
   ],
   "source": [
    "import numpy as np\n",
    "import pandas as pd\n",
    "from sklearn.model_selection import cross_val_score,train_test_split\n",
    "#数据集路径\n",
    "data_path = 'sonar.all-data'\n",
    "#读入数据集\n",
    "df= pd.read_table(data_path,sep = ',+',header=None, engine='python')\n",
    "#打印数据集标签统计数据\n",
    "#数据第一列为数据的标签\n",
    "print(\"lable\")\n",
    "print(df[60].value_counts())\n",
    "\n",
    "#y为标签列\n",
    "y = df[60]\n",
    "#print(y)\n",
    "#X为去掉标签列的数据\n",
    "X = df.drop([60], axis=1)\n",
    "#print(X)\n",
    "print(\"X.shape\", X.shape)\n",
    "print(\"y.shape\", y.shape)\n",
    "\n",
    "#利用train_test_split方法，将X,y随机划分为训练集（train_data），训练集标签（train_labels），\n",
    "#测试集（test_data），试集标签（test_labels），按训练集：测试集=1:9的概率划分\n",
    "train_features,test_features, train_labels,test_labels= train_test_split(X, y, test_size=0.1, random_state=42)\n",
    "\n",
    "print('train_features', train_features.shape)\n",
    "print('train_labels', train_labels.shape)\n",
    "print('test_features', test_features.shape)\n",
    "print('test_labels', test_labels.shape)"
   ]
  },
  {
   "cell_type": "code",
   "execution_count": 17,
   "metadata": {},
   "outputs": [
    {
     "name": "stdout",
     "output_type": "stream",
     "text": [
      "rel_knn_algorithm： brute\n",
      "rel_weight： distance\n",
      "rel_nearest_neighbor： 2\n"
     ]
    }
   ],
   "source": [
    "#获取准确率最高的rel_knn_algorithm、rel_weight和rel_nearest_neighbor\n",
    "from sklearn import neighbors,decomposition\n",
    "rel_nearest_neighbor = 0\n",
    "rel_knn_algorithm = ''\n",
    "rel_weight = ''\n",
    "knn_algorithms = ['ball_tree', 'kd_tree', 'brute']\n",
    "weights = ['uniform', 'distance']\n",
    "rel_pre = -1\n",
    "\n",
    "for knn_algorithm in knn_algorithms:\n",
    "    #nearest_neighbor参数范围为1-20\n",
    "    for nearest_neighbor in range(1,int(208 * 0.1)):\n",
    "        for weight in weights:\n",
    "            clf = neighbors.KNeighborsClassifier(n_neighbors = nearest_neighbor, weights=weight, algorithm=knn_algorithm)\n",
    "            clf = clf.fit(train_features, train_labels)\n",
    "\n",
    "            pre = clf.predict(test_features)\n",
    "            accuracy = np.sum(pre == test_labels) / pre.shape[0]\n",
    "            #print('knn_algorithm =',knn_algorithm,',nearest_neighbors =', nearest_neighbor,',weight =',weight,  ',accuracy=', accuracy)\n",
    "            if accuracy >= rel_pre:\n",
    "                rel_pre = accuracy\n",
    "                rel_knn_algorithm =knn_algorithm\n",
    "                rel_weight = weight\n",
    "                rel_nearest_neighbor = nearest_neighbor\n",
    "\n",
    "print('rel_knn_algorithm：',rel_knn_algorithm)\n",
    "print('rel_weight：',rel_weight)\n",
    "print('rel_nearest_neighbor：',rel_nearest_neighbor)"
   ]
  },
  {
   "cell_type": "code",
   "execution_count": 19,
   "metadata": {},
   "outputs": [
    {
     "name": "stdout",
     "output_type": "stream",
     "text": [
      "**********************Result**********************\n",
      "Training time cost 0.0019931793212890625 s\n",
      "Test time cost 0.0009720325469970703 s\n",
      "knn_algorithm = brute ,nearest_neighbors = 2 ,weight = distance ,accuracy= 0.9047619047619048\n"
     ]
    },
    {
     "data": {
      "image/png": "[encoded data removed]",
      "text/plain": [
       "<Figure size 432x288 with 1 Axes>"
      ]
     },
     "metadata": {
      "needs_background": "light"
     },
     "output_type": "display_data"
    }
   ],
   "source": [
    "import matplotlib.pyplot as plt\n",
    "import time\n",
    "def plotBestFit(data0,data1):\n",
    "\n",
    "    a = np.shape(data0)[0]\n",
    "    b = np.shape(data1)[0]\n",
    "\n",
    "    \n",
    "    axis_x0 = []\n",
    "    axis_y0 = []    \n",
    "    axis_x1 = []\n",
    "    axis_y1 = []\n",
    "\n",
    "    \n",
    "    for aa in range(a):\n",
    "        axis_x0.append(data0[aa,0])\n",
    "        axis_y0.append(data0[aa,1])\n",
    "    for bb in range(b):\n",
    "        axis_x1.append(data1[bb,0])\n",
    "        axis_y1.append(data1[bb,1])\n",
    "     \n",
    "        \n",
    "    fig = plt.figure()\n",
    "    #ax = Axes3D(fig)\n",
    "    ax = fig.add_subplot(111)\n",
    "    ax.scatter(axis_x0, axis_y0, s=50, c='green', marker='s')\n",
    "    ax.scatter(axis_x1, axis_y1, s=50, c='red', marker='s')\n",
    "\n",
    "    plt.legend(fontsize='small',labels=[ 'R','M'])  \n",
    "    plt.savefig(\"knn-matplotlib-sonar.png\")\n",
    "    plt.show()\n",
    "    \n",
    "print('**********************Result**********************')\n",
    "time_start = time.time()\n",
    "\n",
    "#创建一个K临近算法的模板\n",
    "clf = neighbors.KNeighborsClassifier(n_neighbors = rel_nearest_neighbor, weights=rel_weight,\n",
    "                                     algorithm=rel_knn_algorithm)\n",
    "\n",
    "#fit函数 使用train_features作为训练数据，train_labels作为目标值（类似于标签）来拟合模型。\n",
    "clf = clf.fit(train_features, train_labels)\n",
    "time_end = time.time()\n",
    "print('Training time cost',time_end-time_start,'s')\n",
    "time_start = time.time()\n",
    "\n",
    "#调用predict函数进行预测\n",
    "label_predict = clf.predict(test_features)\n",
    "time_end = time.time()\n",
    "print('Test time cost',time_end-time_start,'s')\n",
    "accuracy = np.sum(label_predict == test_labels) / label_predict.shape[0]\n",
    "#print(label_predict)\n",
    "print('knn_algorithm =',rel_knn_algorithm,',nearest_neighbors =', rel_nearest_neighbor,',weight =',rel_weight,  ',accuracy=', accuracy)\n",
    "\n",
    "pca = decomposition.PCA(n_components=2)\n",
    "X_pca = pca.fit_transform(test_features.astype(np.float64))\n",
    "\n",
    "plotBestFit(X_pca[label_predict == 'R'],X_pca[label_predict == 'M'])"
   ]
  },
  {
   "cell_type": "code",
   "execution_count": 20,
   "metadata": {},
   "outputs": [
    {
     "name": "stdout",
     "output_type": "stream",
     "text": [
      "Predict_rlt: ['M' 'R' 'R' 'R' 'M' 'M' 'M' 'M' 'R' 'R' 'M' 'R' 'M' 'M' 'M' 'M' 'M' 'M'\n",
      " 'R' 'R' 'M']\n",
      "Correct_no: 19\n",
      "Accuracy: 0.9047619047619048\n",
      "Score_accuracy: 0.829706021811285\n",
      "F1_score： 0.9047619047619048\n",
      "precision： 0.9047619047619048\n",
      "recall： 0.9047619047619048\n"
     ]
    }
   ],
   "source": [
    "from sklearn.neighbors import KNeighborsClassifier\n",
    "from sklearn.model_selection import cross_val_score\n",
    "from sklearn.metrics import f1_score, precision_score, recall_score\n",
    "\"\"\"预测结果\"\"\"\n",
    "print(\"Predict_rlt:\",label_predict)\n",
    "\"\"\"预测准确个数\"\"\"\n",
    "print(\"Correct_no:\",sum(label_predict==test_labels))\n",
    "\"\"\"预测准确率\"\"\"\n",
    "print(\"Accuracy:\",sum(label_predict==test_labels)/len(test_labels))\n",
    "\n",
    "#以下代码用交叉验证的方法计算KNN在该数据集分类预测中的准确性\n",
    "knn = KNeighborsClassifier(n_neighbors=1)\n",
    "score_knn_accuracy = np.mean(cross_val_score(estimator=knn, X=train_features, y=train_labels, cv=5, scoring='accuracy'))\n",
    "print(\"Score_accuracy:\",score_knn_accuracy)\n",
    "\n",
    "F1_score = f1_score( test_labels, label_predict, average='micro' )\n",
    "precision = precision_score(test_labels, label_predict, average='micro')\n",
    "recall = recall_score(test_labels, label_predict, average='micro')\n",
    "\n",
    "print(\"F1_score：\",F1_score)\n",
    "print(\"precision：\",precision)\n",
    "print(\"recall：\",recall)"
   ]
  },
  {
   "cell_type": "code",
   "execution_count": 2,
   "metadata": {},
   "outputs": [
    {
     "name": "stdout",
     "output_type": "stream",
     "text": [
      "rel_nearest_neighbor： 2\n"
     ]
    }
   ],
   "source": [
    "#获取准确率最高的rel_knn_algorithm、rel_weight和rel_nearest_neighbor\n",
    "from sklearn import neighbors,decomposition\n",
    "rel_nearest_neighbor = 0\n",
    "rel_knn_algorithm = ''\n",
    "rel_weight = ''\n",
    "knn_algorithms = ['ball_tree', 'kd_tree', 'brute']\n",
    "weights = ['uniform', 'distance']\n",
    "rel_pre = -1\n",
    "x = []\n",
    "y = []\n",
    "#nearest_neighbor参数范围为1-20\n",
    "for nearest_neighbor in range(1,int(208* 0.1)):\n",
    "    clf = neighbors.KNeighborsClassifier(n_neighbors = nearest_neighbor, weights='distance', algorithm='brute')\n",
    "    clf = clf.fit(train_features, train_labels)\n",
    "\n",
    "    pre = clf.predict(test_features)\n",
    "    accuracy = np.sum(pre == test_labels) / pre.shape[0]\n",
    "    x.append(nearest_neighbor)\n",
    "    y.append(accuracy)\n",
    "    #print('knn_algorithm =',knn_algorithm,',nearest_neighbors =', nearest_neighbor,',weight =',weight,  ',accuracy=', accuracy)\n",
    "    if accuracy >= rel_pre:\n",
    "        rel_pre = accuracy\n",
    "        rel_nearest_neighbor = nearest_neighbor\n",
    "\n",
    "print('rel_nearest_neighbor：',rel_nearest_neighbor)"
   ]
  },
  {
   "cell_type": "code",
   "execution_count": 7,
   "metadata": {},
   "outputs": [
    {
     "data": {
      "image/png": "[encoded data removed]",
      "text/plain": [
       "<Figure size 1080x432 with 1 Axes>"
      ]
     },
     "metadata": {
      "needs_background": "light"
     },
     "output_type": "display_data"
    }
   ],
   "source": [
    "# -*- coding: utf-8 -*-\n",
    "import numpy as np\n",
    "import matplotlib.pyplot as plt\n",
    "from pylab import *                                 #支持中文\n",
    "mpl.rcParams['font.sans-serif'] = ['SimHei']\n",
    "from matplotlib.pyplot import MultipleLocator\n",
    "#从pyplot导入MultipleLocator类，这个类用于设置刻度间隔\n",
    "\n",
    "#X轴，Y轴数据\n",
    "# x = [0,1,2,3,4,5,6]\n",
    "# y = [0.3,0.4,2,5,3,4.5,4]\n",
    "plt.figure(figsize=(15,6)) #创建绘图对象\n",
    "plt.plot(x,y,\"b\",linewidth=2,label=\"weights='distance'\\nalgorithm='brute'\")   #在当前绘图对象绘图（X轴，Y轴，蓝色虚线，线宽度）\n",
    "# plt.xticks(x, x)\n",
    "plt.yticks(size=18)\n",
    "plt.xlabel(\"nearest_neighbor\",size=18) #X轴标签\n",
    "plt.ylabel(\"acc\",size=18)  #Y轴标签\n",
    "plt.title(\"knn-sonar-nearest_neighbor参数-准确率变化图\",size=18) #图标题\n",
    "plt.legend()  # 让图例生效\n",
    "# # 设置数字标签\n",
    "# for a, b in zip(x, y):\n",
    "#     plt.text(a, b, b, ha='center', va='bottom')\n",
    "x_major_locator=MultipleLocator(1)\n",
    "#把x轴的刻度间隔设置为1，并存在变量里\n",
    "ax=plt.gca()\n",
    "#ax为两条坐标轴的实例\n",
    "ax.xaxis.set_major_locator(x_major_locator)\n",
    "plt.xlim(-0.5,20)\n",
    "#把x轴的刻度范围设置为-0.5到11，因为0.5不满一个刻度间隔，所以数字不会显示出来，但是能看到一点空白\n",
    "\n",
    "plt.savefig(\"knn-sonar-nearest_neighbor参数选择图.png\") #保存图\n",
    "plt.show()  #显示图"
   ]
  },
  {
   "cell_type": "code",
   "execution_count": null,
   "metadata": {},
   "outputs": [],
   "source": []
  }
 ],
 "metadata": {
  "kernelspec": {
   "display_name": "Python 3",
   "language": "python",
   "name": "python3"
  },
  "language_info": {
   "codemirror_mode": {
    "name": "ipython",
    "version": 3
   },
   "file_extension": ".py",
   "mimetype": "text/x-python",
   "name": "python",
   "nbconvert_exporter": "python",
   "pygments_lexer": "ipython3",
   "version": "3.7.4"
  }
 },
 "nbformat": 4,
 "nbformat_minor": 2
}
