{
 "cells": [
  {
   "cell_type": "code",
   "execution_count": 1,
   "metadata": {},
   "outputs": [
    {
     "name": "stdout",
     "output_type": "stream",
     "text": [
      "lable\n",
      "M    111\n",
      "R     97\n",
      "Name: 60, dtype: int64\n",
      "X.shape (208, 60)\n",
      "y.shape (208,)\n",
      "train_features (187, 60)\n",
      "train_labels (187,)\n",
      "test_features (21, 60)\n",
      "test_labels (21,)\n"
     ]
    }
   ],
   "source": [
    "import numpy as np\n",
    "import pandas as pd\n",
    "from sklearn.model_selection import cross_val_score,train_test_split\n",
    "#数据集路径\n",
    "data_path = 'sonar.all-data'\n",
    "#读入数据集\n",
    "df= pd.read_table(data_path,sep = ',+',header=None, engine='python')\n",
    "#打印数据集标签统计数据\n",
    "#数据第一列为数据的标签\n",
    "print(\"lable\")\n",
    "print(df[60].value_counts())\n",
    "\n",
    "#y为标签列\n",
    "y = df[60]\n",
    "#print(y)\n",
    "#X为去掉标签列的数据\n",
    "X = df.drop([60], axis=1)\n",
    "#print(X)\n",
    "print(\"X.shape\", X.shape)\n",
    "print(\"y.shape\", y.shape)\n",
    "\n",
    "#利用train_test_split方法，将X,y随机划分为训练集（train_data），训练集标签（train_labels），\n",
    "#测试集（test_data），试集标签（test_labels），按训练集：测试集=1:9的概率划分\n",
    "train_features,test_features, train_labels,test_labels= train_test_split(X, y, test_size=0.1, random_state=42)\n",
    "\n",
    "print('train_features', train_features.shape)\n",
    "print('train_labels', train_labels.shape)\n",
    "print('test_features', test_features.shape)\n",
    "print('test_labels', test_labels.shape)"
   ]
  },
  {
   "cell_type": "code",
   "execution_count": 2,
   "metadata": {},
   "outputs": [
    {
     "name": "stdout",
     "output_type": "stream",
     "text": [
      "[[0.0134 0.0172 0.0178 ... 0.0024 0.0027 0.0041]\n",
      " [0.0307 0.0523 0.0653 ... 0.0121 0.0124 0.0055]\n",
      " [0.0335 0.0134 0.0696 ... 0.0377 0.0126 0.0156]\n",
      " ...\n",
      " [0.0378 0.0318 0.0423 ... 0.0062 0.0043 0.0053]\n",
      " [0.0202 0.0104 0.0325 ... 0.0054 0.0073 0.0054]\n",
      " [0.0388 0.0324 0.0688 ... 0.0068 0.0097 0.0067]]\n",
      "['M' 'M' 'M' 'R' 'R' 'R' 'R' 'M' 'M' 'M' 'R' 'R' 'M' 'M' 'M' 'M' 'M' 'R'\n",
      " 'M' 'R' 'M' 'R' 'M' 'R' 'R' 'M' 'M' 'R' 'R' 'R' 'M' 'R' 'R' 'R' 'R' 'M'\n",
      " 'M' 'R' 'M' 'R' 'M' 'M' 'M' 'M' 'M' 'R' 'R' 'R' 'R' 'R' 'R' 'M' 'M' 'R'\n",
      " 'M' 'M' 'R' 'R' 'M' 'R' 'M' 'R' 'M' 'M' 'M' 'R' 'R' 'R' 'M' 'M' 'R' 'R'\n",
      " 'M' 'R' 'M' 'R' 'R' 'M' 'M' 'R' 'R' 'M' 'M' 'R' 'R' 'M' 'M' 'M' 'R' 'R'\n",
      " 'M' 'M' 'M' 'M' 'M' 'R' 'R' 'M' 'M' 'M' 'R' 'M' 'M' 'R' 'M' 'R' 'R' 'M'\n",
      " 'R' 'M' 'R' 'M' 'M' 'R' 'R' 'M' 'R' 'R' 'M' 'R' 'M' 'R' 'M' 'R' 'M' 'M'\n",
      " 'M' 'M' 'R' 'R' 'R' 'R' 'M' 'R' 'R' 'M' 'M' 'R' 'R' 'R' 'R' 'M' 'M' 'R'\n",
      " 'R' 'M' 'M' 'M' 'M' 'R' 'R' 'M' 'R' 'M' 'M' 'M' 'R' 'R' 'R' 'R' 'R' 'M'\n",
      " 'M' 'M' 'R' 'M' 'M' 'R' 'R' 'M' 'M' 'M' 'M' 'M' 'M' 'R' 'R' 'M' 'M' 'R'\n",
      " 'M' 'R' 'M' 'R' 'R' 'M' 'M' 'M' 'R' 'R' 'R' 'M' 'R' 'M' 'M' 'R' 'M' 'M'\n",
      " 'R' 'M' 'M' 'M' 'M' 'M' 'M' 'R' 'R' 'M']\n",
      "X (208, 60)\n",
      "y (208,)\n"
     ]
    }
   ],
   "source": [
    "X = np.vstack((train_features, test_features))\n",
    "y = np.hstack((train_labels, test_labels))\n",
    "print(X)\n",
    "print(y)\n",
    "print('X', X.shape)\n",
    "print('y', y.shape)"
   ]
  },
  {
   "cell_type": "code",
   "execution_count": 20,
   "metadata": {},
   "outputs": [
    {
     "data": {
      "image/png": "[encoded data removed]",
      "text/plain": [
       "<Figure size 432x288 with 1 Axes>"
      ]
     },
     "metadata": {
      "needs_background": "light"
     },
     "output_type": "display_data"
    },
    {
     "name": "stdout",
     "output_type": "stream",
     "text": [
      "n_clusters=2\n",
      "adjusted_rand_score： 0.006409844785829574\n"
     ]
    }
   ],
   "source": [
    "import numpy as np\n",
    "import matplotlib.pyplot as plt\n",
    "from sklearn.cluster import KMeans\n",
    "from sklearn import metrics\n",
    "\n",
    "y_pred = KMeans(n_clusters=2, random_state=0).fit_predict(X)\n",
    "plt.scatter(X[:, 0], X[:, 1], c=y_pred)\n",
    "plt.show()\n",
    "print('n_clusters=2')\n",
    "print('adjusted_rand_score：',metrics.adjusted_rand_score(y, y_pred))"
   ]
  },
  {
   "cell_type": "code",
   "execution_count": null,
   "metadata": {},
   "outputs": [],
   "source": []
  }
 ],
 "metadata": {
  "kernelspec": {
   "display_name": "Python 3",
   "language": "python",
   "name": "python3"
  },
  "language_info": {
   "codemirror_mode": {
    "name": "ipython",
    "version": 3
   },
   "file_extension": ".py",
   "mimetype": "text/x-python",
   "name": "python",
   "nbconvert_exporter": "python",
   "pygments_lexer": "ipython3",
   "version": "3.7.4"
  }
 },
 "nbformat": 4,
 "nbformat_minor": 2
}
