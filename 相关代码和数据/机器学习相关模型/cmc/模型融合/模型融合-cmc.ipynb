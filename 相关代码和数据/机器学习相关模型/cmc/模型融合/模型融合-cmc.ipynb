{
 "cells": [
  {
   "cell_type": "code",
   "execution_count": 4,
   "metadata": {
    "collapsed": true
   },
   "outputs": [
    {
     "name": "stdout",
     "output_type": "stream",
     "text": [
      "[1 1 1 ... 3 3 3]\n",
      "[[24  2  3 ...  2  3  0]\n",
      " [45  1  3 ...  3  4  0]\n",
      " [43  2  3 ...  3  4  0]\n",
      " ...\n",
      " [39  3  3 ...  1  4  0]\n",
      " [33  3  3 ...  2  2  0]\n",
      " [17  3  3 ...  2  4  0]]\n",
      "train_features (1327, 9)\n",
      "train_labels (1327,)\n",
      "[1 1 1 1 1 1 1 1 1 1 1 1 1 1 1 1 1 1 1 1 1 1 1 1 1 1 1 1 1 1 1 1 1 1 1 1 1\n",
      " 1 1 1 1 1 1 1 1 1 1 1 1 1 1 1 1 1 1 1 1 1 1 1 1 1 2 2 2 2 2 2 2 2 2 2 2 2\n",
      " 2 2 2 2 2 2 2 2 2 2 2 2 2 2 2 2 2 2 2 2 2 3 3 3 3 3 3 3 3 3 3 3 3 3 3 3 3\n",
      " 3 3 3 3 3 3 3 3 3 3 3 3 3 3 3 3 3 3 3 3 3 3 3 3 3 3 3 3 3 3 3 3 3 3 3]\n",
      "[[33  4  4 ...  3  3  0]\n",
      " [32  2  4 ...  3  3  0]\n",
      " [45  1  1 ...  2  2  1]\n",
      " ...\n",
      " [37  4  4 ...  3  4  0]\n",
      " [27  2  2 ...  3  1  0]\n",
      " [28  4  4 ...  1  3  0]]\n",
      "test_features (146, 9)\n",
      "test_labels (146,)\n"
     ]
    }
   ],
   "source": [
    "import numpy as np\n",
    "import pandas as pd\n",
    "df = pd.read_csv('cmc_train.csv')\n",
    "\n",
    "train_labels = df['label']\n",
    "train_labels = np.array(train_labels)\n",
    "print(train_labels)\n",
    "\n",
    "train_features = df.iloc[:,:9]\n",
    "train_features = np.array(train_features)\n",
    "print(train_features)\n",
    "\n",
    "print('train_features', train_features.shape)\n",
    "print('train_labels', train_labels.shape)\n",
    "\n",
    "df = pd.read_csv('cmc_test.csv')\n",
    "\n",
    "test_labels = df['label']\n",
    "test_labels = np.array(test_labels)\n",
    "print(test_labels)\n",
    "\n",
    "test_features = df.iloc[:,:9]\n",
    "test_features = np.array(test_features)\n",
    "print(test_features)\n",
    "\n",
    "print('test_features', test_features.shape)\n",
    "print('test_labels', test_labels.shape)"
   ]
  },
  {
   "cell_type": "code",
   "execution_count": 5,
   "metadata": {},
   "outputs": [],
   "source": [
    "# 导入包\n",
    "import numpy as np\n",
    "import pandas as pd\n",
    "import matplotlib.pyplot as plt\n",
    "from sklearn.model_selection import train_test_split\n",
    "from sklearn.model_selection import KFold\n",
    "from vecstack import stacking\n",
    "from sklearn.model_selection import GridSearchCV,ParameterGrid\n",
    "from sklearn.svm import SVC\n",
    "from sklearn.linear_model import LogisticRegression\n",
    "from sklearn.tree import DecisionTreeClassifier\n",
    "from sklearn.ensemble import RandomForestClassifier\n",
    "from xgboost import XGBClassifier\n",
    "from sklearn.ensemble import GradientBoostingClassifier\n",
    "from sklearn import metrics\n",
    "import warnings\n",
    "\n",
    "plt.rcParams['font.sans-serif']=['SimHei']\n",
    "plt.rcParams['axes.unicode_minus']=False\n",
    "warnings.filterwarnings('ignore')\n"
   ]
  },
  {
   "cell_type": "code",
   "execution_count": 20,
   "metadata": {},
   "outputs": [
    {
     "name": "stdout",
     "output_type": "stream",
     "text": [
      "rel_knn_algorithm： ball_tree\n",
      "rel_weight： uniform\n",
      "rel_nearest_neighbor： 40\n",
      "rel_pre： 0.5958904109589042\n"
     ]
    }
   ],
   "source": [
    "#获取准确率最高的rel_knn_algorithm、rel_weight和rel_nearest_neighbor\n",
    "from sklearn import neighbors,decomposition\n",
    "rel_nearest_neighbor = 0\n",
    "rel_knn_algorithm = ''\n",
    "rel_weight = ''\n",
    "knn_algorithms = ['ball_tree', 'kd_tree', 'brute']\n",
    "weights = ['uniform', 'distance']\n",
    "rel_pre = -1\n",
    "\n",
    "for knn_algorithm in knn_algorithms:\n",
    "    #nearest_neighbor参数范围为1-20\n",
    "    for nearest_neighbor in range(1,201):\n",
    "        for weight in weights:\n",
    "            clf = neighbors.KNeighborsClassifier(n_neighbors = nearest_neighbor, weights=weight, algorithm=knn_algorithm)\n",
    "            clf = clf.fit(train_features, train_labels)\n",
    "\n",
    "            pre = clf.predict(test_features)\n",
    "            accuracy = np.sum(pre == test_labels) / pre.shape[0]\n",
    "            #print('knn_algorithm =',knn_algorithm,',nearest_neighbors =', nearest_neighbor,',weight =',weight,  ',accuracy=', accuracy)\n",
    "            if accuracy > rel_pre:\n",
    "                rel_pre = accuracy\n",
    "                rel_knn_algorithm =knn_algorithm\n",
    "                rel_weight = weight\n",
    "                rel_nearest_neighbor = nearest_neighbor\n",
    "\n",
    "print('rel_knn_algorithm：',rel_knn_algorithm)\n",
    "print('rel_weight：',rel_weight)\n",
    "print('rel_nearest_neighbor：',rel_nearest_neighbor)\n",
    "print('rel_pre：',rel_pre)\n",
    "from sklearn import neighbors,decomposition\n",
    "knn_cv = neighbors.KNeighborsClassifier(n_neighbors = rel_nearest_neighbor, weights=rel_weight,\n",
    "                                     algorithm=rel_knn_algorithm)"
   ]
  },
  {
   "cell_type": "code",
   "execution_count": 16,
   "metadata": {},
   "outputs": [
    {
     "name": "stdout",
     "output_type": "stream",
     "text": [
      "rel_pre： 0.6027397260273972\n",
      "rel_max_depth： 7\n",
      "rel_min_samples_leaf： 21\n"
     ]
    }
   ],
   "source": [
    "from sklearn import tree\n",
    "rel_max_depth = 0\n",
    "rel_min_samples_leaf = 0\n",
    "rel_pre = -1\n",
    "\n",
    "for max_depth in range(1,101,1):\n",
    "    for min_samples_leaf in range(1,101,1):\n",
    "        clf = tree.DecisionTreeClassifier(max_depth = max_depth,min_samples_leaf =min_samples_leaf)\n",
    "        clf = clf.fit(train_features, train_labels)\n",
    "\n",
    "        pre = clf.predict(test_features)\n",
    "        accuracy = np.sum(pre == test_labels) / pre.shape[0]\n",
    "#        print('max_depth =',max_depth,',min_samples_leaf =', min_samples_leaf,'accuracy=', accuracy)\n",
    "        if accuracy > rel_pre:\n",
    "            rel_pre = accuracy\n",
    "            rel_max_depth =max_depth\n",
    "            rel_min_samples_leaf = min_samples_leaf\n",
    "            \n",
    "dt_cv = tree.DecisionTreeClassifier(max_depth = rel_max_depth,min_samples_leaf =rel_min_samples_leaf)\n",
    "print('rel_pre：',rel_pre)\n",
    "print('rel_max_depth：',rel_max_depth)\n",
    "print('rel_min_samples_leaf：',rel_min_samples_leaf)  "
   ]
  },
  {
   "cell_type": "code",
   "execution_count": 17,
   "metadata": {},
   "outputs": [],
   "source": [
    "from sklearn.naive_bayes import GaussianNB,MultinomialNB\n",
    "# 创建分类器对象\n",
    "clf = GaussianNB()\n",
    "#用训练数据拟合分类器模型\n",
    "nb_sv = clf.fit(train_features.astype(np.float64), train_labels)"
   ]
  },
  {
   "cell_type": "code",
   "execution_count": 9,
   "metadata": {},
   "outputs": [
    {
     "name": "stdout",
     "output_type": "stream",
     "text": [
      "n_folds = 350 accuracy= 0.5753424657534246\n",
      "n_folds = 352 accuracy= 0.5753424657534246\n",
      "n_folds = 354 accuracy= 0.5753424657534246\n",
      "n_folds = 356 accuracy= 0.5753424657534246\n",
      "n_folds = 358 accuracy= 0.5684931506849316\n",
      "n_folds = 360 accuracy= 0.5684931506849316\n",
      "n_folds = 362 accuracy= 0.5753424657534246\n",
      "n_folds = 364 accuracy= 0.5753424657534246\n",
      "n_folds = 366 accuracy= 0.5753424657534246\n",
      "n_folds = 368 accuracy= 0.5753424657534246\n",
      "n_folds = 370 accuracy= 0.5753424657534246\n",
      "n_folds = 372 accuracy= 0.5753424657534246\n",
      "n_folds = 374 accuracy= 0.5821917808219178\n",
      "n_folds = 376 accuracy= 0.589041095890411\n",
      "n_folds = 378 accuracy= 0.589041095890411\n",
      "n_folds = 380 accuracy= 0.589041095890411\n",
      "n_folds = 382 accuracy= 0.589041095890411\n",
      "n_folds = 384 accuracy= 0.589041095890411\n",
      "n_folds = 386 accuracy= 0.589041095890411\n",
      "n_folds = 388 accuracy= 0.589041095890411\n",
      "n_folds = 390 accuracy= 0.589041095890411\n",
      "n_folds = 392 accuracy= 0.589041095890411\n",
      "n_folds = 394 accuracy= 0.589041095890411\n",
      "n_folds = 396 accuracy= 0.589041095890411\n",
      "n_folds = 398 accuracy= 0.589041095890411\n",
      "n_folds = 400 accuracy= 0.589041095890411\n",
      "n_folds = 402 accuracy= 0.589041095890411\n",
      "n_folds = 404 accuracy= 0.589041095890411\n",
      "n_folds = 406 accuracy= 0.589041095890411\n",
      "n_folds = 408 accuracy= 0.589041095890411\n",
      "n_folds = 410 accuracy= 0.589041095890411\n",
      "n_folds = 412 accuracy= 0.5821917808219178\n",
      "n_folds = 414 accuracy= 0.589041095890411\n",
      "n_folds = 416 accuracy= 0.589041095890411\n",
      "n_folds = 418 accuracy= 0.589041095890411\n",
      "n_folds = 420 accuracy= 0.589041095890411\n",
      "n_folds = 422 accuracy= 0.589041095890411\n",
      "n_folds = 424 accuracy= 0.589041095890411\n",
      "n_folds = 426 accuracy= 0.589041095890411\n",
      "n_folds = 428 accuracy= 0.589041095890411\n",
      "n_folds = 430 accuracy= 0.589041095890411\n",
      "n_folds = 432 accuracy= 0.589041095890411\n",
      "n_folds = 434 accuracy= 0.589041095890411\n",
      "n_folds = 436 accuracy= 0.589041095890411\n",
      "n_folds = 438 accuracy= 0.589041095890411\n",
      "n_folds = 440 accuracy= 0.589041095890411\n",
      "n_folds = 442 accuracy= 0.589041095890411\n",
      "n_folds = 444 accuracy= 0.5753424657534246\n",
      "n_folds = 446 accuracy= 0.5821917808219178\n",
      "n_folds = 448 accuracy= 0.5821917808219178\n",
      "n_folds = 450 accuracy= 0.5821917808219178\n"
     ]
    }
   ],
   "source": [
    "# 模型融合\n",
    "model_list = [knn_cv,dt_cv,nb_sv]\n",
    "rel_n_folds = 0\n",
    "rel_pre = -1\n",
    "rel_pred = []\n",
    "x = []\n",
    "y = []\n",
    "\n",
    "for n_fold in range(350,452, 2):\n",
    "    S_train, S_test = stacking(model_list, train_features, train_labels,test_features, regression=False, n_folds=n_fold)\n",
    "    # # Initialize 2-nd level model\n",
    "    model = GradientBoostingClassifier(learning_rate = 0.1, n_estimators = 100, max_depth = 5)\n",
    "    # # Fit 2-nd level model\n",
    "    model_s = model.fit(S_train, train_labels)\n",
    "    # # Predict\n",
    "    y_pred = model_s.predict(S_test)\n",
    "    # Final prediction score\n",
    "    accuracy = metrics.accuracy_score(test_labels, y_pred)\n",
    "    x.append(n_fold)\n",
    "    y.append(accuracy)\n",
    "    print('n_folds =',n_fold,'accuracy=', accuracy)\n",
    "    if accuracy >= rel_pre:\n",
    "        rel_pre = accuracy\n",
    "        rel_n_folds = n_fold\n",
    "        rel_pred = y_pred\n",
    "        \n",
    "# acc_score_test = metrics.accuracy_score(y_pred, test_labels)\n",
    "# precision_score_test = metrics.precision_score(y_pred, test_labels, average=\"micro\")\n",
    "# recall_score_test = metrics.recall_score(y_pred, test_labels, average=\"micro\")\n",
    "# f1_score_test = metrics.f1_score(y_pred, test_labels, average=\"micro\")\n",
    "\n",
    "# # scoring='roc_auc'是用来检测定性数据结果的，比如好人坏人，是和否等，即结果为0或1的数据预测\n",
    "# # roc_auc_score_test = metrics.roc_auc_score(y_pred, test_labels,average=\"micro\")\n",
    "\n",
    "# print('Final 测试集准确率：{}\\n'.format(acc_score_test))\n",
    "# print('Final 测试集精确率：{}\\n'.format(precision_score_test))\n",
    "# print('Final 测试集召回率：{}\\n'.format(recall_score_test))\n",
    "# print('Final 测试集f1评分：{}\\n'.format(f1_score_test))\n",
    "# print('Final 测试集AUC值：{}\\n'.format(roc_auc_score_test))\n",
    "        \n",
    "        \n",
    "\n",
    "# model_est(model_dict_s, x_train, x_test, y_train, y_test) \n",
    "\n"
   ]
  },
  {
   "cell_type": "code",
   "execution_count": 10,
   "metadata": {},
   "outputs": [
    {
     "name": "stdout",
     "output_type": "stream",
     "text": [
      "[1 1 1 1 1 1 1 1 1 1 3 1 1 1 1 1 1 1 1 3 1 1 1 1 1 1 1 1 3 1 1 1 3 1 1 1 1\n",
      " 1 1 3 1 1 1 3 1 3 1 1 1 1 1 1 1 1 1 1 1 1 1 2 3 1 3 3 1 1 1 3 1 3 2 1 3 1\n",
      " 3 3 3 3 1 1 3 3 2 3 1 1 3 1 1 1 1 1 1 1 2 1 1 1 1 1 1 1 1 1 3 1 1 1 3 1 1\n",
      " 1 3 1 1 1 1 1 2 1 3 3 1 3 1 3 2 1 1 3 1 1 3 1 1 1 2 3 1 1 1 1 1 3 1 1]\n",
      "[1 1 1 1 1 1 1 1 1 1 1 1 1 1 1 1 1 1 1 1 1 1 1 1 1 1 1 1 1 1 1 1 1 1 1 1 1\n",
      " 1 1 1 1 1 1 1 1 1 1 1 1 1 1 1 1 1 1 1 1 1 1 1 1 1 2 2 2 2 2 2 2 2 2 2 2 2\n",
      " 2 2 2 2 2 2 2 2 2 2 2 2 2 2 2 2 2 2 2 2 2 3 3 3 3 3 3 3 3 3 3 3 3 3 3 3 3\n",
      " 3 3 3 3 3 3 3 3 3 3 3 3 3 3 3 3 3 3 3 3 3 3 3 3 3 3 3 3 3 3 3 3 3 3 3]\n"
     ]
    }
   ],
   "source": [
    "print(rel_pred)\n",
    "print(test_labels)"
   ]
  },
  {
   "cell_type": "code",
   "execution_count": 13,
   "metadata": {},
   "outputs": [
    {
     "data": {
      "image/png": "[encoded data removed]",
      "text/plain": [
       "<Figure size 432x288 with 1 Axes>"
      ]
     },
     "metadata": {
      "needs_background": "light"
     },
     "output_type": "display_data"
    }
   ],
   "source": [
    "import matplotlib.pyplot as plt\n",
    "import time\n",
    "def plotBestFit(data0,data1, data2):\n",
    "\n",
    "    a = np.shape(data0)[0]\n",
    "    b = np.shape(data1)[0]\n",
    "    c = np.shape(data2)[0]\n",
    "\n",
    "    \n",
    "    axis_x0 = []\n",
    "    axis_y0 = []    \n",
    "    axis_x1 = []\n",
    "    axis_y1 = []\n",
    "    axis_x2 = []\n",
    "    axis_y2 = []\n",
    "\n",
    "    \n",
    "    for aa in range(a):\n",
    "        axis_x0.append(data0[aa,0])\n",
    "        axis_y0.append(data0[aa,1])\n",
    "    for bb in range(b):\n",
    "        axis_x1.append(data1[bb,0])\n",
    "        axis_y1.append(data1[bb,1])\n",
    "    for cc in range(c):\n",
    "        axis_x2.append(data2[cc,0])\n",
    "        axis_y2.append(data2[cc,1])\n",
    "     \n",
    "        \n",
    "    fig = plt.figure()\n",
    "    #ax = Axes3D(fig)\n",
    "    ax = fig.add_subplot(111)\n",
    "    ax.scatter(axis_x0, axis_y0, s=50, c='green', marker='s')\n",
    "    ax.scatter(axis_x1, axis_y1, s=50, c='red', marker='s')\n",
    "    ax.scatter(axis_x2, axis_y2,s=50, c='blue')\n",
    "\n",
    "\n",
    "    \n",
    "    #plt.xlabel('x1'); plt.ylabel('x2');\n",
    "    # ax.set_zlabel('Z', fontdict={'size': 15, 'color': 'red'})\n",
    "    # ax.set_ylabel('Y', fontdict={'size': 15, 'color': 'red'})\n",
    "    # ax.set_xlabel('X', fontdict={'size': 15, 'color': 'red'})\n",
    "    # ax.scatter(axis_x1, axis_y1,axis_z1,  c='red', marker='s')\n",
    "    # ax.scatter(axis_x2, axis_y2, axis_z2, c='blue')\n",
    "    plt.legend(fontsize='small',labels=[ '1','2','3'])  \n",
    "    plt.savefig(\"模型融合-cmc-二维点图.png\")\n",
    "    plt.show()\n",
    "    \n",
    "pca = decomposition.PCA(n_components=2)\n",
    "X_pca = pca.fit_transform(test_features.astype(np.float64))\n",
    "plotBestFit(X_pca[y_pred == 1],X_pca[y_pred == 2],X_pca[y_pred == 3])"
   ]
  },
  {
   "cell_type": "code",
   "execution_count": 16,
   "metadata": {},
   "outputs": [
    {
     "data": {
      "image/png": "[encoded data removed]",
      "text/plain": [
       "<Figure size 432x288 with 1 Axes>"
      ]
     },
     "metadata": {
      "needs_background": "light"
     },
     "output_type": "display_data"
    }
   ],
   "source": [
    "plotBestFit(X_pca[ test_labels == 1],X_pca[ test_labels == 2],X_pca[ test_labels == 3])"
   ]
  },
  {
   "cell_type": "code",
   "execution_count": 17,
   "metadata": {},
   "outputs": [
    {
     "data": {
      "image/png": "[encoded data removed]",
      "text/plain": [
       "<Figure size 1080x432 with 1 Axes>"
      ]
     },
     "metadata": {
      "needs_background": "light"
     },
     "output_type": "display_data"
    }
   ],
   "source": [
    "# -*- coding: utf-8 -*-\n",
    "import numpy as np\n",
    "import matplotlib.pyplot as plt\n",
    "from pylab import *                                 #支持中文\n",
    "mpl.rcParams['font.sans-serif'] = ['SimHei']\n",
    "\n",
    "#X轴，Y轴数据\n",
    "# x = [0,1,2,3,4,5,6]\n",
    "# y = [0.3,0.4,2,5,3,4.5,4]\n",
    "plt.figure(figsize=(15,6)) #创建绘图对象\n",
    "plt.plot(x,y,\"b\",linewidth=2)   #在当前绘图对象绘图（X轴，Y轴，蓝色虚线，线宽度）\n",
    "plt.xticks(x, x)\n",
    "plt.yticks(size=18)\n",
    "plt.xlabel(\"n_folds\",size=18) #X轴标签\n",
    "plt.ylabel(\"acc\",size=18)  #Y轴标签\n",
    "plt.title(\"模型融合-cmc-n_folds参数-准确率变化图\",size=18) #图标题\n",
    "# 设置数字标签\n",
    "# for a, b in zip(x, y):\n",
    "#     plt.text(a, b, b, ha='center', va='bottom')\n",
    "\n",
    "\n",
    "\n",
    "plt.savefig(\"模型融合-cmc-n_folds参数选择图.png\") #保存图\n",
    "plt.show()  #显示图"
   ]
  },
  {
   "cell_type": "code",
   "execution_count": 27,
   "metadata": {},
   "outputs": [
    {
     "name": "stdout",
     "output_type": "stream",
     "text": [
      "Final 测试集准确率：0.589041095890411\n",
      "\n",
      "Final 测试集精确率：0.589041095890411\n",
      "\n",
      "Final 测试集召回率：0.589041095890411\n",
      "\n",
      "Final 测试集f1评分：0.589041095890411\n",
      "\n"
     ]
    }
   ],
   "source": [
    "# 模型融合\n",
    "model_list = [knn_cv,dt_cv,nb_sv]\n",
    "S_train, S_test = stacking(model_list, train_features, train_labels,test_features, regression=False, n_folds=400)\n",
    "\n",
    "# # Initialize 2-nd level model\n",
    "model = GradientBoostingClassifier(learning_rate = 0.1, n_estimators = 100, max_depth = 5)\n",
    "\n",
    "# # Fit 2-nd level model\n",
    "model_s = model.fit(S_train, train_labels)\n",
    "\n",
    "# # Predict\n",
    "y_pred = model_s.predict(S_test)\n",
    "\n",
    "# Final prediction score\n",
    "# print('Final prediction score: [%.8f]' % metrics.accuracy_score(y_test, y_pred))\n",
    "acc_score_test = metrics.accuracy_score(y_pred, test_labels)\n",
    "precision_score_test = metrics.precision_score(y_pred, test_labels,average=\"micro\")\n",
    "recall_score_test = metrics.recall_score(y_pred, test_labels,average=\"micro\")\n",
    "f1_score_test = metrics.f1_score(y_pred, test_labels,average=\"micro\")\n",
    "# roc_auc_score_test = metrics.roc_auc_score(y_pred, test_labels)\n",
    "\n",
    "print('Final 测试集准确率：{}\\n'.format(acc_score_test))\n",
    "print('Final 测试集精确率：{}\\n'.format(precision_score_test))\n",
    "print('Final 测试集召回率：{}\\n'.format(recall_score_test))\n",
    "print('Final 测试集f1评分：{}\\n'.format(f1_score_test))\n",
    "# print('Final 测试集AUC值：{}\\n'.format(roc_auc_score_test))\n",
    "        \n",
    "        \n",
    "\n",
    "# model_est(model_dict_s, x_train, x_test, y_train, y_test) \n",
    "\n"
   ]
  },
  {
   "cell_type": "code",
   "execution_count": null,
   "metadata": {},
   "outputs": [],
   "source": []
  }
 ],
 "metadata": {
  "kernelspec": {
   "display_name": "Python 3",
   "language": "python",
   "name": "python3"
  },
  "language_info": {
   "codemirror_mode": {
    "name": "ipython",
    "version": 3
   },
   "file_extension": ".py",
   "mimetype": "text/x-python",
   "name": "python",
   "nbconvert_exporter": "python",
   "pygments_lexer": "ipython3",
   "version": "3.7.4"
  }
 },
 "nbformat": 4,
 "nbformat_minor": 2
}
