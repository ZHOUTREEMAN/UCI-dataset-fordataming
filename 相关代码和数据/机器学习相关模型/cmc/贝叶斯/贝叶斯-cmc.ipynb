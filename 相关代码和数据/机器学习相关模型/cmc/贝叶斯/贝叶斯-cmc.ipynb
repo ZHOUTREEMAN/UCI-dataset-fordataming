{
 "cells": [
  {
   "cell_type": "code",
   "execution_count": 1,
   "metadata": {
    "collapsed": true
   },
   "outputs": [
    {
     "name": "stdout",
     "output_type": "stream",
     "text": [
      "[1 1 1 ... 3 3 3]\n",
      "[[24  2  3 ...  2  3  0]\n",
      " [45  1  3 ...  3  4  0]\n",
      " [43  2  3 ...  3  4  0]\n",
      " ...\n",
      " [39  3  3 ...  1  4  0]\n",
      " [33  3  3 ...  2  2  0]\n",
      " [17  3  3 ...  2  4  0]]\n",
      "train_features (1327, 9)\n",
      "train_labels (1327,)\n",
      "[1 1 1 1 1 1 1 1 1 1 1 1 1 1 1 1 1 1 1 1 1 1 1 1 1 1 1 1 1 1 1 1 1 1 1 1 1\n",
      " 1 1 1 1 1 1 1 1 1 1 1 1 1 1 1 1 1 1 1 1 1 1 1 1 1 2 2 2 2 2 2 2 2 2 2 2 2\n",
      " 2 2 2 2 2 2 2 2 2 2 2 2 2 2 2 2 2 2 2 2 2 3 3 3 3 3 3 3 3 3 3 3 3 3 3 3 3\n",
      " 3 3 3 3 3 3 3 3 3 3 3 3 3 3 3 3 3 3 3 3 3 3 3 3 3 3 3 3 3 3 3 3 3 3 3]\n",
      "[[33  4  4 ...  3  3  0]\n",
      " [32  2  4 ...  3  3  0]\n",
      " [45  1  1 ...  2  2  1]\n",
      " ...\n",
      " [37  4  4 ...  3  4  0]\n",
      " [27  2  2 ...  3  1  0]\n",
      " [28  4  4 ...  1  3  0]]\n",
      "test_features (146, 9)\n",
      "test_labels (146,)\n"
     ]
    }
   ],
   "source": [
    "import numpy as np\n",
    "import pandas as pd\n",
    "df = pd.read_csv('cmc_train.csv')\n",
    "\n",
    "train_labels = df['label']\n",
    "train_labels = np.array(train_labels)\n",
    "print(train_labels)\n",
    "\n",
    "train_features = df.iloc[:,:9]\n",
    "train_features = np.array(train_features)\n",
    "print(train_features)\n",
    "\n",
    "print('train_features', train_features.shape)\n",
    "print('train_labels', train_labels.shape)\n",
    "\n",
    "df = pd.read_csv('cmc_test.csv')\n",
    "\n",
    "test_labels = df['label']\n",
    "test_labels = np.array(test_labels)\n",
    "print(test_labels)\n",
    "\n",
    "test_features = df.iloc[:,:9]\n",
    "test_features = np.array(test_features)\n",
    "print(test_features)\n",
    "\n",
    "print('test_features', test_features.shape)\n",
    "print('test_labels', test_labels.shape)"
   ]
  },
  {
   "cell_type": "code",
   "execution_count": 5,
   "metadata": {},
   "outputs": [],
   "source": [
    "import matplotlib.pyplot as plt\n",
    "import time\n",
    "def plotBestFit(data0,data1, data2,save_name):\n",
    "\n",
    "    a = np.shape(data0)[0]\n",
    "    b = np.shape(data1)[0]\n",
    "    c = np.shape(data2)[0]\n",
    "\n",
    "    \n",
    "    axis_x0 = []\n",
    "    axis_y0 = []    \n",
    "    axis_x1 = []\n",
    "    axis_y1 = []\n",
    "    axis_x2 = []\n",
    "    axis_y2 = []\n",
    "\n",
    "    \n",
    "    for aa in range(a):\n",
    "        axis_x0.append(data0[aa,0])\n",
    "        axis_y0.append(data0[aa,1])\n",
    "    for bb in range(b):\n",
    "        axis_x1.append(data1[bb,0])\n",
    "        axis_y1.append(data1[bb,1])\n",
    "    for cc in range(c):\n",
    "        axis_x2.append(data2[cc,0])\n",
    "        axis_y2.append(data2[cc,1])\n",
    "     \n",
    "        \n",
    "    fig = plt.figure()\n",
    "    #ax = Axes3D(fig)\n",
    "    ax = fig.add_subplot(111)\n",
    "    ax.scatter(axis_x0, axis_y0, s=50, c='green', marker='s')\n",
    "    ax.scatter(axis_x1, axis_y1, s=50, c='red', marker='s')\n",
    "    ax.scatter(axis_x2, axis_y2,s=50, c='blue')\n",
    "\n",
    "\n",
    "    \n",
    "    #plt.xlabel('x1'); plt.ylabel('x2');\n",
    "    # ax.set_zlabel('Z', fontdict={'size': 15, 'color': 'red'})\n",
    "    # ax.set_ylabel('Y', fontdict={'size': 15, 'color': 'red'})\n",
    "    # ax.set_xlabel('X', fontdict={'size': 15, 'color': 'red'})\n",
    "    # ax.scatter(axis_x1, axis_y1,axis_z1,  c='red', marker='s')\n",
    "    # ax.scatter(axis_x2, axis_y2, axis_z2, c='blue')\n",
    "    plt.legend(fontsize='small',labels=[ '1','2','3'])  \n",
    "    plt.savefig(save_name)\n",
    "    plt.show()"
   ]
  },
  {
   "cell_type": "code",
   "execution_count": 6,
   "metadata": {},
   "outputs": [
    {
     "name": "stdout",
     "output_type": "stream",
     "text": [
      "**********************GaussianNB**********************\n",
      "Training time cost 0.0019969940185546875 s\n",
      "Test time cost 0.001997232437133789 s\n",
      "GaussianNB accuracy= 0.4315068493150685\n"
     ]
    },
    {
     "data": {
      "image/png": "[encoded data removed]",
      "text/plain": [
       "<Figure size 432x288 with 1 Axes>"
      ]
     },
     "metadata": {
      "needs_background": "light"
     },
     "output_type": "display_data"
    }
   ],
   "source": [
    "from sklearn.naive_bayes import GaussianNB,MultinomialNB\n",
    "import time\n",
    "from sklearn import  decomposition\n",
    "#高斯贝叶斯分类器\n",
    "print('**********************GaussianNB**********************')\n",
    "time_start = time.time()\n",
    "# 创建分类器对象\n",
    "clf = GaussianNB()\n",
    "#用训练数据拟合分类器模型\n",
    "clf = clf.fit(train_features.astype(np.float64), train_labels)\n",
    "time_end = time.time()\n",
    "print('Training time cost',time_end-time_start,'s')\n",
    "\n",
    "time_start = time.time()\n",
    "#用训练好的分类器去预测test_features数据的标签类\n",
    "label_predict = clf.predict(test_features.astype(np.float64))\n",
    "time_end = time.time()\n",
    "accuracy = np.sum(label_predict == test_labels) / label_predict.shape[0]\n",
    "print('Test time cost',time_end-time_start,'s')\n",
    "print('GaussianNB accuracy=', accuracy)\n",
    "\n",
    "#提取主成分进行分析画图\n",
    "pca = decomposition.PCA(n_components=2)\n",
    "X_pca = pca.fit_transform(test_features.astype(np.float64))\n",
    "\n",
    "plotBestFit( X_pca[label_predict == 1],X_pca[label_predict == 2],X_pca[label_predict == 3],\n",
    "            \"GaussianNB-matplotlib.png\")"
   ]
  },
  {
   "cell_type": "code",
   "execution_count": 7,
   "metadata": {},
   "outputs": [
    {
     "name": "stdout",
     "output_type": "stream",
     "text": [
      "**********************MultinomialNB**********************\n",
      "Training time cost 0.07180905342102051 s\n",
      "Test time cost 0.0009968280792236328 s\n",
      "MultinomialNB accuracy= 0.4931506849315068\n"
     ]
    },
    {
     "data": {
      "image/png": "[encoded data removed]",
      "text/plain": [
       "<Figure size 432x288 with 1 Axes>"
      ]
     },
     "metadata": {
      "needs_background": "light"
     },
     "output_type": "display_data"
    }
   ],
   "source": [
    "#多项式贝叶斯分类器\n",
    "print('**********************MultinomialNB**********************')\n",
    "time_start = time.time()\n",
    "# 创建分类器对象\n",
    "clf = MultinomialNB()\n",
    "#用训练数据拟合分类器模型\n",
    "clf = clf.fit(train_features.astype(np.float64), train_labels)\n",
    "time_end = time.time()\n",
    "print('Training time cost',time_end-time_start,'s')\n",
    "\n",
    "time_start = time.time()\n",
    "#用训练好的分类器去预测test_features数据的标签类\n",
    "label_predict = clf.predict(test_features.astype(np.float64))\n",
    "time_end = time.time()\n",
    "accuracy = np.sum(label_predict == test_labels) / label_predict.shape[0]\n",
    "print('Test time cost',time_end-time_start,'s')\n",
    "print('MultinomialNB accuracy=', accuracy)\n",
    "\n",
    "#提取主成分进行分析画图\n",
    "pca = decomposition.PCA(n_components=2)\n",
    "X_pca = pca.fit_transform(test_features.astype(np.float64))\n",
    "\n",
    "plotBestFit( X_pca[label_predict == 1],X_pca[label_predict == 2],X_pca[label_predict == 3],\n",
    "            \"MultinomialNB-matplotlib.png\")"
   ]
  },
  {
   "cell_type": "code",
   "execution_count": null,
   "metadata": {},
   "outputs": [],
   "source": []
  }
 ],
 "metadata": {
  "kernelspec": {
   "display_name": "Python 3",
   "language": "python",
   "name": "python3"
  },
  "language_info": {
   "codemirror_mode": {
    "name": "ipython",
    "version": 3
   },
   "file_extension": ".py",
   "mimetype": "text/x-python",
   "name": "python",
   "nbconvert_exporter": "python",
   "pygments_lexer": "ipython3",
   "version": "3.7.4"
  }
 },
 "nbformat": 4,
 "nbformat_minor": 2
}
