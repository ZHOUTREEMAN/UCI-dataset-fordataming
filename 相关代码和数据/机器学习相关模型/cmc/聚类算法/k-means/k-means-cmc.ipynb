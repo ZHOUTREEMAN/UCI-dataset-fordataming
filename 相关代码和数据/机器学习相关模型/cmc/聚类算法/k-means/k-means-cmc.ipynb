{
 "cells": [
  {
   "cell_type": "code",
   "execution_count": 2,
   "metadata": {},
   "outputs": [
    {
     "name": "stdout",
     "output_type": "stream",
     "text": [
      "train_features (1327, 9)\n",
      "train_labels (1327,)\n",
      "test_features (146, 9)\n",
      "test_labels (146,)\n",
      "[[24  2  3 ...  2  3  0]\n",
      " [45  1  3 ...  3  4  0]\n",
      " [43  2  3 ...  3  4  0]\n",
      " ...\n",
      " [37  4  4 ...  3  4  0]\n",
      " [27  2  2 ...  3  1  0]\n",
      " [28  4  4 ...  1  3  0]]\n",
      "[1 1 1 ... 3 3 3]\n",
      "X (1473, 9)\n",
      "y (1473,)\n"
     ]
    }
   ],
   "source": [
    "import numpy as np\n",
    "import pandas as pd\n",
    "df = pd.read_csv('cmc_train.csv')\n",
    "\n",
    "train_labels = df['label']\n",
    "train_labels = np.array(train_labels)\n",
    "# print(train_labels)\n",
    "\n",
    "train_features = df.iloc[:,:9]\n",
    "train_features = np.array(train_features)\n",
    "# print(train_features)\n",
    "\n",
    "print('train_features', train_features.shape)\n",
    "print('train_labels', train_labels.shape)\n",
    "\n",
    "df = pd.read_csv('cmc_test.csv')\n",
    "\n",
    "test_labels = df['label']\n",
    "test_labels = np.array(test_labels)\n",
    "# print(test_labels)\n",
    "\n",
    "test_features = df.iloc[:,:9]\n",
    "test_features = np.array(test_features)\n",
    "# print(test_features)\n",
    "\n",
    "print('test_features', test_features.shape)\n",
    "print('test_labels', test_labels.shape)\n",
    "\n",
    "X = np.vstack((train_features, test_features))\n",
    "y = np.hstack((train_labels, test_labels))\n",
    "print(X)\n",
    "print(y)\n",
    "print('X', X.shape)\n",
    "print('y', y.shape)"
   ]
  },
  {
   "cell_type": "code",
   "execution_count": 3,
   "metadata": {},
   "outputs": [
    {
     "data": {
      "image/png": "[encoded data removed]",
      "text/plain": [
       "<Figure size 432x288 with 1 Axes>"
      ]
     },
     "metadata": {
      "needs_background": "light"
     },
     "output_type": "display_data"
    },
    {
     "name": "stdout",
     "output_type": "stream",
     "text": [
      "n_clusters=5\n",
      "adjusted_rand_score： 0.020005580119491956\n"
     ]
    }
   ],
   "source": [
    "import numpy as np\n",
    "import matplotlib.pyplot as plt\n",
    "from sklearn.cluster import KMeans\n",
    "from sklearn import metrics\n",
    "\n",
    "y_pred = KMeans(n_clusters=5, random_state=9).fit_predict(X)\n",
    "plt.scatter(X[:, 1], X[:, 2], c=y_pred)\n",
    "plt.show()\n",
    "print('n_clusters=5')\n",
    "print('adjusted_rand_score：',metrics.adjusted_rand_score(y, y_pred))"
   ]
  },
  {
   "cell_type": "code",
   "execution_count": null,
   "metadata": {},
   "outputs": [],
   "source": []
  }
 ],
 "metadata": {
  "kernelspec": {
   "display_name": "Python 3",
   "language": "python",
   "name": "python3"
  },
  "language_info": {
   "codemirror_mode": {
    "name": "ipython",
    "version": 3
   },
   "file_extension": ".py",
   "mimetype": "text/x-python",
   "name": "python",
   "nbconvert_exporter": "python",
   "pygments_lexer": "ipython3",
   "version": "3.7.4"
  }
 },
 "nbformat": 4,
 "nbformat_minor": 2
}
